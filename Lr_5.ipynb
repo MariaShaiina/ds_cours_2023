{
 "cells": [
  {
   "cell_type": "markdown",
   "id": "e8c17432",
   "metadata": {},
   "source": [
    "# Лабораторная работа №5: Деревья решений\n",
    "--------------\n",
    "### Шаина Мария 6132-010402D"
   ]
  },
  {
   "cell_type": "code",
   "execution_count": 1,
   "id": "a000ef9d",
   "metadata": {},
   "outputs": [],
   "source": [
    "# Импортируем необходимые библиотеки и модули \n",
    "import numpy as np\n",
    "import pandas as pd\n",
    "import sklearn\n",
    "\n",
    "from sklearn.preprocessing import StandardScaler\n",
    "from sklearn.pipeline import make_pipeline\n",
    "\n",
    "from sklearn.model_selection import train_test_split, GridSearchCV,  cross_val_score\n",
    "from sklearn.ensemble import RandomForestClassifier\n",
    "\n",
    "from sklearn.tree import DecisionTreeClassifier\n",
    "from sklearn.neighbors import KNeighborsClassifier\n",
    "from sklearn.metrics import accuracy_score\n",
    "\n",
    "from sklearn.datasets import load_wine, make_classification\n",
    "import matplotlib.pyplot as plt"
   ]
  },
  {
   "cell_type": "markdown",
   "id": "5abcc055",
   "metadata": {},
   "source": [
    "1.0. Для вашего датасета преобразовать категориальные признаки в бинарные с помощью `pd.factorize` / `pd.get_dummies`"
   ]
  },
  {
   "cell_type": "code",
   "execution_count": 2,
   "id": "d3ab20a7",
   "metadata": {},
   "outputs": [
    {
     "name": "stdout",
     "output_type": "stream",
     "text": [
      ".. _wine_dataset:\n",
      "\n",
      "Wine recognition dataset\n",
      "------------------------\n",
      "\n",
      "**Data Set Characteristics:**\n",
      "\n",
      "    :Number of Instances: 178\n",
      "    :Number of Attributes: 13 numeric, predictive attributes and the class\n",
      "    :Attribute Information:\n",
      " \t\t- Alcohol\n",
      " \t\t- Malic acid\n",
      " \t\t- Ash\n",
      "\t\t- Alcalinity of ash  \n",
      " \t\t- Magnesium\n",
      "\t\t- Total phenols\n",
      " \t\t- Flavanoids\n",
      " \t\t- Nonflavanoid phenols\n",
      " \t\t- Proanthocyanins\n",
      "\t\t- Color intensity\n",
      " \t\t- Hue\n",
      " \t\t- OD280/OD315 of diluted wines\n",
      " \t\t- Proline\n",
      "\n",
      "    - class:\n",
      "            - class_0\n",
      "            - class_1\n",
      "            - class_2\n",
      "\t\t\n",
      "    :Summary Statistics:\n",
      "    \n",
      "    ============================= ==== ===== ======= =====\n",
      "                                   Min   Max   Mean     SD\n",
      "    ============================= ==== ===== ======= =====\n",
      "    Alcohol:                      11.0  14.8    13.0   0.8\n",
      "    Malic Acid:                   0.74  5.80    2.34  1.12\n",
      "    Ash:                          1.36  3.23    2.36  0.27\n",
      "    Alcalinity of Ash:            10.6  30.0    19.5   3.3\n",
      "    Magnesium:                    70.0 162.0    99.7  14.3\n",
      "    Total Phenols:                0.98  3.88    2.29  0.63\n",
      "    Flavanoids:                   0.34  5.08    2.03  1.00\n",
      "    Nonflavanoid Phenols:         0.13  0.66    0.36  0.12\n",
      "    Proanthocyanins:              0.41  3.58    1.59  0.57\n",
      "    Colour Intensity:              1.3  13.0     5.1   2.3\n",
      "    Hue:                          0.48  1.71    0.96  0.23\n",
      "    OD280/OD315 of diluted wines: 1.27  4.00    2.61  0.71\n",
      "    Proline:                       278  1680     746   315\n",
      "    ============================= ==== ===== ======= =====\n",
      "\n",
      "    :Missing Attribute Values: None\n",
      "    :Class Distribution: class_0 (59), class_1 (71), class_2 (48)\n",
      "    :Creator: R.A. Fisher\n",
      "    :Donor: Michael Marshall (MARSHALL%PLU@io.arc.nasa.gov)\n",
      "    :Date: July, 1988\n",
      "\n",
      "This is a copy of UCI ML Wine recognition datasets.\n",
      "https://archive.ics.uci.edu/ml/machine-learning-databases/wine/wine.data\n",
      "\n",
      "The data is the results of a chemical analysis of wines grown in the same\n",
      "region in Italy by three different cultivators. There are thirteen different\n",
      "measurements taken for different constituents found in the three types of\n",
      "wine.\n",
      "\n",
      "Original Owners: \n",
      "\n",
      "Forina, M. et al, PARVUS - \n",
      "An Extendible Package for Data Exploration, Classification and Correlation. \n",
      "Institute of Pharmaceutical and Food Analysis and Technologies,\n",
      "Via Brigata Salerno, 16147 Genoa, Italy.\n",
      "\n",
      "Citation:\n",
      "\n",
      "Lichman, M. (2013). UCI Machine Learning Repository\n",
      "[https://archive.ics.uci.edu/ml]. Irvine, CA: University of California,\n",
      "School of Information and Computer Science. \n",
      "\n",
      ".. topic:: References\n",
      "\n",
      "  (1) S. Aeberhard, D. Coomans and O. de Vel, \n",
      "  Comparison of Classifiers in High Dimensional Settings, \n",
      "  Tech. Rep. no. 92-02, (1992), Dept. of Computer Science and Dept. of  \n",
      "  Mathematics and Statistics, James Cook University of North Queensland. \n",
      "  (Also submitted to Technometrics). \n",
      "\n",
      "  The data was used with many others for comparing various \n",
      "  classifiers. The classes are separable, though only RDA \n",
      "  has achieved 100% correct classification. \n",
      "  (RDA : 100%, QDA 99.4%, LDA 98.9%, 1NN 96.1% (z-transformed data)) \n",
      "  (All results using the leave-one-out technique) \n",
      "\n",
      "  (2) S. Aeberhard, D. Coomans and O. de Vel, \n",
      "  \"THE CLASSIFICATION PERFORMANCE OF RDA\" \n",
      "  Tech. Rep. no. 92-01, (1992), Dept. of Computer Science and Dept. of \n",
      "  Mathematics and Statistics, James Cook University of North Queensland. \n",
      "  (Also submitted to Journal of Chemometrics).\n",
      "\n"
     ]
    }
   ],
   "source": [
    "data = load_wine()\n",
    "\n",
    "# Значение ключа DESCR – это краткое описание набора данных\n",
    "print(data['DESCR'])"
   ]
  },
  {
   "cell_type": "markdown",
   "id": "7f34cd10",
   "metadata": {},
   "source": [
    "1.1. С помощью sklearn.preprocessing.StandardScaler нормализовать значения признаков и построить для нормализовапнного датасета `KNeighborsClassifier` (без использования конвееров)"
   ]
  },
  {
   "cell_type": "code",
   "execution_count": 3,
   "id": "12ddda0d",
   "metadata": {},
   "outputs": [
    {
     "data": {
      "image/png": "[encoded data removed]",
      "text/plain": [
       "<Figure size 640x480 with 1 Axes>"
      ]
     },
     "metadata": {},
     "output_type": "display_data"
    }
   ],
   "source": [
    "X, y = data.data, data.target\n",
    "\n",
    "# Разделение данных на обучающий и тестовый наборы\n",
    "X_train, X_test, y_train, y_test = train_test_split(X, y, test_size=0.33)\n",
    "\n",
    "scaler = StandardScaler()\n",
    "X_train_scaled = scaler.fit_transform(X_train)\n",
    "X_test_scaled =  scaler.transform(X_test)\n",
    "\n",
    "training_accuracy = []\n",
    "test_accuracy = []\n",
    "# пробуем n_neighbors от 1 до 10\n",
    "neighbors_settings = range(1, 11)\n",
    "for n_neighbors in neighbors_settings:\n",
    "  # строим модель\n",
    "  knn = KNeighborsClassifier( n_neighbors = n_neighbors )\n",
    "  knn.fit( X_train_scaled, y_train )\n",
    " # записываем правильность на обучающем наборе\n",
    "  training_accuracy.append( knn.score(X_train_scaled, y_train) )\n",
    "  # записываем правильность на тестовом наборе\n",
    "  test_accuracy.append( knn.score(X_test_scaled, y_test) )\n",
    "\n",
    "plt.plot( neighbors_settings, training_accuracy, label=\"правильность на обучающем наборе\" )\n",
    "plt.plot( neighbors_settings, test_accuracy, label=\"правильность на тестовом наборе\" )\n",
    "plt.ylabel(\"Правильность\")\n",
    "plt.xlabel(\"количество соседей\")\n",
    "g = plt.legend()"
   ]
  },
  {
   "cell_type": "markdown",
   "id": "ef12728a",
   "metadata": {},
   "source": [
    "1.2. То же самое и использованием `sklearn.pipeline.Pipeline`"
   ]
  },
  {
   "cell_type": "code",
   "execution_count": 4,
   "id": "6f62bfcb",
   "metadata": {},
   "outputs": [
    {
     "data": {
      "image/png": "[encoded data removed]",
      "text/plain": [
       "<Figure size 640x480 with 1 Axes>"
      ]
     },
     "metadata": {},
     "output_type": "display_data"
    }
   ],
   "source": [
    "test_std_accuracy = []\n",
    "neighbors_settings = range(1, 11)\n",
    "for n_neighbors in neighbors_settings:\n",
    "    # Создание модели на методе k-ближайших соседей pipeline\n",
    "    pipe = make_pipeline(StandardScaler(), KNeighborsClassifier(n_neighbors = n_neighbors))\n",
    "    pipe.fit(X_train, y_train)  # apply scaling on training data\n",
    "  # записываем правильность на тестовом наборе\n",
    "    test_std_accuracy.append( pipe.score(X_test, y_test) )\n",
    "\n",
    "\n",
    "plt.plot( neighbors_settings, test_std_accuracy, label=\"правильность на стандартизированном наборе\" )\n",
    "plt.ylabel(\"Правильность\")\n",
    "plt.xlabel(\"количество соседей\")\n",
    "g = plt.legend()"
   ]
  },
  {
   "cell_type": "markdown",
   "id": "2616aa63",
   "metadata": {},
   "source": [
    "1.3. С помощью `GridSearchCV` произвести подбор гиперпараметра `KNeighborsClassifier` (`n_neighbors`) и выведите значение гиперпараметра и метрику для наилучшей модели"
   ]
  },
  {
   "cell_type": "code",
   "execution_count": 5,
   "id": "b7895f32",
   "metadata": {},
   "outputs": [
    {
     "name": "stdout",
     "output_type": "stream",
     "text": [
      "Fitting 5 folds for each of 10 candidates, totalling 50 fits\n",
      "Лучшие параметры {'n_neighbors': 1}\n"
     ]
    }
   ],
   "source": [
    "grid_params = {\n",
    "    'n_neighbors': [*range(1, 11, 1)]\n",
    "}\n",
    "\n",
    "search = GridSearchCV(KNeighborsClassifier(),\n",
    "                      param_grid=grid_params, \n",
    "                      scoring=['accuracy'], \n",
    "                      n_jobs=-1, \n",
    "                      cv=5,\n",
    "                      verbose=3,\n",
    "                      refit='accuracy',\n",
    "                      )\n",
    "searching_results = search.fit(X_train, y_train)\n",
    "pridictions = search.predict(X_test)\n",
    "print(f'Лучшие параметры {search.best_params_}')"
   ]
  },
  {
   "cell_type": "code",
   "execution_count": 6,
   "id": "b7a0cf97",
   "metadata": {},
   "outputs": [
    {
     "name": "stdout",
     "output_type": "stream",
     "text": [
      "Средняя точность:  0.941304347826087\n",
      "Точность на тестовой выборке:  0.9322033898305084\n"
     ]
    }
   ],
   "source": [
    "knn_classifier = KNeighborsClassifier(n_neighbors=6)\n",
    "knn_classifier.fit(X_train_scaled, y_train)\n",
    "predictions = knn_classifier.predict(X_test_scaled)\n",
    "\n",
    "score = cross_val_score(pipe, X_train, y_train, cv=5, scoring='accuracy')\n",
    "print('Средняя точность: ', np.mean(score))\n",
    "print('Точность на тестовой выборке: ', accuracy_score(y_test, predictions))"
   ]
  },
  {
   "cell_type": "markdown",
   "id": "507c16fa",
   "metadata": {},
   "source": [
    "2.1. Продемонстрировать работу `DecisionTreeClassifier`, посчитать метрики качества на отложенной выборке"
   ]
  },
  {
   "cell_type": "code",
   "execution_count": 7,
   "id": "5a30cbed",
   "metadata": {},
   "outputs": [
    {
     "name": "stdout",
     "output_type": "stream",
     "text": [
      "Средняя точность:  0.95\n",
      "Точность на тестовой выборке:  0.8983050847457628\n"
     ]
    }
   ],
   "source": [
    "dtree = DecisionTreeClassifier(random_state=42)\n",
    "dtree.fit(X_train, y_train)\n",
    "predictions = dtree.predict(X_test)\n",
    "\n",
    "score = cross_val_score(dtree, X_train, y_train, cv=5, scoring='accuracy')\n",
    "print('Средняя точность: ', np.mean(score))\n",
    "print('Точность на тестовой выборке: ', accuracy_score(y_test, predictions))"
   ]
  },
  {
   "cell_type": "markdown",
   "id": "355505e1",
   "metadata": {},
   "source": [
    "2.2. С помощью `GridSearchCV` произвести подбор гиперпараметров для поиск наилучшего дерева (перебрать `max_depth`, `max_features` и может быть что-то ещё)\n"
   ]
  },
  {
   "cell_type": "code",
   "execution_count": 8,
   "id": "74730c75",
   "metadata": {},
   "outputs": [],
   "source": [
    "params = dict(max_depth = [*range(1, 10, 3)], \n",
    "              max_features = [*range(1, 7, 3)],\n",
    "              min_samples_split = [*range(3, 12, 3)],\n",
    "              min_samples_leaf = [*range(1, 10, 3)]\n",
    "              )"
   ]
  },
  {
   "cell_type": "code",
   "execution_count": 9,
   "id": "55371f40",
   "metadata": {},
   "outputs": [
    {
     "name": "stdout",
     "output_type": "stream",
     "text": [
      "Fitting 5 folds for each of 54 candidates, totalling 270 fits\n",
      "[CV 1/5] END max_depth=1, max_features=1, min_samples_leaf=1, min_samples_split=3; accuracy: (test=0.458) total time=   0.0s\n",
      "[CV 2/5] END max_depth=1, max_features=1, min_samples_leaf=1, min_samples_split=3; accuracy: (test=0.458) total time=   0.0s\n",
      "[CV 3/5] END max_depth=1, max_features=1, min_samples_leaf=1, min_samples_split=3; accuracy: (test=0.583) total time=   0.0s\n",
      "[CV 4/5] END max_depth=1, max_features=1, min_samples_leaf=1, min_samples_split=3; accuracy: (test=0.625) total time=   0.0s\n",
      "[CV 5/5] END max_depth=1, max_features=1, min_samples_leaf=1, min_samples_split=3; accuracy: (test=0.522) total time=   0.0s\n",
      "[CV 1/5] END max_depth=1, max_features=1, min_samples_leaf=1, min_samples_split=6; accuracy: (test=0.458) total time=   0.0s\n",
      "[CV 2/5] END max_depth=1, max_features=1, min_samples_leaf=1, min_samples_split=6; accuracy: (test=0.458) total time=   0.0s\n",
      "[CV 3/5] END max_depth=1, max_features=1, min_samples_leaf=1, min_samples_split=6; accuracy: (test=0.583) total time=   0.0s\n",
      "[CV 4/5] END max_depth=1, max_features=1, min_samples_leaf=1, min_samples_split=6; accuracy: (test=0.625) total time=   0.0s\n",
      "[CV 5/5] END max_depth=1, max_features=1, min_samples_leaf=1, min_samples_split=6; accuracy: (test=0.522) total time=   0.0s\n",
      "[CV 1/5] END max_depth=1, max_features=1, min_samples_leaf=1, min_samples_split=9; accuracy: (test=0.458) total time=   0.0s\n",
      "[CV 2/5] END max_depth=1, max_features=1, min_samples_leaf=1, min_samples_split=9; accuracy: (test=0.458) total time=   0.0s\n",
      "[CV 3/5] END max_depth=1, max_features=1, min_samples_leaf=1, min_samples_split=9; accuracy: (test=0.583) total time=   0.0s\n",
      "[CV 4/5] END max_depth=1, max_features=1, min_samples_leaf=1, min_samples_split=9; accuracy: (test=0.625) total time=   0.0s\n",
      "[CV 5/5] END max_depth=1, max_features=1, min_samples_leaf=1, min_samples_split=9; accuracy: (test=0.522) total time=   0.0s\n",
      "[CV 1/5] END max_depth=1, max_features=1, min_samples_leaf=4, min_samples_split=3; accuracy: (test=0.458) total time=   0.0s\n",
      "[CV 2/5] END max_depth=1, max_features=1, min_samples_leaf=4, min_samples_split=3; accuracy: (test=0.458) total time=   0.0s\n",
      "[CV 3/5] END max_depth=1, max_features=1, min_samples_leaf=4, min_samples_split=3; accuracy: (test=0.583) total time=   0.0s\n",
      "[CV 4/5] END max_depth=1, max_features=1, min_samples_leaf=4, min_samples_split=3; accuracy: (test=0.625) total time=   0.0s\n",
      "[CV 5/5] END max_depth=1, max_features=1, min_samples_leaf=4, min_samples_split=3; accuracy: (test=0.522) total time=   0.0s\n",
      "[CV 1/5] END max_depth=1, max_features=1, min_samples_leaf=4, min_samples_split=6; accuracy: (test=0.458) total time=   0.0s\n",
      "[CV 2/5] END max_depth=1, max_features=1, min_samples_leaf=4, min_samples_split=6; accuracy: (test=0.458) total time=   0.0s\n",
      "[CV 3/5] END max_depth=1, max_features=1, min_samples_leaf=4, min_samples_split=6; accuracy: (test=0.583) total time=   0.0s\n",
      "[CV 4/5] END max_depth=1, max_features=1, min_samples_leaf=4, min_samples_split=6; accuracy: (test=0.625) total time=   0.0s\n",
      "[CV 5/5] END max_depth=1, max_features=1, min_samples_leaf=4, min_samples_split=6; accuracy: (test=0.522) total time=   0.0s\n",
      "[CV 1/5] END max_depth=1, max_features=1, min_samples_leaf=4, min_samples_split=9; accuracy: (test=0.458) total time=   0.0s\n",
      "[CV 2/5] END max_depth=1, max_features=1, min_samples_leaf=4, min_samples_split=9; accuracy: (test=0.458) total time=   0.0s\n",
      "[CV 3/5] END max_depth=1, max_features=1, min_samples_leaf=4, min_samples_split=9; accuracy: (test=0.583) total time=   0.0s\n",
      "[CV 4/5] END max_depth=1, max_features=1, min_samples_leaf=4, min_samples_split=9; accuracy: (test=0.625) total time=   0.0s\n",
      "[CV 5/5] END max_depth=1, max_features=1, min_samples_leaf=4, min_samples_split=9; accuracy: (test=0.522) total time=   0.0s\n",
      "[CV 1/5] END max_depth=1, max_features=1, min_samples_leaf=7, min_samples_split=3; accuracy: (test=0.458) total time=   0.0s\n",
      "[CV 2/5] END max_depth=1, max_features=1, min_samples_leaf=7, min_samples_split=3; accuracy: (test=0.458) total time=   0.0s\n",
      "[CV 3/5] END max_depth=1, max_features=1, min_samples_leaf=7, min_samples_split=3; accuracy: (test=0.583) total time=   0.0s\n",
      "[CV 4/5] END max_depth=1, max_features=1, min_samples_leaf=7, min_samples_split=3; accuracy: (test=0.625) total time=   0.0s\n",
      "[CV 5/5] END max_depth=1, max_features=1, min_samples_leaf=7, min_samples_split=3; accuracy: (test=0.522) total time=   0.0s\n",
      "[CV 1/5] END max_depth=1, max_features=1, min_samples_leaf=7, min_samples_split=6; accuracy: (test=0.458) total time=   0.0s\n",
      "[CV 2/5] END max_depth=1, max_features=1, min_samples_leaf=7, min_samples_split=6; accuracy: (test=0.458) total time=   0.0s\n",
      "[CV 3/5] END max_depth=1, max_features=1, min_samples_leaf=7, min_samples_split=6; accuracy: (test=0.583) total time=   0.0s\n",
      "[CV 4/5] END max_depth=1, max_features=1, min_samples_leaf=7, min_samples_split=6; accuracy: (test=0.625) total time=   0.0s\n",
      "[CV 5/5] END max_depth=1, max_features=1, min_samples_leaf=7, min_samples_split=6; accuracy: (test=0.522) total time=   0.0s\n",
      "[CV 1/5] END max_depth=1, max_features=1, min_samples_leaf=7, min_samples_split=9; accuracy: (test=0.458) total time=   0.0s\n",
      "[CV 2/5] END max_depth=1, max_features=1, min_samples_leaf=7, min_samples_split=9; accuracy: (test=0.458) total time=   0.0s\n",
      "[CV 3/5] END max_depth=1, max_features=1, min_samples_leaf=7, min_samples_split=9; accuracy: (test=0.583) total time=   0.0s\n",
      "[CV 4/5] END max_depth=1, max_features=1, min_samples_leaf=7, min_samples_split=9; accuracy: (test=0.625) total time=   0.0s\n",
      "[CV 5/5] END max_depth=1, max_features=1, min_samples_leaf=7, min_samples_split=9; accuracy: (test=0.522) total time=   0.0s\n",
      "[CV 1/5] END max_depth=1, max_features=4, min_samples_leaf=1, min_samples_split=3; accuracy: (test=0.583) total time=   0.0s\n",
      "[CV 2/5] END max_depth=1, max_features=4, min_samples_leaf=1, min_samples_split=3; accuracy: (test=0.667) total time=   0.0s\n",
      "[CV 3/5] END max_depth=1, max_features=4, min_samples_leaf=1, min_samples_split=3; accuracy: (test=0.667) total time=   0.0s\n",
      "[CV 4/5] END max_depth=1, max_features=4, min_samples_leaf=1, min_samples_split=3; accuracy: (test=0.583) total time=   0.0s\n",
      "[CV 5/5] END max_depth=1, max_features=4, min_samples_leaf=1, min_samples_split=3; accuracy: (test=0.652) total time=   0.0s\n",
      "[CV 1/5] END max_depth=1, max_features=4, min_samples_leaf=1, min_samples_split=6; accuracy: (test=0.583) total time=   0.0s\n",
      "[CV 2/5] END max_depth=1, max_features=4, min_samples_leaf=1, min_samples_split=6; accuracy: (test=0.667) total time=   0.0s\n",
      "[CV 3/5] END max_depth=1, max_features=4, min_samples_leaf=1, min_samples_split=6; accuracy: (test=0.667) total time=   0.0s\n",
      "[CV 4/5] END max_depth=1, max_features=4, min_samples_leaf=1, min_samples_split=6; accuracy: (test=0.583) total time=   0.0s\n",
      "[CV 5/5] END max_depth=1, max_features=4, min_samples_leaf=1, min_samples_split=6; accuracy: (test=0.652) total time=   0.0s\n",
      "[CV 1/5] END max_depth=1, max_features=4, min_samples_leaf=1, min_samples_split=9; accuracy: (test=0.583) total time=   0.0s\n",
      "[CV 2/5] END max_depth=1, max_features=4, min_samples_leaf=1, min_samples_split=9; accuracy: (test=0.667) total time=   0.0s\n",
      "[CV 3/5] END max_depth=1, max_features=4, min_samples_leaf=1, min_samples_split=9; accuracy: (test=0.667) total time=   0.0s\n",
      "[CV 4/5] END max_depth=1, max_features=4, min_samples_leaf=1, min_samples_split=9; accuracy: (test=0.583) total time=   0.0s\n",
      "[CV 5/5] END max_depth=1, max_features=4, min_samples_leaf=1, min_samples_split=9; accuracy: (test=0.652) total time=   0.0s\n",
      "[CV 1/5] END max_depth=1, max_features=4, min_samples_leaf=4, min_samples_split=3; accuracy: (test=0.583) total time=   0.0s\n",
      "[CV 2/5] END max_depth=1, max_features=4, min_samples_leaf=4, min_samples_split=3; accuracy: (test=0.667) total time=   0.0s\n",
      "[CV 3/5] END max_depth=1, max_features=4, min_samples_leaf=4, min_samples_split=3; accuracy: (test=0.667) total time=   0.0s\n",
      "[CV 4/5] END max_depth=1, max_features=4, min_samples_leaf=4, min_samples_split=3; accuracy: (test=0.583) total time=   0.0s\n",
      "[CV 5/5] END max_depth=1, max_features=4, min_samples_leaf=4, min_samples_split=3; accuracy: (test=0.652) total time=   0.0s\n",
      "[CV 1/5] END max_depth=1, max_features=4, min_samples_leaf=4, min_samples_split=6; accuracy: (test=0.583) total time=   0.0s\n",
      "[CV 2/5] END max_depth=1, max_features=4, min_samples_leaf=4, min_samples_split=6; accuracy: (test=0.667) total time=   0.0s\n",
      "[CV 3/5] END max_depth=1, max_features=4, min_samples_leaf=4, min_samples_split=6; accuracy: (test=0.667) total time=   0.0s\n",
      "[CV 4/5] END max_depth=1, max_features=4, min_samples_leaf=4, min_samples_split=6; accuracy: (test=0.583) total time=   0.0s\n",
      "[CV 5/5] END max_depth=1, max_features=4, min_samples_leaf=4, min_samples_split=6; accuracy: (test=0.652) total time=   0.0s\n",
      "[CV 1/5] END max_depth=1, max_features=4, min_samples_leaf=4, min_samples_split=9; accuracy: (test=0.583) total time=   0.0s\n",
      "[CV 2/5] END max_depth=1, max_features=4, min_samples_leaf=4, min_samples_split=9; accuracy: (test=0.667) total time=   0.0s\n",
      "[CV 3/5] END max_depth=1, max_features=4, min_samples_leaf=4, min_samples_split=9; accuracy: (test=0.667) total time=   0.0s\n",
      "[CV 4/5] END max_depth=1, max_features=4, min_samples_leaf=4, min_samples_split=9; accuracy: (test=0.583) total time=   0.0s\n",
      "[CV 5/5] END max_depth=1, max_features=4, min_samples_leaf=4, min_samples_split=9; accuracy: (test=0.652) total time=   0.0s\n",
      "[CV 1/5] END max_depth=1, max_features=4, min_samples_leaf=7, min_samples_split=3; accuracy: (test=0.583) total time=   0.0s\n",
      "[CV 2/5] END max_depth=1, max_features=4, min_samples_leaf=7, min_samples_split=3; accuracy: (test=0.667) total time=   0.0s\n",
      "[CV 3/5] END max_depth=1, max_features=4, min_samples_leaf=7, min_samples_split=3; accuracy: (test=0.667) total time=   0.0s\n",
      "[CV 4/5] END max_depth=1, max_features=4, min_samples_leaf=7, min_samples_split=3; accuracy: (test=0.583) total time=   0.0s\n",
      "[CV 5/5] END max_depth=1, max_features=4, min_samples_leaf=7, min_samples_split=3; accuracy: (test=0.652) total time=   0.0s\n",
      "[CV 1/5] END max_depth=1, max_features=4, min_samples_leaf=7, min_samples_split=6; accuracy: (test=0.583) total time=   0.0s\n",
      "[CV 2/5] END max_depth=1, max_features=4, min_samples_leaf=7, min_samples_split=6; accuracy: (test=0.667) total time=   0.0s\n",
      "[CV 3/5] END max_depth=1, max_features=4, min_samples_leaf=7, min_samples_split=6; accuracy: (test=0.667) total time=   0.0s\n",
      "[CV 4/5] END max_depth=1, max_features=4, min_samples_leaf=7, min_samples_split=6; accuracy: (test=0.583) total time=   0.0s\n",
      "[CV 5/5] END max_depth=1, max_features=4, min_samples_leaf=7, min_samples_split=6; accuracy: (test=0.652) total time=   0.0s\n",
      "[CV 1/5] END max_depth=1, max_features=4, min_samples_leaf=7, min_samples_split=9; accuracy: (test=0.583) total time=   0.0s\n",
      "[CV 2/5] END max_depth=1, max_features=4, min_samples_leaf=7, min_samples_split=9; accuracy: (test=0.667) total time=   0.0s\n",
      "[CV 3/5] END max_depth=1, max_features=4, min_samples_leaf=7, min_samples_split=9; accuracy: (test=0.667) total time=   0.0s\n",
      "[CV 4/5] END max_depth=1, max_features=4, min_samples_leaf=7, min_samples_split=9; accuracy: (test=0.583) total time=   0.0s\n",
      "[CV 5/5] END max_depth=1, max_features=4, min_samples_leaf=7, min_samples_split=9; accuracy: (test=0.652) total time=   0.0s\n",
      "[CV 1/5] END max_depth=4, max_features=1, min_samples_leaf=1, min_samples_split=3; accuracy: (test=0.917) total time=   0.0s\n",
      "[CV 2/5] END max_depth=4, max_features=1, min_samples_leaf=1, min_samples_split=3; accuracy: (test=0.750) total time=   0.0s\n",
      "[CV 3/5] END max_depth=4, max_features=1, min_samples_leaf=1, min_samples_split=3; accuracy: (test=0.958) total time=   0.0s\n",
      "[CV 4/5] END max_depth=4, max_features=1, min_samples_leaf=1, min_samples_split=3; accuracy: (test=0.917) total time=   0.0s\n",
      "[CV 5/5] END max_depth=4, max_features=1, min_samples_leaf=1, min_samples_split=3; accuracy: (test=0.826) total time=   0.0s\n",
      "[CV 1/5] END max_depth=4, max_features=1, min_samples_leaf=1, min_samples_split=6; accuracy: (test=0.833) total time=   0.0s\n",
      "[CV 2/5] END max_depth=4, max_features=1, min_samples_leaf=1, min_samples_split=6; accuracy: (test=0.750) total time=   0.0s\n",
      "[CV 3/5] END max_depth=4, max_features=1, min_samples_leaf=1, min_samples_split=6; accuracy: (test=0.958) total time=   0.0s\n",
      "[CV 4/5] END max_depth=4, max_features=1, min_samples_leaf=1, min_samples_split=6; accuracy: (test=0.958) total time=   0.0s\n",
      "[CV 5/5] END max_depth=4, max_features=1, min_samples_leaf=1, min_samples_split=6; accuracy: (test=0.870) total time=   0.0s\n",
      "[CV 1/5] END max_depth=4, max_features=1, min_samples_leaf=1, min_samples_split=9; accuracy: (test=0.833) total time=   0.0s\n",
      "[CV 2/5] END max_depth=4, max_features=1, min_samples_leaf=1, min_samples_split=9; accuracy: (test=0.750) total time=   0.0s\n",
      "[CV 3/5] END max_depth=4, max_features=1, min_samples_leaf=1, min_samples_split=9; accuracy: (test=0.958) total time=   0.0s\n",
      "[CV 4/5] END max_depth=4, max_features=1, min_samples_leaf=1, min_samples_split=9; accuracy: (test=0.958) total time=   0.0s\n",
      "[CV 5/5] END max_depth=4, max_features=1, min_samples_leaf=1, min_samples_split=9; accuracy: (test=0.826) total time=   0.0s\n",
      "[CV 1/5] END max_depth=4, max_features=1, min_samples_leaf=4, min_samples_split=3; accuracy: (test=0.833) total time=   0.0s\n",
      "[CV 2/5] END max_depth=4, max_features=1, min_samples_leaf=4, min_samples_split=3; accuracy: (test=0.833) total time=   0.0s\n",
      "[CV 3/5] END max_depth=4, max_features=1, min_samples_leaf=4, min_samples_split=3; accuracy: (test=0.958) total time=   0.0s\n",
      "[CV 4/5] END max_depth=4, max_features=1, min_samples_leaf=4, min_samples_split=3; accuracy: (test=0.958) total time=   0.0s\n",
      "[CV 5/5] END max_depth=4, max_features=1, min_samples_leaf=4, min_samples_split=3; accuracy: (test=0.870) total time=   0.0s\n",
      "[CV 1/5] END max_depth=4, max_features=1, min_samples_leaf=4, min_samples_split=6; accuracy: (test=0.833) total time=   0.0s\n",
      "[CV 2/5] END max_depth=4, max_features=1, min_samples_leaf=4, min_samples_split=6; accuracy: (test=0.833) total time=   0.0s\n",
      "[CV 3/5] END max_depth=4, max_features=1, min_samples_leaf=4, min_samples_split=6; accuracy: (test=0.958) total time=   0.0s\n",
      "[CV 4/5] END max_depth=4, max_features=1, min_samples_leaf=4, min_samples_split=6; accuracy: (test=0.958) total time=   0.0s\n",
      "[CV 5/5] END max_depth=4, max_features=1, min_samples_leaf=4, min_samples_split=6; accuracy: (test=0.870) total time=   0.0s\n",
      "[CV 1/5] END max_depth=4, max_features=1, min_samples_leaf=4, min_samples_split=9; accuracy: (test=0.833) total time=   0.0s\n",
      "[CV 2/5] END max_depth=4, max_features=1, min_samples_leaf=4, min_samples_split=9; accuracy: (test=0.833) total time=   0.0s\n",
      "[CV 3/5] END max_depth=4, max_features=1, min_samples_leaf=4, min_samples_split=9; accuracy: (test=0.958) total time=   0.0s\n",
      "[CV 4/5] END max_depth=4, max_features=1, min_samples_leaf=4, min_samples_split=9; accuracy: (test=0.958) total time=   0.0s\n",
      "[CV 5/5] END max_depth=4, max_features=1, min_samples_leaf=4, min_samples_split=9; accuracy: (test=0.870) total time=   0.0s\n",
      "[CV 1/5] END max_depth=4, max_features=1, min_samples_leaf=7, min_samples_split=3; accuracy: (test=0.792) total time=   0.0s\n",
      "[CV 2/5] END max_depth=4, max_features=1, min_samples_leaf=7, min_samples_split=3; accuracy: (test=0.833) total time=   0.0s\n",
      "[CV 3/5] END max_depth=4, max_features=1, min_samples_leaf=7, min_samples_split=3; accuracy: (test=0.958) total time=   0.0s\n",
      "[CV 4/5] END max_depth=4, max_features=1, min_samples_leaf=7, min_samples_split=3; accuracy: (test=0.875) total time=   0.0s\n",
      "[CV 5/5] END max_depth=4, max_features=1, min_samples_leaf=7, min_samples_split=3; accuracy: (test=0.826) total time=   0.0s\n",
      "[CV 1/5] END max_depth=4, max_features=1, min_samples_leaf=7, min_samples_split=6; accuracy: (test=0.792) total time=   0.0s\n",
      "[CV 2/5] END max_depth=4, max_features=1, min_samples_leaf=7, min_samples_split=6; accuracy: (test=0.833) total time=   0.0s\n",
      "[CV 3/5] END max_depth=4, max_features=1, min_samples_leaf=7, min_samples_split=6; accuracy: (test=0.958) total time=   0.0s\n",
      "[CV 4/5] END max_depth=4, max_features=1, min_samples_leaf=7, min_samples_split=6; accuracy: (test=0.875) total time=   0.0s\n",
      "[CV 5/5] END max_depth=4, max_features=1, min_samples_leaf=7, min_samples_split=6; accuracy: (test=0.826) total time=   0.0s\n",
      "[CV 1/5] END max_depth=4, max_features=1, min_samples_leaf=7, min_samples_split=9; accuracy: (test=0.792) total time=   0.0s\n",
      "[CV 2/5] END max_depth=4, max_features=1, min_samples_leaf=7, min_samples_split=9; accuracy: (test=0.833) total time=   0.0s\n",
      "[CV 3/5] END max_depth=4, max_features=1, min_samples_leaf=7, min_samples_split=9; accuracy: (test=0.958) total time=   0.0s\n",
      "[CV 4/5] END max_depth=4, max_features=1, min_samples_leaf=7, min_samples_split=9; accuracy: (test=0.875) total time=   0.0s\n",
      "[CV 5/5] END max_depth=4, max_features=1, min_samples_leaf=7, min_samples_split=9; accuracy: (test=0.826) total time=   0.0s\n",
      "[CV 1/5] END max_depth=4, max_features=4, min_samples_leaf=1, min_samples_split=3; accuracy: (test=0.917) total time=   0.0s\n",
      "[CV 2/5] END max_depth=4, max_features=4, min_samples_leaf=1, min_samples_split=3; accuracy: (test=0.875) total time=   0.0s\n",
      "[CV 3/5] END max_depth=4, max_features=4, min_samples_leaf=1, min_samples_split=3; accuracy: (test=0.917) total time=   0.0s\n",
      "[CV 4/5] END max_depth=4, max_features=4, min_samples_leaf=1, min_samples_split=3; accuracy: (test=0.917) total time=   0.0s\n",
      "[CV 5/5] END max_depth=4, max_features=4, min_samples_leaf=1, min_samples_split=3; accuracy: (test=0.957) total time=   0.0s\n",
      "[CV 1/5] END max_depth=4, max_features=4, min_samples_leaf=1, min_samples_split=6; accuracy: (test=0.917) total time=   0.0s\n",
      "[CV 2/5] END max_depth=4, max_features=4, min_samples_leaf=1, min_samples_split=6; accuracy: (test=0.875) total time=   0.0s\n",
      "[CV 3/5] END max_depth=4, max_features=4, min_samples_leaf=1, min_samples_split=6; accuracy: (test=0.917) total time=   0.0s\n",
      "[CV 4/5] END max_depth=4, max_features=4, min_samples_leaf=1, min_samples_split=6; accuracy: (test=0.917) total time=   0.0s\n",
      "[CV 5/5] END max_depth=4, max_features=4, min_samples_leaf=1, min_samples_split=6; accuracy: (test=0.957) total time=   0.0s\n",
      "[CV 1/5] END max_depth=4, max_features=4, min_samples_leaf=1, min_samples_split=9; accuracy: (test=0.917) total time=   0.0s\n",
      "[CV 2/5] END max_depth=4, max_features=4, min_samples_leaf=1, min_samples_split=9; accuracy: (test=0.875) total time=   0.0s\n",
      "[CV 3/5] END max_depth=4, max_features=4, min_samples_leaf=1, min_samples_split=9; accuracy: (test=0.917) total time=   0.0s\n",
      "[CV 4/5] END max_depth=4, max_features=4, min_samples_leaf=1, min_samples_split=9; accuracy: (test=0.917) total time=   0.0s\n",
      "[CV 5/5] END max_depth=4, max_features=4, min_samples_leaf=1, min_samples_split=9; accuracy: (test=0.957) total time=   0.0s\n",
      "[CV 1/5] END max_depth=4, max_features=4, min_samples_leaf=4, min_samples_split=3; accuracy: (test=0.875) total time=   0.0s\n",
      "[CV 2/5] END max_depth=4, max_features=4, min_samples_leaf=4, min_samples_split=3; accuracy: (test=0.875) total time=   0.0s\n",
      "[CV 3/5] END max_depth=4, max_features=4, min_samples_leaf=4, min_samples_split=3; accuracy: (test=1.000) total time=   0.0s\n",
      "[CV 4/5] END max_depth=4, max_features=4, min_samples_leaf=4, min_samples_split=3; accuracy: (test=0.917) total time=   0.0s\n",
      "[CV 5/5] END max_depth=4, max_features=4, min_samples_leaf=4, min_samples_split=3; accuracy: (test=0.957) total time=   0.0s\n",
      "[CV 1/5] END max_depth=4, max_features=4, min_samples_leaf=4, min_samples_split=6; accuracy: (test=0.875) total time=   0.0s\n",
      "[CV 2/5] END max_depth=4, max_features=4, min_samples_leaf=4, min_samples_split=6; accuracy: (test=0.875) total time=   0.0s\n",
      "[CV 3/5] END max_depth=4, max_features=4, min_samples_leaf=4, min_samples_split=6; accuracy: (test=1.000) total time=   0.0s\n",
      "[CV 4/5] END max_depth=4, max_features=4, min_samples_leaf=4, min_samples_split=6; accuracy: (test=0.917) total time=   0.0s\n",
      "[CV 5/5] END max_depth=4, max_features=4, min_samples_leaf=4, min_samples_split=6; accuracy: (test=0.957) total time=   0.0s\n",
      "[CV 1/5] END max_depth=4, max_features=4, min_samples_leaf=4, min_samples_split=9; accuracy: (test=0.875) total time=   0.0s\n",
      "[CV 2/5] END max_depth=4, max_features=4, min_samples_leaf=4, min_samples_split=9; accuracy: (test=0.875) total time=   0.0s\n",
      "[CV 3/5] END max_depth=4, max_features=4, min_samples_leaf=4, min_samples_split=9; accuracy: (test=1.000) total time=   0.0s\n",
      "[CV 4/5] END max_depth=4, max_features=4, min_samples_leaf=4, min_samples_split=9; accuracy: (test=0.917) total time=   0.0s\n",
      "[CV 5/5] END max_depth=4, max_features=4, min_samples_leaf=4, min_samples_split=9; accuracy: (test=0.957) total time=   0.0s\n",
      "[CV 1/5] END max_depth=4, max_features=4, min_samples_leaf=7, min_samples_split=3; accuracy: (test=0.833) total time=   0.0s\n",
      "[CV 2/5] END max_depth=4, max_features=4, min_samples_leaf=7, min_samples_split=3; accuracy: (test=0.875) total time=   0.0s\n",
      "[CV 3/5] END max_depth=4, max_features=4, min_samples_leaf=7, min_samples_split=3; accuracy: (test=0.917) total time=   0.0s\n",
      "[CV 4/5] END max_depth=4, max_features=4, min_samples_leaf=7, min_samples_split=3; accuracy: (test=0.875) total time=   0.0s\n",
      "[CV 5/5] END max_depth=4, max_features=4, min_samples_leaf=7, min_samples_split=3; accuracy: (test=0.826) total time=   0.0s\n",
      "[CV 1/5] END max_depth=4, max_features=4, min_samples_leaf=7, min_samples_split=6; accuracy: (test=0.833) total time=   0.0s\n",
      "[CV 2/5] END max_depth=4, max_features=4, min_samples_leaf=7, min_samples_split=6; accuracy: (test=0.875) total time=   0.0s\n",
      "[CV 3/5] END max_depth=4, max_features=4, min_samples_leaf=7, min_samples_split=6; accuracy: (test=0.917) total time=   0.0s\n",
      "[CV 4/5] END max_depth=4, max_features=4, min_samples_leaf=7, min_samples_split=6; accuracy: (test=0.875) total time=   0.0s\n",
      "[CV 5/5] END max_depth=4, max_features=4, min_samples_leaf=7, min_samples_split=6; accuracy: (test=0.826) total time=   0.0s\n",
      "[CV 1/5] END max_depth=4, max_features=4, min_samples_leaf=7, min_samples_split=9; accuracy: (test=0.833) total time=   0.0s\n",
      "[CV 2/5] END max_depth=4, max_features=4, min_samples_leaf=7, min_samples_split=9; accuracy: (test=0.875) total time=   0.0s\n",
      "[CV 3/5] END max_depth=4, max_features=4, min_samples_leaf=7, min_samples_split=9; accuracy: (test=0.917) total time=   0.0s\n",
      "[CV 4/5] END max_depth=4, max_features=4, min_samples_leaf=7, min_samples_split=9; accuracy: (test=0.875) total time=   0.0s\n",
      "[CV 5/5] END max_depth=4, max_features=4, min_samples_leaf=7, min_samples_split=9; accuracy: (test=0.826) total time=   0.0s\n",
      "[CV 1/5] END max_depth=7, max_features=1, min_samples_leaf=1, min_samples_split=3; accuracy: (test=0.833) total time=   0.0s\n",
      "[CV 2/5] END max_depth=7, max_features=1, min_samples_leaf=1, min_samples_split=3; accuracy: (test=0.875) total time=   0.0s\n",
      "[CV 3/5] END max_depth=7, max_features=1, min_samples_leaf=1, min_samples_split=3; accuracy: (test=0.917) total time=   0.0s\n",
      "[CV 4/5] END max_depth=7, max_features=1, min_samples_leaf=1, min_samples_split=3; accuracy: (test=0.833) total time=   0.0s\n",
      "[CV 5/5] END max_depth=7, max_features=1, min_samples_leaf=1, min_samples_split=3; accuracy: (test=0.783) total time=   0.0s\n",
      "[CV 1/5] END max_depth=7, max_features=1, min_samples_leaf=1, min_samples_split=6; accuracy: (test=0.833) total time=   0.0s\n",
      "[CV 2/5] END max_depth=7, max_features=1, min_samples_leaf=1, min_samples_split=6; accuracy: (test=0.917) total time=   0.0s\n",
      "[CV 3/5] END max_depth=7, max_features=1, min_samples_leaf=1, min_samples_split=6; accuracy: (test=0.917) total time=   0.0s\n",
      "[CV 4/5] END max_depth=7, max_features=1, min_samples_leaf=1, min_samples_split=6; accuracy: (test=0.875) total time=   0.0s\n",
      "[CV 5/5] END max_depth=7, max_features=1, min_samples_leaf=1, min_samples_split=6; accuracy: (test=0.913) total time=   0.0s\n",
      "[CV 1/5] END max_depth=7, max_features=1, min_samples_leaf=1, min_samples_split=9; accuracy: (test=0.833) total time=   0.0s\n",
      "[CV 2/5] END max_depth=7, max_features=1, min_samples_leaf=1, min_samples_split=9; accuracy: (test=0.917) total time=   0.0s\n",
      "[CV 3/5] END max_depth=7, max_features=1, min_samples_leaf=1, min_samples_split=9; accuracy: (test=0.917) total time=   0.0s\n",
      "[CV 4/5] END max_depth=7, max_features=1, min_samples_leaf=1, min_samples_split=9; accuracy: (test=0.833) total time=   0.0s\n",
      "[CV 5/5] END max_depth=7, max_features=1, min_samples_leaf=1, min_samples_split=9; accuracy: (test=0.826) total time=   0.0s\n",
      "[CV 1/5] END max_depth=7, max_features=1, min_samples_leaf=4, min_samples_split=3; accuracy: (test=0.833) total time=   0.0s\n",
      "[CV 2/5] END max_depth=7, max_features=1, min_samples_leaf=4, min_samples_split=3; accuracy: (test=0.833) total time=   0.0s\n",
      "[CV 3/5] END max_depth=7, max_features=1, min_samples_leaf=4, min_samples_split=3; accuracy: (test=0.958) total time=   0.0s\n",
      "[CV 4/5] END max_depth=7, max_features=1, min_samples_leaf=4, min_samples_split=3; accuracy: (test=0.833) total time=   0.0s\n",
      "[CV 5/5] END max_depth=7, max_features=1, min_samples_leaf=4, min_samples_split=3; accuracy: (test=0.783) total time=   0.0s\n",
      "[CV 1/5] END max_depth=7, max_features=1, min_samples_leaf=4, min_samples_split=6; accuracy: (test=0.833) total time=   0.0s\n",
      "[CV 2/5] END max_depth=7, max_features=1, min_samples_leaf=4, min_samples_split=6; accuracy: (test=0.833) total time=   0.0s\n",
      "[CV 3/5] END max_depth=7, max_features=1, min_samples_leaf=4, min_samples_split=6; accuracy: (test=0.958) total time=   0.0s\n",
      "[CV 4/5] END max_depth=7, max_features=1, min_samples_leaf=4, min_samples_split=6; accuracy: (test=0.833) total time=   0.0s\n",
      "[CV 5/5] END max_depth=7, max_features=1, min_samples_leaf=4, min_samples_split=6; accuracy: (test=0.783) total time=   0.0s\n",
      "[CV 1/5] END max_depth=7, max_features=1, min_samples_leaf=4, min_samples_split=9; accuracy: (test=0.833) total time=   0.0s\n",
      "[CV 2/5] END max_depth=7, max_features=1, min_samples_leaf=4, min_samples_split=9; accuracy: (test=0.833) total time=   0.0s\n",
      "[CV 3/5] END max_depth=7, max_features=1, min_samples_leaf=4, min_samples_split=9; accuracy: (test=0.958) total time=   0.0s\n",
      "[CV 4/5] END max_depth=7, max_features=1, min_samples_leaf=4, min_samples_split=9; accuracy: (test=0.833) total time=   0.0s\n",
      "[CV 5/5] END max_depth=7, max_features=1, min_samples_leaf=4, min_samples_split=9; accuracy: (test=0.783) total time=   0.0s\n",
      "[CV 1/5] END max_depth=7, max_features=1, min_samples_leaf=7, min_samples_split=3; accuracy: (test=0.792) total time=   0.0s\n",
      "[CV 2/5] END max_depth=7, max_features=1, min_samples_leaf=7, min_samples_split=3; accuracy: (test=0.833) total time=   0.0s\n",
      "[CV 3/5] END max_depth=7, max_features=1, min_samples_leaf=7, min_samples_split=3; accuracy: (test=0.958) total time=   0.0s\n",
      "[CV 4/5] END max_depth=7, max_features=1, min_samples_leaf=7, min_samples_split=3; accuracy: (test=0.875) total time=   0.0s\n",
      "[CV 5/5] END max_depth=7, max_features=1, min_samples_leaf=7, min_samples_split=3; accuracy: (test=0.826) total time=   0.0s\n",
      "[CV 1/5] END max_depth=7, max_features=1, min_samples_leaf=7, min_samples_split=6; accuracy: (test=0.792) total time=   0.0s\n",
      "[CV 2/5] END max_depth=7, max_features=1, min_samples_leaf=7, min_samples_split=6; accuracy: (test=0.833) total time=   0.0s\n",
      "[CV 3/5] END max_depth=7, max_features=1, min_samples_leaf=7, min_samples_split=6; accuracy: (test=0.958) total time=   0.0s\n",
      "[CV 4/5] END max_depth=7, max_features=1, min_samples_leaf=7, min_samples_split=6; accuracy: (test=0.875) total time=   0.0s\n",
      "[CV 5/5] END max_depth=7, max_features=1, min_samples_leaf=7, min_samples_split=6; accuracy: (test=0.826) total time=   0.0s\n",
      "[CV 1/5] END max_depth=7, max_features=1, min_samples_leaf=7, min_samples_split=9; accuracy: (test=0.792) total time=   0.0s\n",
      "[CV 2/5] END max_depth=7, max_features=1, min_samples_leaf=7, min_samples_split=9; accuracy: (test=0.833) total time=   0.0s\n",
      "[CV 3/5] END max_depth=7, max_features=1, min_samples_leaf=7, min_samples_split=9; accuracy: (test=0.958) total time=   0.0s\n",
      "[CV 4/5] END max_depth=7, max_features=1, min_samples_leaf=7, min_samples_split=9; accuracy: (test=0.875) total time=   0.0s\n",
      "[CV 5/5] END max_depth=7, max_features=1, min_samples_leaf=7, min_samples_split=9; accuracy: (test=0.826) total time=   0.0s\n",
      "[CV 1/5] END max_depth=7, max_features=4, min_samples_leaf=1, min_samples_split=3; accuracy: (test=0.917) total time=   0.0s\n",
      "[CV 2/5] END max_depth=7, max_features=4, min_samples_leaf=1, min_samples_split=3; accuracy: (test=0.875) total time=   0.0s\n",
      "[CV 3/5] END max_depth=7, max_features=4, min_samples_leaf=1, min_samples_split=3; accuracy: (test=0.917) total time=   0.0s\n",
      "[CV 4/5] END max_depth=7, max_features=4, min_samples_leaf=1, min_samples_split=3; accuracy: (test=0.917) total time=   0.0s\n",
      "[CV 5/5] END max_depth=7, max_features=4, min_samples_leaf=1, min_samples_split=3; accuracy: (test=0.957) total time=   0.0s\n",
      "[CV 1/5] END max_depth=7, max_features=4, min_samples_leaf=1, min_samples_split=6; accuracy: (test=0.917) total time=   0.0s\n",
      "[CV 2/5] END max_depth=7, max_features=4, min_samples_leaf=1, min_samples_split=6; accuracy: (test=0.875) total time=   0.0s\n",
      "[CV 3/5] END max_depth=7, max_features=4, min_samples_leaf=1, min_samples_split=6; accuracy: (test=0.917) total time=   0.0s\n",
      "[CV 4/5] END max_depth=7, max_features=4, min_samples_leaf=1, min_samples_split=6; accuracy: (test=0.917) total time=   0.0s\n",
      "[CV 5/5] END max_depth=7, max_features=4, min_samples_leaf=1, min_samples_split=6; accuracy: (test=0.957) total time=   0.0s\n",
      "[CV 1/5] END max_depth=7, max_features=4, min_samples_leaf=1, min_samples_split=9; accuracy: (test=0.917) total time=   0.0s\n",
      "[CV 2/5] END max_depth=7, max_features=4, min_samples_leaf=1, min_samples_split=9; accuracy: (test=0.875) total time=   0.0s\n",
      "[CV 3/5] END max_depth=7, max_features=4, min_samples_leaf=1, min_samples_split=9; accuracy: (test=0.917) total time=   0.0s\n",
      "[CV 4/5] END max_depth=7, max_features=4, min_samples_leaf=1, min_samples_split=9; accuracy: (test=0.917) total time=   0.0s\n",
      "[CV 5/5] END max_depth=7, max_features=4, min_samples_leaf=1, min_samples_split=9; accuracy: (test=0.957) total time=   0.0s\n",
      "[CV 1/5] END max_depth=7, max_features=4, min_samples_leaf=4, min_samples_split=3; accuracy: (test=0.875) total time=   0.0s\n",
      "[CV 2/5] END max_depth=7, max_features=4, min_samples_leaf=4, min_samples_split=3; accuracy: (test=0.875) total time=   0.0s\n",
      "[CV 3/5] END max_depth=7, max_features=4, min_samples_leaf=4, min_samples_split=3; accuracy: (test=1.000) total time=   0.0s\n",
      "[CV 4/5] END max_depth=7, max_features=4, min_samples_leaf=4, min_samples_split=3; accuracy: (test=0.917) total time=   0.0s\n",
      "[CV 5/5] END max_depth=7, max_features=4, min_samples_leaf=4, min_samples_split=3; accuracy: (test=0.957) total time=   0.0s\n",
      "[CV 1/5] END max_depth=7, max_features=4, min_samples_leaf=4, min_samples_split=6; accuracy: (test=0.875) total time=   0.0s\n",
      "[CV 2/5] END max_depth=7, max_features=4, min_samples_leaf=4, min_samples_split=6; accuracy: (test=0.875) total time=   0.0s\n",
      "[CV 3/5] END max_depth=7, max_features=4, min_samples_leaf=4, min_samples_split=6; accuracy: (test=1.000) total time=   0.0s\n",
      "[CV 4/5] END max_depth=7, max_features=4, min_samples_leaf=4, min_samples_split=6; accuracy: (test=0.917) total time=   0.0s\n",
      "[CV 5/5] END max_depth=7, max_features=4, min_samples_leaf=4, min_samples_split=6; accuracy: (test=0.957) total time=   0.0s\n",
      "[CV 1/5] END max_depth=7, max_features=4, min_samples_leaf=4, min_samples_split=9; accuracy: (test=0.875) total time=   0.0s\n",
      "[CV 2/5] END max_depth=7, max_features=4, min_samples_leaf=4, min_samples_split=9; accuracy: (test=0.875) total time=   0.0s\n",
      "[CV 3/5] END max_depth=7, max_features=4, min_samples_leaf=4, min_samples_split=9; accuracy: (test=1.000) total time=   0.0s\n",
      "[CV 4/5] END max_depth=7, max_features=4, min_samples_leaf=4, min_samples_split=9; accuracy: (test=0.917) total time=   0.0s\n",
      "[CV 5/5] END max_depth=7, max_features=4, min_samples_leaf=4, min_samples_split=9; accuracy: (test=0.957) total time=   0.0s\n",
      "[CV 1/5] END max_depth=7, max_features=4, min_samples_leaf=7, min_samples_split=3; accuracy: (test=0.833) total time=   0.0s\n",
      "[CV 2/5] END max_depth=7, max_features=4, min_samples_leaf=7, min_samples_split=3; accuracy: (test=0.875) total time=   0.0s\n",
      "[CV 3/5] END max_depth=7, max_features=4, min_samples_leaf=7, min_samples_split=3; accuracy: (test=0.917) total time=   0.0s\n",
      "[CV 4/5] END max_depth=7, max_features=4, min_samples_leaf=7, min_samples_split=3; accuracy: (test=0.875) total time=   0.0s\n",
      "[CV 5/5] END max_depth=7, max_features=4, min_samples_leaf=7, min_samples_split=3; accuracy: (test=0.826) total time=   0.0s\n",
      "[CV 1/5] END max_depth=7, max_features=4, min_samples_leaf=7, min_samples_split=6; accuracy: (test=0.833) total time=   0.0s\n",
      "[CV 2/5] END max_depth=7, max_features=4, min_samples_leaf=7, min_samples_split=6; accuracy: (test=0.875) total time=   0.0s\n",
      "[CV 3/5] END max_depth=7, max_features=4, min_samples_leaf=7, min_samples_split=6; accuracy: (test=0.917) total time=   0.0s\n",
      "[CV 4/5] END max_depth=7, max_features=4, min_samples_leaf=7, min_samples_split=6; accuracy: (test=0.875) total time=   0.0s\n",
      "[CV 5/5] END max_depth=7, max_features=4, min_samples_leaf=7, min_samples_split=6; accuracy: (test=0.826) total time=   0.0s\n",
      "[CV 1/5] END max_depth=7, max_features=4, min_samples_leaf=7, min_samples_split=9; accuracy: (test=0.833) total time=   0.0s\n",
      "[CV 2/5] END max_depth=7, max_features=4, min_samples_leaf=7, min_samples_split=9; accuracy: (test=0.875) total time=   0.0s\n",
      "[CV 3/5] END max_depth=7, max_features=4, min_samples_leaf=7, min_samples_split=9; accuracy: (test=0.917) total time=   0.0s\n",
      "[CV 4/5] END max_depth=7, max_features=4, min_samples_leaf=7, min_samples_split=9; accuracy: (test=0.875) total time=   0.0s\n",
      "[CV 5/5] END max_depth=7, max_features=4, min_samples_leaf=7, min_samples_split=9; accuracy: (test=0.826) total time=   0.0s\n",
      "Лучшие параметры {'max_depth': 4, 'max_features': 4, 'min_samples_leaf': 4, 'min_samples_split': 3}\n"
     ]
    }
   ],
   "source": [
    "search = GridSearchCV(DecisionTreeClassifier(random_state=42),\n",
    "                      param_grid=params, \n",
    "                      scoring=['accuracy'], \n",
    "                      n_jobs=1, \n",
    "                      cv=5,\n",
    "                      verbose=3,\n",
    "                      refit='accuracy',\n",
    "                      )\n",
    "searching_results = search.fit(X_train, y_train)\n",
    "pridictions = search.predict(X_test)\n",
    "print(f'Лучшие параметры {search.best_params_}')"
   ]
  },
  {
   "cell_type": "code",
   "execution_count": 10,
   "id": "45aa88ab",
   "metadata": {},
   "outputs": [
    {
     "name": "stdout",
     "output_type": "stream",
     "text": [
      "Средняя точность:  0.8746376811594203\n",
      "Точность на тестовой выборке:  0.9322033898305084\n"
     ]
    }
   ],
   "source": [
    "dtree = DecisionTreeClassifier(random_state=47,\n",
    "                               max_depth=4,\n",
    "                               max_features=4,\n",
    "                               min_samples_split=2,\n",
    "                               min_samples_leaf=7,\n",
    "                               )\n",
    "dtree.fit(X_train, y_train)\n",
    "predictions = dtree.predict(X_test)\n",
    "\n",
    "score = cross_val_score(dtree, X_train, y_train, cv=5, scoring='accuracy')\n",
    "print('Средняя точность: ', np.mean(score))\n",
    "print('Точность на тестовой выборке: ', accuracy_score(y_test, predictions))"
   ]
  },
  {
   "cell_type": "markdown",
   "id": "173ce21f",
   "metadata": {},
   "source": [
    "2.3. Для полученного наилучшего дерева построить график feature_importances и дополнительно напечатать 3 наиболее важных признака, отсортиров их по убыванию по важности"
   ]
  },
  {
   "cell_type": "code",
   "execution_count": 11,
   "id": "10b242ce",
   "metadata": {},
   "outputs": [
    {
     "name": "stdout",
     "output_type": "stream",
     "text": [
      "Важность признаков:\n",
      "[0.43929878 0.         0.         0.00345571 0.         0.\n",
      " 0.42380146 0.         0.         0.05379694 0.         0.\n",
      " 0.07964711]\n"
     ]
    }
   ],
   "source": [
    "print(\"Важность признаков:\")\n",
    "print(dtree.feature_importances_ )"
   ]
  },
  {
   "cell_type": "code",
   "execution_count": null,
   "id": "24486d80",
   "metadata": {},
   "outputs": [],
   "source": [
    "name_col = data.drop(columns = 'rotor').columns\n",
    "y = pd.Series(data=dtree.feature_importances_, index=name_col)\n",
    "ind = y[:] == 0\n",
    "y = y[~ind]\n",
    "x = range(len(y))\n",
    "plt.bar(x, y)\n",
    "plt.xticks(x, y.index,rotation = 45)"
   ]
  },
  {
   "cell_type": "code",
   "execution_count": null,
   "id": "427b7656",
   "metadata": {},
   "outputs": [],
   "source": [
    "y.sort_values()"
   ]
  },
  {
   "cell_type": "markdown",
   "id": "59628daf",
   "metadata": {},
   "source": [
    "3.1. Продемонстрировать работу случайного леса `RandomForestClassifier`\n"
   ]
  },
  {
   "cell_type": "code",
   "execution_count": 13,
   "id": "fbe19e02",
   "metadata": {},
   "outputs": [
    {
     "name": "stdout",
     "output_type": "stream",
     "text": [
      "Средняя точность:  0.9916666666666668\n",
      "Точность на тестовой выборке:  0.9661016949152542\n"
     ]
    }
   ],
   "source": [
    "rf = RandomForestClassifier(n_estimators=100, \n",
    "                            max_depth=8,\n",
    "                            n_jobs=-1, \n",
    "                            random_state=42,\n",
    "                            )\n",
    "rf = rf.fit(X_train, y_train)\n",
    "predictions = rf.predict(X_test)\n",
    "score = cross_val_score(rf, X_train, y_train, cv=5)\n",
    "print('Средняя точность: ', np.mean(score))\n",
    "print('Точность на тестовой выборке: ', accuracy_score(y_test, predictions))"
   ]
  },
  {
   "cell_type": "markdown",
   "id": "64c95f6e",
   "metadata": {},
   "source": [
    "3.2. С помощью `GridSearchCV` произвести подбор гиперпараметров для поиск наилучшего леса, посмотреть насколько улучшились метрики\n"
   ]
  },
  {
   "cell_type": "code",
   "execution_count": 14,
   "id": "8d6350d9",
   "metadata": {},
   "outputs": [],
   "source": [
    "n_estimators = [*range(100, 200, 50)]\n",
    "max_features = ['auto', 'sqrt']\n",
    "max_depth = [*range(1, 11, 5)]\n",
    "max_depth.append(None)\n",
    "min_samples_split = [2, 6]\n",
    "min_samples_leaf = [1, 4]\n",
    "bootstrap = [True, False]\n",
    "\n",
    "random_grid = {'n_estimators': n_estimators,\n",
    "               'max_features': max_features,\n",
    "               'max_depth': max_depth,\n",
    "               'min_samples_split': min_samples_split,\n",
    "               'min_samples_leaf': min_samples_leaf,\n",
    "               'bootstrap': bootstrap}"
   ]
  },
  {
   "cell_type": "code",
   "execution_count": 15,
   "id": "052b85c0",
   "metadata": {},
   "outputs": [
    {
     "name": "stdout",
     "output_type": "stream",
     "text": [
      "Fitting 5 folds for each of 96 candidates, totalling 480 fits\n",
      "[CV 1/5] END bootstrap=True, max_depth=1, max_features=auto, min_samples_leaf=1, min_samples_split=2, n_estimators=100; accuracy: (test=0.958) total time=   0.1s\n",
      "[CV 2/5] END bootstrap=True, max_depth=1, max_features=auto, min_samples_leaf=1, min_samples_split=2, n_estimators=100; accuracy: (test=0.958) total time=   0.0s\n",
      "[CV 3/5] END bootstrap=True, max_depth=1, max_features=auto, min_samples_leaf=1, min_samples_split=2, n_estimators=100; accuracy: (test=0.958) total time=   0.0s\n"
     ]
    },
    {
     "name": "stderr",
     "output_type": "stream",
     "text": [
      "/Users/olyashaina/anaconda3/lib/python3.10/site-packages/sklearn/ensemble/_forest.py:424: FutureWarning: `max_features='auto'` has been deprecated in 1.1 and will be removed in 1.3. To keep the past behaviour, explicitly set `max_features='sqrt'` or remove this parameter as it is also the default value for RandomForestClassifiers and ExtraTreesClassifiers.\n",
      "  warn(\n",
      "/Users/olyashaina/anaconda3/lib/python3.10/site-packages/sklearn/ensemble/_forest.py:424: FutureWarning: `max_features='auto'` has been deprecated in 1.1 and will be removed in 1.3. To keep the past behaviour, explicitly set `max_features='sqrt'` or remove this parameter as it is also the default value for RandomForestClassifiers and ExtraTreesClassifiers.\n",
      "  warn(\n",
      "/Users/olyashaina/anaconda3/lib/python3.10/site-packages/sklearn/ensemble/_forest.py:424: FutureWarning: `max_features='auto'` has been deprecated in 1.1 and will be removed in 1.3. To keep the past behaviour, explicitly set `max_features='sqrt'` or remove this parameter as it is also the default value for RandomForestClassifiers and ExtraTreesClassifiers.\n",
      "  warn(\n",
      "/Users/olyashaina/anaconda3/lib/python3.10/site-packages/sklearn/ensemble/_forest.py:424: FutureWarning: `max_features='auto'` has been deprecated in 1.1 and will be removed in 1.3. To keep the past behaviour, explicitly set `max_features='sqrt'` or remove this parameter as it is also the default value for RandomForestClassifiers and ExtraTreesClassifiers.\n",
      "  warn(\n"
     ]
    },
    {
     "name": "stdout",
     "output_type": "stream",
     "text": [
      "[CV 4/5] END bootstrap=True, max_depth=1, max_features=auto, min_samples_leaf=1, min_samples_split=2, n_estimators=100; accuracy: (test=1.000) total time=   0.0s\n",
      "[CV 5/5] END bootstrap=True, max_depth=1, max_features=auto, min_samples_leaf=1, min_samples_split=2, n_estimators=100; accuracy: (test=0.957) total time=   0.1s\n",
      "[CV 1/5] END bootstrap=True, max_depth=1, max_features=auto, min_samples_leaf=1, min_samples_split=2, n_estimators=150; accuracy: (test=0.958) total time=   0.1s\n",
      "[CV 2/5] END bootstrap=True, max_depth=1, max_features=auto, min_samples_leaf=1, min_samples_split=2, n_estimators=150; accuracy: (test=0.917) total time=   0.1s\n"
     ]
    },
    {
     "name": "stderr",
     "output_type": "stream",
     "text": [
      "/Users/olyashaina/anaconda3/lib/python3.10/site-packages/sklearn/ensemble/_forest.py:424: FutureWarning: `max_features='auto'` has been deprecated in 1.1 and will be removed in 1.3. To keep the past behaviour, explicitly set `max_features='sqrt'` or remove this parameter as it is also the default value for RandomForestClassifiers and ExtraTreesClassifiers.\n",
      "  warn(\n",
      "/Users/olyashaina/anaconda3/lib/python3.10/site-packages/sklearn/ensemble/_forest.py:424: FutureWarning: `max_features='auto'` has been deprecated in 1.1 and will be removed in 1.3. To keep the past behaviour, explicitly set `max_features='sqrt'` or remove this parameter as it is also the default value for RandomForestClassifiers and ExtraTreesClassifiers.\n",
      "  warn(\n",
      "/Users/olyashaina/anaconda3/lib/python3.10/site-packages/sklearn/ensemble/_forest.py:424: FutureWarning: `max_features='auto'` has been deprecated in 1.1 and will be removed in 1.3. To keep the past behaviour, explicitly set `max_features='sqrt'` or remove this parameter as it is also the default value for RandomForestClassifiers and ExtraTreesClassifiers.\n",
      "  warn(\n",
      "/Users/olyashaina/anaconda3/lib/python3.10/site-packages/sklearn/ensemble/_forest.py:424: FutureWarning: `max_features='auto'` has been deprecated in 1.1 and will be removed in 1.3. To keep the past behaviour, explicitly set `max_features='sqrt'` or remove this parameter as it is also the default value for RandomForestClassifiers and ExtraTreesClassifiers.\n",
      "  warn(\n"
     ]
    },
    {
     "name": "stdout",
     "output_type": "stream",
     "text": [
      "[CV 3/5] END bootstrap=True, max_depth=1, max_features=auto, min_samples_leaf=1, min_samples_split=2, n_estimators=150; accuracy: (test=0.958) total time=   0.1s\n",
      "[CV 4/5] END bootstrap=True, max_depth=1, max_features=auto, min_samples_leaf=1, min_samples_split=2, n_estimators=150; accuracy: (test=1.000) total time=   0.1s\n",
      "[CV 5/5] END bootstrap=True, max_depth=1, max_features=auto, min_samples_leaf=1, min_samples_split=2, n_estimators=150; accuracy: (test=0.957) total time=   0.1s\n",
      "[CV 1/5] END bootstrap=True, max_depth=1, max_features=auto, min_samples_leaf=1, min_samples_split=6, n_estimators=100; accuracy: (test=0.958) total time=   0.0s\n"
     ]
    },
    {
     "name": "stderr",
     "output_type": "stream",
     "text": [
      "/Users/olyashaina/anaconda3/lib/python3.10/site-packages/sklearn/ensemble/_forest.py:424: FutureWarning: `max_features='auto'` has been deprecated in 1.1 and will be removed in 1.3. To keep the past behaviour, explicitly set `max_features='sqrt'` or remove this parameter as it is also the default value for RandomForestClassifiers and ExtraTreesClassifiers.\n",
      "  warn(\n",
      "/Users/olyashaina/anaconda3/lib/python3.10/site-packages/sklearn/ensemble/_forest.py:424: FutureWarning: `max_features='auto'` has been deprecated in 1.1 and will be removed in 1.3. To keep the past behaviour, explicitly set `max_features='sqrt'` or remove this parameter as it is also the default value for RandomForestClassifiers and ExtraTreesClassifiers.\n",
      "  warn(\n",
      "/Users/olyashaina/anaconda3/lib/python3.10/site-packages/sklearn/ensemble/_forest.py:424: FutureWarning: `max_features='auto'` has been deprecated in 1.1 and will be removed in 1.3. To keep the past behaviour, explicitly set `max_features='sqrt'` or remove this parameter as it is also the default value for RandomForestClassifiers and ExtraTreesClassifiers.\n",
      "  warn(\n",
      "/Users/olyashaina/anaconda3/lib/python3.10/site-packages/sklearn/ensemble/_forest.py:424: FutureWarning: `max_features='auto'` has been deprecated in 1.1 and will be removed in 1.3. To keep the past behaviour, explicitly set `max_features='sqrt'` or remove this parameter as it is also the default value for RandomForestClassifiers and ExtraTreesClassifiers.\n",
      "  warn(\n"
     ]
    },
    {
     "name": "stdout",
     "output_type": "stream",
     "text": [
      "[CV 2/5] END bootstrap=True, max_depth=1, max_features=auto, min_samples_leaf=1, min_samples_split=6, n_estimators=100; accuracy: (test=0.958) total time=   0.0s\n",
      "[CV 3/5] END bootstrap=True, max_depth=1, max_features=auto, min_samples_leaf=1, min_samples_split=6, n_estimators=100; accuracy: (test=0.958) total time=   0.0s\n",
      "[CV 4/5] END bootstrap=True, max_depth=1, max_features=auto, min_samples_leaf=1, min_samples_split=6, n_estimators=100; accuracy: (test=1.000) total time=   0.0s\n",
      "[CV 5/5] END bootstrap=True, max_depth=1, max_features=auto, min_samples_leaf=1, min_samples_split=6, n_estimators=100; accuracy: (test=0.957) total time=   0.0s\n"
     ]
    },
    {
     "name": "stderr",
     "output_type": "stream",
     "text": [
      "/Users/olyashaina/anaconda3/lib/python3.10/site-packages/sklearn/ensemble/_forest.py:424: FutureWarning: `max_features='auto'` has been deprecated in 1.1 and will be removed in 1.3. To keep the past behaviour, explicitly set `max_features='sqrt'` or remove this parameter as it is also the default value for RandomForestClassifiers and ExtraTreesClassifiers.\n",
      "  warn(\n",
      "/Users/olyashaina/anaconda3/lib/python3.10/site-packages/sklearn/ensemble/_forest.py:424: FutureWarning: `max_features='auto'` has been deprecated in 1.1 and will be removed in 1.3. To keep the past behaviour, explicitly set `max_features='sqrt'` or remove this parameter as it is also the default value for RandomForestClassifiers and ExtraTreesClassifiers.\n",
      "  warn(\n",
      "/Users/olyashaina/anaconda3/lib/python3.10/site-packages/sklearn/ensemble/_forest.py:424: FutureWarning: `max_features='auto'` has been deprecated in 1.1 and will be removed in 1.3. To keep the past behaviour, explicitly set `max_features='sqrt'` or remove this parameter as it is also the default value for RandomForestClassifiers and ExtraTreesClassifiers.\n",
      "  warn(\n",
      "/Users/olyashaina/anaconda3/lib/python3.10/site-packages/sklearn/ensemble/_forest.py:424: FutureWarning: `max_features='auto'` has been deprecated in 1.1 and will be removed in 1.3. To keep the past behaviour, explicitly set `max_features='sqrt'` or remove this parameter as it is also the default value for RandomForestClassifiers and ExtraTreesClassifiers.\n",
      "  warn(\n"
     ]
    },
    {
     "name": "stdout",
     "output_type": "stream",
     "text": [
      "[CV 1/5] END bootstrap=True, max_depth=1, max_features=auto, min_samples_leaf=1, min_samples_split=6, n_estimators=150; accuracy: (test=0.958) total time=   0.1s\n",
      "[CV 2/5] END bootstrap=True, max_depth=1, max_features=auto, min_samples_leaf=1, min_samples_split=6, n_estimators=150; accuracy: (test=0.917) total time=   0.1s\n",
      "[CV 3/5] END bootstrap=True, max_depth=1, max_features=auto, min_samples_leaf=1, min_samples_split=6, n_estimators=150; accuracy: (test=0.958) total time=   0.1s\n",
      "[CV 4/5] END bootstrap=True, max_depth=1, max_features=auto, min_samples_leaf=1, min_samples_split=6, n_estimators=150; accuracy: (test=1.000) total time=   0.1s\n"
     ]
    },
    {
     "name": "stderr",
     "output_type": "stream",
     "text": [
      "/Users/olyashaina/anaconda3/lib/python3.10/site-packages/sklearn/ensemble/_forest.py:424: FutureWarning: `max_features='auto'` has been deprecated in 1.1 and will be removed in 1.3. To keep the past behaviour, explicitly set `max_features='sqrt'` or remove this parameter as it is also the default value for RandomForestClassifiers and ExtraTreesClassifiers.\n",
      "  warn(\n",
      "/Users/olyashaina/anaconda3/lib/python3.10/site-packages/sklearn/ensemble/_forest.py:424: FutureWarning: `max_features='auto'` has been deprecated in 1.1 and will be removed in 1.3. To keep the past behaviour, explicitly set `max_features='sqrt'` or remove this parameter as it is also the default value for RandomForestClassifiers and ExtraTreesClassifiers.\n",
      "  warn(\n",
      "/Users/olyashaina/anaconda3/lib/python3.10/site-packages/sklearn/ensemble/_forest.py:424: FutureWarning: `max_features='auto'` has been deprecated in 1.1 and will be removed in 1.3. To keep the past behaviour, explicitly set `max_features='sqrt'` or remove this parameter as it is also the default value for RandomForestClassifiers and ExtraTreesClassifiers.\n",
      "  warn(\n",
      "/Users/olyashaina/anaconda3/lib/python3.10/site-packages/sklearn/ensemble/_forest.py:424: FutureWarning: `max_features='auto'` has been deprecated in 1.1 and will be removed in 1.3. To keep the past behaviour, explicitly set `max_features='sqrt'` or remove this parameter as it is also the default value for RandomForestClassifiers and ExtraTreesClassifiers.\n",
      "  warn(\n"
     ]
    },
    {
     "name": "stdout",
     "output_type": "stream",
     "text": [
      "[CV 5/5] END bootstrap=True, max_depth=1, max_features=auto, min_samples_leaf=1, min_samples_split=6, n_estimators=150; accuracy: (test=0.957) total time=   0.1s\n",
      "[CV 1/5] END bootstrap=True, max_depth=1, max_features=auto, min_samples_leaf=4, min_samples_split=2, n_estimators=100; accuracy: (test=0.958) total time=   0.0s\n",
      "[CV 2/5] END bootstrap=True, max_depth=1, max_features=auto, min_samples_leaf=4, min_samples_split=2, n_estimators=100; accuracy: (test=0.958) total time=   0.0s\n",
      "[CV 3/5] END bootstrap=True, max_depth=1, max_features=auto, min_samples_leaf=4, min_samples_split=2, n_estimators=100; accuracy: (test=0.958) total time=   0.0s\n",
      "[CV 4/5] END bootstrap=True, max_depth=1, max_features=auto, min_samples_leaf=4, min_samples_split=2, n_estimators=100; accuracy: (test=1.000) total time=   0.0s\n"
     ]
    },
    {
     "name": "stderr",
     "output_type": "stream",
     "text": [
      "/Users/olyashaina/anaconda3/lib/python3.10/site-packages/sklearn/ensemble/_forest.py:424: FutureWarning: `max_features='auto'` has been deprecated in 1.1 and will be removed in 1.3. To keep the past behaviour, explicitly set `max_features='sqrt'` or remove this parameter as it is also the default value for RandomForestClassifiers and ExtraTreesClassifiers.\n",
      "  warn(\n",
      "/Users/olyashaina/anaconda3/lib/python3.10/site-packages/sklearn/ensemble/_forest.py:424: FutureWarning: `max_features='auto'` has been deprecated in 1.1 and will be removed in 1.3. To keep the past behaviour, explicitly set `max_features='sqrt'` or remove this parameter as it is also the default value for RandomForestClassifiers and ExtraTreesClassifiers.\n",
      "  warn(\n",
      "/Users/olyashaina/anaconda3/lib/python3.10/site-packages/sklearn/ensemble/_forest.py:424: FutureWarning: `max_features='auto'` has been deprecated in 1.1 and will be removed in 1.3. To keep the past behaviour, explicitly set `max_features='sqrt'` or remove this parameter as it is also the default value for RandomForestClassifiers and ExtraTreesClassifiers.\n",
      "  warn(\n",
      "/Users/olyashaina/anaconda3/lib/python3.10/site-packages/sklearn/ensemble/_forest.py:424: FutureWarning: `max_features='auto'` has been deprecated in 1.1 and will be removed in 1.3. To keep the past behaviour, explicitly set `max_features='sqrt'` or remove this parameter as it is also the default value for RandomForestClassifiers and ExtraTreesClassifiers.\n",
      "  warn(\n",
      "/Users/olyashaina/anaconda3/lib/python3.10/site-packages/sklearn/ensemble/_forest.py:424: FutureWarning: `max_features='auto'` has been deprecated in 1.1 and will be removed in 1.3. To keep the past behaviour, explicitly set `max_features='sqrt'` or remove this parameter as it is also the default value for RandomForestClassifiers and ExtraTreesClassifiers.\n",
      "  warn(\n"
     ]
    },
    {
     "name": "stdout",
     "output_type": "stream",
     "text": [
      "[CV 5/5] END bootstrap=True, max_depth=1, max_features=auto, min_samples_leaf=4, min_samples_split=2, n_estimators=100; accuracy: (test=0.957) total time=   0.0s\n",
      "[CV 1/5] END bootstrap=True, max_depth=1, max_features=auto, min_samples_leaf=4, min_samples_split=2, n_estimators=150; accuracy: (test=0.958) total time=   0.1s\n",
      "[CV 2/5] END bootstrap=True, max_depth=1, max_features=auto, min_samples_leaf=4, min_samples_split=2, n_estimators=150; accuracy: (test=0.917) total time=   0.1s\n",
      "[CV 3/5] END bootstrap=True, max_depth=1, max_features=auto, min_samples_leaf=4, min_samples_split=2, n_estimators=150; accuracy: (test=0.958) total time=   0.1s\n"
     ]
    },
    {
     "name": "stderr",
     "output_type": "stream",
     "text": [
      "/Users/olyashaina/anaconda3/lib/python3.10/site-packages/sklearn/ensemble/_forest.py:424: FutureWarning: `max_features='auto'` has been deprecated in 1.1 and will be removed in 1.3. To keep the past behaviour, explicitly set `max_features='sqrt'` or remove this parameter as it is also the default value for RandomForestClassifiers and ExtraTreesClassifiers.\n",
      "  warn(\n",
      "/Users/olyashaina/anaconda3/lib/python3.10/site-packages/sklearn/ensemble/_forest.py:424: FutureWarning: `max_features='auto'` has been deprecated in 1.1 and will be removed in 1.3. To keep the past behaviour, explicitly set `max_features='sqrt'` or remove this parameter as it is also the default value for RandomForestClassifiers and ExtraTreesClassifiers.\n",
      "  warn(\n",
      "/Users/olyashaina/anaconda3/lib/python3.10/site-packages/sklearn/ensemble/_forest.py:424: FutureWarning: `max_features='auto'` has been deprecated in 1.1 and will be removed in 1.3. To keep the past behaviour, explicitly set `max_features='sqrt'` or remove this parameter as it is also the default value for RandomForestClassifiers and ExtraTreesClassifiers.\n",
      "  warn(\n",
      "/Users/olyashaina/anaconda3/lib/python3.10/site-packages/sklearn/ensemble/_forest.py:424: FutureWarning: `max_features='auto'` has been deprecated in 1.1 and will be removed in 1.3. To keep the past behaviour, explicitly set `max_features='sqrt'` or remove this parameter as it is also the default value for RandomForestClassifiers and ExtraTreesClassifiers.\n",
      "  warn(\n"
     ]
    },
    {
     "name": "stdout",
     "output_type": "stream",
     "text": [
      "[CV 4/5] END bootstrap=True, max_depth=1, max_features=auto, min_samples_leaf=4, min_samples_split=2, n_estimators=150; accuracy: (test=1.000) total time=   0.1s\n",
      "[CV 5/5] END bootstrap=True, max_depth=1, max_features=auto, min_samples_leaf=4, min_samples_split=2, n_estimators=150; accuracy: (test=0.957) total time=   0.1s\n",
      "[CV 1/5] END bootstrap=True, max_depth=1, max_features=auto, min_samples_leaf=4, min_samples_split=6, n_estimators=100; accuracy: (test=0.958) total time=   0.0s\n",
      "[CV 2/5] END bootstrap=True, max_depth=1, max_features=auto, min_samples_leaf=4, min_samples_split=6, n_estimators=100; accuracy: (test=0.958) total time=   0.0s\n"
     ]
    },
    {
     "name": "stderr",
     "output_type": "stream",
     "text": [
      "/Users/olyashaina/anaconda3/lib/python3.10/site-packages/sklearn/ensemble/_forest.py:424: FutureWarning: `max_features='auto'` has been deprecated in 1.1 and will be removed in 1.3. To keep the past behaviour, explicitly set `max_features='sqrt'` or remove this parameter as it is also the default value for RandomForestClassifiers and ExtraTreesClassifiers.\n",
      "  warn(\n",
      "/Users/olyashaina/anaconda3/lib/python3.10/site-packages/sklearn/ensemble/_forest.py:424: FutureWarning: `max_features='auto'` has been deprecated in 1.1 and will be removed in 1.3. To keep the past behaviour, explicitly set `max_features='sqrt'` or remove this parameter as it is also the default value for RandomForestClassifiers and ExtraTreesClassifiers.\n",
      "  warn(\n",
      "/Users/olyashaina/anaconda3/lib/python3.10/site-packages/sklearn/ensemble/_forest.py:424: FutureWarning: `max_features='auto'` has been deprecated in 1.1 and will be removed in 1.3. To keep the past behaviour, explicitly set `max_features='sqrt'` or remove this parameter as it is also the default value for RandomForestClassifiers and ExtraTreesClassifiers.\n",
      "  warn(\n",
      "/Users/olyashaina/anaconda3/lib/python3.10/site-packages/sklearn/ensemble/_forest.py:424: FutureWarning: `max_features='auto'` has been deprecated in 1.1 and will be removed in 1.3. To keep the past behaviour, explicitly set `max_features='sqrt'` or remove this parameter as it is also the default value for RandomForestClassifiers and ExtraTreesClassifiers.\n",
      "  warn(\n"
     ]
    },
    {
     "name": "stdout",
     "output_type": "stream",
     "text": [
      "[CV 3/5] END bootstrap=True, max_depth=1, max_features=auto, min_samples_leaf=4, min_samples_split=6, n_estimators=100; accuracy: (test=0.958) total time=   0.0s\n",
      "[CV 4/5] END bootstrap=True, max_depth=1, max_features=auto, min_samples_leaf=4, min_samples_split=6, n_estimators=100; accuracy: (test=1.000) total time=   0.0s\n",
      "[CV 5/5] END bootstrap=True, max_depth=1, max_features=auto, min_samples_leaf=4, min_samples_split=6, n_estimators=100; accuracy: (test=0.957) total time=   0.0s\n",
      "[CV 1/5] END bootstrap=True, max_depth=1, max_features=auto, min_samples_leaf=4, min_samples_split=6, n_estimators=150; accuracy: (test=0.958) total time=   0.1s\n",
      "[CV 2/5] END bootstrap=True, max_depth=1, max_features=auto, min_samples_leaf=4, min_samples_split=6, n_estimators=150; accuracy: (test=0.917) total time=   0.1s\n"
     ]
    },
    {
     "name": "stderr",
     "output_type": "stream",
     "text": [
      "/Users/olyashaina/anaconda3/lib/python3.10/site-packages/sklearn/ensemble/_forest.py:424: FutureWarning: `max_features='auto'` has been deprecated in 1.1 and will be removed in 1.3. To keep the past behaviour, explicitly set `max_features='sqrt'` or remove this parameter as it is also the default value for RandomForestClassifiers and ExtraTreesClassifiers.\n",
      "  warn(\n",
      "/Users/olyashaina/anaconda3/lib/python3.10/site-packages/sklearn/ensemble/_forest.py:424: FutureWarning: `max_features='auto'` has been deprecated in 1.1 and will be removed in 1.3. To keep the past behaviour, explicitly set `max_features='sqrt'` or remove this parameter as it is also the default value for RandomForestClassifiers and ExtraTreesClassifiers.\n",
      "  warn(\n",
      "/Users/olyashaina/anaconda3/lib/python3.10/site-packages/sklearn/ensemble/_forest.py:424: FutureWarning: `max_features='auto'` has been deprecated in 1.1 and will be removed in 1.3. To keep the past behaviour, explicitly set `max_features='sqrt'` or remove this parameter as it is also the default value for RandomForestClassifiers and ExtraTreesClassifiers.\n",
      "  warn(\n",
      "/Users/olyashaina/anaconda3/lib/python3.10/site-packages/sklearn/ensemble/_forest.py:424: FutureWarning: `max_features='auto'` has been deprecated in 1.1 and will be removed in 1.3. To keep the past behaviour, explicitly set `max_features='sqrt'` or remove this parameter as it is also the default value for RandomForestClassifiers and ExtraTreesClassifiers.\n",
      "  warn(\n",
      "/Users/olyashaina/anaconda3/lib/python3.10/site-packages/sklearn/ensemble/_forest.py:424: FutureWarning: `max_features='auto'` has been deprecated in 1.1 and will be removed in 1.3. To keep the past behaviour, explicitly set `max_features='sqrt'` or remove this parameter as it is also the default value for RandomForestClassifiers and ExtraTreesClassifiers.\n",
      "  warn(\n"
     ]
    },
    {
     "name": "stdout",
     "output_type": "stream",
     "text": [
      "[CV 3/5] END bootstrap=True, max_depth=1, max_features=auto, min_samples_leaf=4, min_samples_split=6, n_estimators=150; accuracy: (test=0.958) total time=   0.1s\n",
      "[CV 4/5] END bootstrap=True, max_depth=1, max_features=auto, min_samples_leaf=4, min_samples_split=6, n_estimators=150; accuracy: (test=1.000) total time=   0.1s\n",
      "[CV 5/5] END bootstrap=True, max_depth=1, max_features=auto, min_samples_leaf=4, min_samples_split=6, n_estimators=150; accuracy: (test=0.957) total time=   0.1s\n",
      "[CV 1/5] END bootstrap=True, max_depth=1, max_features=sqrt, min_samples_leaf=1, min_samples_split=2, n_estimators=100; accuracy: (test=0.958) total time=   0.0s\n"
     ]
    },
    {
     "name": "stderr",
     "output_type": "stream",
     "text": [
      "/Users/olyashaina/anaconda3/lib/python3.10/site-packages/sklearn/ensemble/_forest.py:424: FutureWarning: `max_features='auto'` has been deprecated in 1.1 and will be removed in 1.3. To keep the past behaviour, explicitly set `max_features='sqrt'` or remove this parameter as it is also the default value for RandomForestClassifiers and ExtraTreesClassifiers.\n",
      "  warn(\n",
      "/Users/olyashaina/anaconda3/lib/python3.10/site-packages/sklearn/ensemble/_forest.py:424: FutureWarning: `max_features='auto'` has been deprecated in 1.1 and will be removed in 1.3. To keep the past behaviour, explicitly set `max_features='sqrt'` or remove this parameter as it is also the default value for RandomForestClassifiers and ExtraTreesClassifiers.\n",
      "  warn(\n"
     ]
    },
    {
     "name": "stdout",
     "output_type": "stream",
     "text": [
      "[CV 2/5] END bootstrap=True, max_depth=1, max_features=sqrt, min_samples_leaf=1, min_samples_split=2, n_estimators=100; accuracy: (test=0.958) total time=   0.0s\n",
      "[CV 3/5] END bootstrap=True, max_depth=1, max_features=sqrt, min_samples_leaf=1, min_samples_split=2, n_estimators=100; accuracy: (test=0.958) total time=   0.0s\n",
      "[CV 4/5] END bootstrap=True, max_depth=1, max_features=sqrt, min_samples_leaf=1, min_samples_split=2, n_estimators=100; accuracy: (test=1.000) total time=   0.0s\n",
      "[CV 5/5] END bootstrap=True, max_depth=1, max_features=sqrt, min_samples_leaf=1, min_samples_split=2, n_estimators=100; accuracy: (test=0.957) total time=   0.0s\n",
      "[CV 1/5] END bootstrap=True, max_depth=1, max_features=sqrt, min_samples_leaf=1, min_samples_split=2, n_estimators=150; accuracy: (test=0.958) total time=   0.1s\n",
      "[CV 2/5] END bootstrap=True, max_depth=1, max_features=sqrt, min_samples_leaf=1, min_samples_split=2, n_estimators=150; accuracy: (test=0.917) total time=   0.1s\n",
      "[CV 3/5] END bootstrap=True, max_depth=1, max_features=sqrt, min_samples_leaf=1, min_samples_split=2, n_estimators=150; accuracy: (test=0.958) total time=   0.1s\n",
      "[CV 4/5] END bootstrap=True, max_depth=1, max_features=sqrt, min_samples_leaf=1, min_samples_split=2, n_estimators=150; accuracy: (test=1.000) total time=   0.1s\n",
      "[CV 5/5] END bootstrap=True, max_depth=1, max_features=sqrt, min_samples_leaf=1, min_samples_split=2, n_estimators=150; accuracy: (test=0.957) total time=   0.1s\n",
      "[CV 1/5] END bootstrap=True, max_depth=1, max_features=sqrt, min_samples_leaf=1, min_samples_split=6, n_estimators=100; accuracy: (test=0.958) total time=   0.0s\n",
      "[CV 2/5] END bootstrap=True, max_depth=1, max_features=sqrt, min_samples_leaf=1, min_samples_split=6, n_estimators=100; accuracy: (test=0.958) total time=   0.0s\n",
      "[CV 3/5] END bootstrap=True, max_depth=1, max_features=sqrt, min_samples_leaf=1, min_samples_split=6, n_estimators=100; accuracy: (test=0.958) total time=   0.0s\n",
      "[CV 4/5] END bootstrap=True, max_depth=1, max_features=sqrt, min_samples_leaf=1, min_samples_split=6, n_estimators=100; accuracy: (test=1.000) total time=   0.0s\n",
      "[CV 5/5] END bootstrap=True, max_depth=1, max_features=sqrt, min_samples_leaf=1, min_samples_split=6, n_estimators=100; accuracy: (test=0.957) total time=   0.0s\n",
      "[CV 1/5] END bootstrap=True, max_depth=1, max_features=sqrt, min_samples_leaf=1, min_samples_split=6, n_estimators=150; accuracy: (test=0.958) total time=   0.1s\n",
      "[CV 2/5] END bootstrap=True, max_depth=1, max_features=sqrt, min_samples_leaf=1, min_samples_split=6, n_estimators=150; accuracy: (test=0.917) total time=   0.1s\n",
      "[CV 3/5] END bootstrap=True, max_depth=1, max_features=sqrt, min_samples_leaf=1, min_samples_split=6, n_estimators=150; accuracy: (test=0.958) total time=   0.1s\n",
      "[CV 4/5] END bootstrap=True, max_depth=1, max_features=sqrt, min_samples_leaf=1, min_samples_split=6, n_estimators=150; accuracy: (test=1.000) total time=   0.1s\n",
      "[CV 5/5] END bootstrap=True, max_depth=1, max_features=sqrt, min_samples_leaf=1, min_samples_split=6, n_estimators=150; accuracy: (test=0.957) total time=   0.1s\n",
      "[CV 1/5] END bootstrap=True, max_depth=1, max_features=sqrt, min_samples_leaf=4, min_samples_split=2, n_estimators=100; accuracy: (test=0.958) total time=   0.0s\n",
      "[CV 2/5] END bootstrap=True, max_depth=1, max_features=sqrt, min_samples_leaf=4, min_samples_split=2, n_estimators=100; accuracy: (test=0.958) total time=   0.0s\n",
      "[CV 3/5] END bootstrap=True, max_depth=1, max_features=sqrt, min_samples_leaf=4, min_samples_split=2, n_estimators=100; accuracy: (test=0.958) total time=   0.0s\n",
      "[CV 4/5] END bootstrap=True, max_depth=1, max_features=sqrt, min_samples_leaf=4, min_samples_split=2, n_estimators=100; accuracy: (test=1.000) total time=   0.0s\n",
      "[CV 5/5] END bootstrap=True, max_depth=1, max_features=sqrt, min_samples_leaf=4, min_samples_split=2, n_estimators=100; accuracy: (test=0.957) total time=   0.0s\n",
      "[CV 1/5] END bootstrap=True, max_depth=1, max_features=sqrt, min_samples_leaf=4, min_samples_split=2, n_estimators=150; accuracy: (test=0.958) total time=   0.1s\n",
      "[CV 2/5] END bootstrap=True, max_depth=1, max_features=sqrt, min_samples_leaf=4, min_samples_split=2, n_estimators=150; accuracy: (test=0.917) total time=   0.1s\n",
      "[CV 3/5] END bootstrap=True, max_depth=1, max_features=sqrt, min_samples_leaf=4, min_samples_split=2, n_estimators=150; accuracy: (test=0.958) total time=   0.1s\n",
      "[CV 4/5] END bootstrap=True, max_depth=1, max_features=sqrt, min_samples_leaf=4, min_samples_split=2, n_estimators=150; accuracy: (test=1.000) total time=   0.1s\n",
      "[CV 5/5] END bootstrap=True, max_depth=1, max_features=sqrt, min_samples_leaf=4, min_samples_split=2, n_estimators=150; accuracy: (test=0.957) total time=   0.1s\n",
      "[CV 1/5] END bootstrap=True, max_depth=1, max_features=sqrt, min_samples_leaf=4, min_samples_split=6, n_estimators=100; accuracy: (test=0.958) total time=   0.0s\n",
      "[CV 2/5] END bootstrap=True, max_depth=1, max_features=sqrt, min_samples_leaf=4, min_samples_split=6, n_estimators=100; accuracy: (test=0.958) total time=   0.0s\n",
      "[CV 3/5] END bootstrap=True, max_depth=1, max_features=sqrt, min_samples_leaf=4, min_samples_split=6, n_estimators=100; accuracy: (test=0.958) total time=   0.0s\n",
      "[CV 4/5] END bootstrap=True, max_depth=1, max_features=sqrt, min_samples_leaf=4, min_samples_split=6, n_estimators=100; accuracy: (test=1.000) total time=   0.0s\n",
      "[CV 5/5] END bootstrap=True, max_depth=1, max_features=sqrt, min_samples_leaf=4, min_samples_split=6, n_estimators=100; accuracy: (test=0.957) total time=   0.0s\n",
      "[CV 1/5] END bootstrap=True, max_depth=1, max_features=sqrt, min_samples_leaf=4, min_samples_split=6, n_estimators=150; accuracy: (test=0.958) total time=   0.1s\n",
      "[CV 2/5] END bootstrap=True, max_depth=1, max_features=sqrt, min_samples_leaf=4, min_samples_split=6, n_estimators=150; accuracy: (test=0.917) total time=   0.1s\n",
      "[CV 3/5] END bootstrap=True, max_depth=1, max_features=sqrt, min_samples_leaf=4, min_samples_split=6, n_estimators=150; accuracy: (test=0.958) total time=   0.1s\n",
      "[CV 4/5] END bootstrap=True, max_depth=1, max_features=sqrt, min_samples_leaf=4, min_samples_split=6, n_estimators=150; accuracy: (test=1.000) total time=   0.1s\n",
      "[CV 5/5] END bootstrap=True, max_depth=1, max_features=sqrt, min_samples_leaf=4, min_samples_split=6, n_estimators=150; accuracy: (test=0.957) total time=   0.1s\n",
      "[CV 1/5] END bootstrap=True, max_depth=6, max_features=auto, min_samples_leaf=1, min_samples_split=2, n_estimators=100; accuracy: (test=1.000) total time=   0.1s\n"
     ]
    },
    {
     "name": "stderr",
     "output_type": "stream",
     "text": [
      "/Users/olyashaina/anaconda3/lib/python3.10/site-packages/sklearn/ensemble/_forest.py:424: FutureWarning: `max_features='auto'` has been deprecated in 1.1 and will be removed in 1.3. To keep the past behaviour, explicitly set `max_features='sqrt'` or remove this parameter as it is also the default value for RandomForestClassifiers and ExtraTreesClassifiers.\n",
      "  warn(\n",
      "/Users/olyashaina/anaconda3/lib/python3.10/site-packages/sklearn/ensemble/_forest.py:424: FutureWarning: `max_features='auto'` has been deprecated in 1.1 and will be removed in 1.3. To keep the past behaviour, explicitly set `max_features='sqrt'` or remove this parameter as it is also the default value for RandomForestClassifiers and ExtraTreesClassifiers.\n",
      "  warn(\n",
      "/Users/olyashaina/anaconda3/lib/python3.10/site-packages/sklearn/ensemble/_forest.py:424: FutureWarning: `max_features='auto'` has been deprecated in 1.1 and will be removed in 1.3. To keep the past behaviour, explicitly set `max_features='sqrt'` or remove this parameter as it is also the default value for RandomForestClassifiers and ExtraTreesClassifiers.\n",
      "  warn(\n",
      "/Users/olyashaina/anaconda3/lib/python3.10/site-packages/sklearn/ensemble/_forest.py:424: FutureWarning: `max_features='auto'` has been deprecated in 1.1 and will be removed in 1.3. To keep the past behaviour, explicitly set `max_features='sqrt'` or remove this parameter as it is also the default value for RandomForestClassifiers and ExtraTreesClassifiers.\n",
      "  warn(\n",
      "/Users/olyashaina/anaconda3/lib/python3.10/site-packages/sklearn/ensemble/_forest.py:424: FutureWarning: `max_features='auto'` has been deprecated in 1.1 and will be removed in 1.3. To keep the past behaviour, explicitly set `max_features='sqrt'` or remove this parameter as it is also the default value for RandomForestClassifiers and ExtraTreesClassifiers.\n",
      "  warn(\n"
     ]
    },
    {
     "name": "stdout",
     "output_type": "stream",
     "text": [
      "[CV 2/5] END bootstrap=True, max_depth=6, max_features=auto, min_samples_leaf=1, min_samples_split=2, n_estimators=100; accuracy: (test=0.958) total time=   0.1s\n",
      "[CV 3/5] END bootstrap=True, max_depth=6, max_features=auto, min_samples_leaf=1, min_samples_split=2, n_estimators=100; accuracy: (test=1.000) total time=   0.1s\n",
      "[CV 4/5] END bootstrap=True, max_depth=6, max_features=auto, min_samples_leaf=1, min_samples_split=2, n_estimators=100; accuracy: (test=1.000) total time=   0.1s\n",
      "[CV 5/5] END bootstrap=True, max_depth=6, max_features=auto, min_samples_leaf=1, min_samples_split=2, n_estimators=100; accuracy: (test=1.000) total time=   0.1s\n"
     ]
    },
    {
     "name": "stderr",
     "output_type": "stream",
     "text": [
      "/Users/olyashaina/anaconda3/lib/python3.10/site-packages/sklearn/ensemble/_forest.py:424: FutureWarning: `max_features='auto'` has been deprecated in 1.1 and will be removed in 1.3. To keep the past behaviour, explicitly set `max_features='sqrt'` or remove this parameter as it is also the default value for RandomForestClassifiers and ExtraTreesClassifiers.\n",
      "  warn(\n",
      "/Users/olyashaina/anaconda3/lib/python3.10/site-packages/sklearn/ensemble/_forest.py:424: FutureWarning: `max_features='auto'` has been deprecated in 1.1 and will be removed in 1.3. To keep the past behaviour, explicitly set `max_features='sqrt'` or remove this parameter as it is also the default value for RandomForestClassifiers and ExtraTreesClassifiers.\n",
      "  warn(\n",
      "/Users/olyashaina/anaconda3/lib/python3.10/site-packages/sklearn/ensemble/_forest.py:424: FutureWarning: `max_features='auto'` has been deprecated in 1.1 and will be removed in 1.3. To keep the past behaviour, explicitly set `max_features='sqrt'` or remove this parameter as it is also the default value for RandomForestClassifiers and ExtraTreesClassifiers.\n",
      "  warn(\n"
     ]
    },
    {
     "name": "stdout",
     "output_type": "stream",
     "text": [
      "[CV 1/5] END bootstrap=True, max_depth=6, max_features=auto, min_samples_leaf=1, min_samples_split=2, n_estimators=150; accuracy: (test=1.000) total time=   0.1s\n",
      "[CV 2/5] END bootstrap=True, max_depth=6, max_features=auto, min_samples_leaf=1, min_samples_split=2, n_estimators=150; accuracy: (test=0.958) total time=   0.1s\n",
      "[CV 3/5] END bootstrap=True, max_depth=6, max_features=auto, min_samples_leaf=1, min_samples_split=2, n_estimators=150; accuracy: (test=1.000) total time=   0.1s\n"
     ]
    },
    {
     "name": "stderr",
     "output_type": "stream",
     "text": [
      "/Users/olyashaina/anaconda3/lib/python3.10/site-packages/sklearn/ensemble/_forest.py:424: FutureWarning: `max_features='auto'` has been deprecated in 1.1 and will be removed in 1.3. To keep the past behaviour, explicitly set `max_features='sqrt'` or remove this parameter as it is also the default value for RandomForestClassifiers and ExtraTreesClassifiers.\n",
      "  warn(\n",
      "/Users/olyashaina/anaconda3/lib/python3.10/site-packages/sklearn/ensemble/_forest.py:424: FutureWarning: `max_features='auto'` has been deprecated in 1.1 and will be removed in 1.3. To keep the past behaviour, explicitly set `max_features='sqrt'` or remove this parameter as it is also the default value for RandomForestClassifiers and ExtraTreesClassifiers.\n",
      "  warn(\n",
      "/Users/olyashaina/anaconda3/lib/python3.10/site-packages/sklearn/ensemble/_forest.py:424: FutureWarning: `max_features='auto'` has been deprecated in 1.1 and will be removed in 1.3. To keep the past behaviour, explicitly set `max_features='sqrt'` or remove this parameter as it is also the default value for RandomForestClassifiers and ExtraTreesClassifiers.\n",
      "  warn(\n",
      "/Users/olyashaina/anaconda3/lib/python3.10/site-packages/sklearn/ensemble/_forest.py:424: FutureWarning: `max_features='auto'` has been deprecated in 1.1 and will be removed in 1.3. To keep the past behaviour, explicitly set `max_features='sqrt'` or remove this parameter as it is also the default value for RandomForestClassifiers and ExtraTreesClassifiers.\n",
      "  warn(\n"
     ]
    },
    {
     "name": "stdout",
     "output_type": "stream",
     "text": [
      "[CV 4/5] END bootstrap=True, max_depth=6, max_features=auto, min_samples_leaf=1, min_samples_split=2, n_estimators=150; accuracy: (test=1.000) total time=   0.1s\n",
      "[CV 5/5] END bootstrap=True, max_depth=6, max_features=auto, min_samples_leaf=1, min_samples_split=2, n_estimators=150; accuracy: (test=1.000) total time=   0.1s\n",
      "[CV 1/5] END bootstrap=True, max_depth=6, max_features=auto, min_samples_leaf=1, min_samples_split=6, n_estimators=100; accuracy: (test=1.000) total time=   0.1s\n",
      "[CV 2/5] END bootstrap=True, max_depth=6, max_features=auto, min_samples_leaf=1, min_samples_split=6, n_estimators=100; accuracy: (test=0.958) total time=   0.1s\n"
     ]
    },
    {
     "name": "stderr",
     "output_type": "stream",
     "text": [
      "/Users/olyashaina/anaconda3/lib/python3.10/site-packages/sklearn/ensemble/_forest.py:424: FutureWarning: `max_features='auto'` has been deprecated in 1.1 and will be removed in 1.3. To keep the past behaviour, explicitly set `max_features='sqrt'` or remove this parameter as it is also the default value for RandomForestClassifiers and ExtraTreesClassifiers.\n",
      "  warn(\n",
      "/Users/olyashaina/anaconda3/lib/python3.10/site-packages/sklearn/ensemble/_forest.py:424: FutureWarning: `max_features='auto'` has been deprecated in 1.1 and will be removed in 1.3. To keep the past behaviour, explicitly set `max_features='sqrt'` or remove this parameter as it is also the default value for RandomForestClassifiers and ExtraTreesClassifiers.\n",
      "  warn(\n",
      "/Users/olyashaina/anaconda3/lib/python3.10/site-packages/sklearn/ensemble/_forest.py:424: FutureWarning: `max_features='auto'` has been deprecated in 1.1 and will be removed in 1.3. To keep the past behaviour, explicitly set `max_features='sqrt'` or remove this parameter as it is also the default value for RandomForestClassifiers and ExtraTreesClassifiers.\n",
      "  warn(\n",
      "/Users/olyashaina/anaconda3/lib/python3.10/site-packages/sklearn/ensemble/_forest.py:424: FutureWarning: `max_features='auto'` has been deprecated in 1.1 and will be removed in 1.3. To keep the past behaviour, explicitly set `max_features='sqrt'` or remove this parameter as it is also the default value for RandomForestClassifiers and ExtraTreesClassifiers.\n",
      "  warn(\n"
     ]
    },
    {
     "name": "stdout",
     "output_type": "stream",
     "text": [
      "[CV 3/5] END bootstrap=True, max_depth=6, max_features=auto, min_samples_leaf=1, min_samples_split=6, n_estimators=100; accuracy: (test=1.000) total time=   0.1s\n",
      "[CV 4/5] END bootstrap=True, max_depth=6, max_features=auto, min_samples_leaf=1, min_samples_split=6, n_estimators=100; accuracy: (test=1.000) total time=   0.0s\n",
      "[CV 5/5] END bootstrap=True, max_depth=6, max_features=auto, min_samples_leaf=1, min_samples_split=6, n_estimators=100; accuracy: (test=1.000) total time=   0.0s\n",
      "[CV 1/5] END bootstrap=True, max_depth=6, max_features=auto, min_samples_leaf=1, min_samples_split=6, n_estimators=150; accuracy: (test=1.000) total time=   0.1s\n"
     ]
    },
    {
     "name": "stderr",
     "output_type": "stream",
     "text": [
      "/Users/olyashaina/anaconda3/lib/python3.10/site-packages/sklearn/ensemble/_forest.py:424: FutureWarning: `max_features='auto'` has been deprecated in 1.1 and will be removed in 1.3. To keep the past behaviour, explicitly set `max_features='sqrt'` or remove this parameter as it is also the default value for RandomForestClassifiers and ExtraTreesClassifiers.\n",
      "  warn(\n",
      "/Users/olyashaina/anaconda3/lib/python3.10/site-packages/sklearn/ensemble/_forest.py:424: FutureWarning: `max_features='auto'` has been deprecated in 1.1 and will be removed in 1.3. To keep the past behaviour, explicitly set `max_features='sqrt'` or remove this parameter as it is also the default value for RandomForestClassifiers and ExtraTreesClassifiers.\n",
      "  warn(\n",
      "/Users/olyashaina/anaconda3/lib/python3.10/site-packages/sklearn/ensemble/_forest.py:424: FutureWarning: `max_features='auto'` has been deprecated in 1.1 and will be removed in 1.3. To keep the past behaviour, explicitly set `max_features='sqrt'` or remove this parameter as it is also the default value for RandomForestClassifiers and ExtraTreesClassifiers.\n",
      "  warn(\n"
     ]
    },
    {
     "name": "stdout",
     "output_type": "stream",
     "text": [
      "[CV 2/5] END bootstrap=True, max_depth=6, max_features=auto, min_samples_leaf=1, min_samples_split=6, n_estimators=150; accuracy: (test=0.958) total time=   0.1s\n",
      "[CV 3/5] END bootstrap=True, max_depth=6, max_features=auto, min_samples_leaf=1, min_samples_split=6, n_estimators=150; accuracy: (test=1.000) total time=   0.1s\n",
      "[CV 4/5] END bootstrap=True, max_depth=6, max_features=auto, min_samples_leaf=1, min_samples_split=6, n_estimators=150; accuracy: (test=1.000) total time=   0.1s\n"
     ]
    },
    {
     "name": "stderr",
     "output_type": "stream",
     "text": [
      "/Users/olyashaina/anaconda3/lib/python3.10/site-packages/sklearn/ensemble/_forest.py:424: FutureWarning: `max_features='auto'` has been deprecated in 1.1 and will be removed in 1.3. To keep the past behaviour, explicitly set `max_features='sqrt'` or remove this parameter as it is also the default value for RandomForestClassifiers and ExtraTreesClassifiers.\n",
      "  warn(\n",
      "/Users/olyashaina/anaconda3/lib/python3.10/site-packages/sklearn/ensemble/_forest.py:424: FutureWarning: `max_features='auto'` has been deprecated in 1.1 and will be removed in 1.3. To keep the past behaviour, explicitly set `max_features='sqrt'` or remove this parameter as it is also the default value for RandomForestClassifiers and ExtraTreesClassifiers.\n",
      "  warn(\n",
      "/Users/olyashaina/anaconda3/lib/python3.10/site-packages/sklearn/ensemble/_forest.py:424: FutureWarning: `max_features='auto'` has been deprecated in 1.1 and will be removed in 1.3. To keep the past behaviour, explicitly set `max_features='sqrt'` or remove this parameter as it is also the default value for RandomForestClassifiers and ExtraTreesClassifiers.\n",
      "  warn(\n",
      "/Users/olyashaina/anaconda3/lib/python3.10/site-packages/sklearn/ensemble/_forest.py:424: FutureWarning: `max_features='auto'` has been deprecated in 1.1 and will be removed in 1.3. To keep the past behaviour, explicitly set `max_features='sqrt'` or remove this parameter as it is also the default value for RandomForestClassifiers and ExtraTreesClassifiers.\n",
      "  warn(\n"
     ]
    },
    {
     "name": "stdout",
     "output_type": "stream",
     "text": [
      "[CV 5/5] END bootstrap=True, max_depth=6, max_features=auto, min_samples_leaf=1, min_samples_split=6, n_estimators=150; accuracy: (test=1.000) total time=   0.1s\n",
      "[CV 1/5] END bootstrap=True, max_depth=6, max_features=auto, min_samples_leaf=4, min_samples_split=2, n_estimators=100; accuracy: (test=1.000) total time=   0.0s\n",
      "[CV 2/5] END bootstrap=True, max_depth=6, max_features=auto, min_samples_leaf=4, min_samples_split=2, n_estimators=100; accuracy: (test=0.958) total time=   0.0s\n",
      "[CV 3/5] END bootstrap=True, max_depth=6, max_features=auto, min_samples_leaf=4, min_samples_split=2, n_estimators=100; accuracy: (test=0.958) total time=   0.0s\n",
      "[CV 4/5] END bootstrap=True, max_depth=6, max_features=auto, min_samples_leaf=4, min_samples_split=2, n_estimators=100; accuracy: (test=1.000) total time=   0.0s\n"
     ]
    },
    {
     "name": "stderr",
     "output_type": "stream",
     "text": [
      "/Users/olyashaina/anaconda3/lib/python3.10/site-packages/sklearn/ensemble/_forest.py:424: FutureWarning: `max_features='auto'` has been deprecated in 1.1 and will be removed in 1.3. To keep the past behaviour, explicitly set `max_features='sqrt'` or remove this parameter as it is also the default value for RandomForestClassifiers and ExtraTreesClassifiers.\n",
      "  warn(\n",
      "/Users/olyashaina/anaconda3/lib/python3.10/site-packages/sklearn/ensemble/_forest.py:424: FutureWarning: `max_features='auto'` has been deprecated in 1.1 and will be removed in 1.3. To keep the past behaviour, explicitly set `max_features='sqrt'` or remove this parameter as it is also the default value for RandomForestClassifiers and ExtraTreesClassifiers.\n",
      "  warn(\n",
      "/Users/olyashaina/anaconda3/lib/python3.10/site-packages/sklearn/ensemble/_forest.py:424: FutureWarning: `max_features='auto'` has been deprecated in 1.1 and will be removed in 1.3. To keep the past behaviour, explicitly set `max_features='sqrt'` or remove this parameter as it is also the default value for RandomForestClassifiers and ExtraTreesClassifiers.\n",
      "  warn(\n",
      "/Users/olyashaina/anaconda3/lib/python3.10/site-packages/sklearn/ensemble/_forest.py:424: FutureWarning: `max_features='auto'` has been deprecated in 1.1 and will be removed in 1.3. To keep the past behaviour, explicitly set `max_features='sqrt'` or remove this parameter as it is also the default value for RandomForestClassifiers and ExtraTreesClassifiers.\n",
      "  warn(\n"
     ]
    },
    {
     "name": "stdout",
     "output_type": "stream",
     "text": [
      "[CV 5/5] END bootstrap=True, max_depth=6, max_features=auto, min_samples_leaf=4, min_samples_split=2, n_estimators=100; accuracy: (test=1.000) total time=   0.0s\n",
      "[CV 1/5] END bootstrap=True, max_depth=6, max_features=auto, min_samples_leaf=4, min_samples_split=2, n_estimators=150; accuracy: (test=1.000) total time=   0.1s\n",
      "[CV 2/5] END bootstrap=True, max_depth=6, max_features=auto, min_samples_leaf=4, min_samples_split=2, n_estimators=150; accuracy: (test=0.958) total time=   0.1s\n"
     ]
    },
    {
     "name": "stderr",
     "output_type": "stream",
     "text": [
      "/Users/olyashaina/anaconda3/lib/python3.10/site-packages/sklearn/ensemble/_forest.py:424: FutureWarning: `max_features='auto'` has been deprecated in 1.1 and will be removed in 1.3. To keep the past behaviour, explicitly set `max_features='sqrt'` or remove this parameter as it is also the default value for RandomForestClassifiers and ExtraTreesClassifiers.\n",
      "  warn(\n",
      "/Users/olyashaina/anaconda3/lib/python3.10/site-packages/sklearn/ensemble/_forest.py:424: FutureWarning: `max_features='auto'` has been deprecated in 1.1 and will be removed in 1.3. To keep the past behaviour, explicitly set `max_features='sqrt'` or remove this parameter as it is also the default value for RandomForestClassifiers and ExtraTreesClassifiers.\n",
      "  warn(\n",
      "/Users/olyashaina/anaconda3/lib/python3.10/site-packages/sklearn/ensemble/_forest.py:424: FutureWarning: `max_features='auto'` has been deprecated in 1.1 and will be removed in 1.3. To keep the past behaviour, explicitly set `max_features='sqrt'` or remove this parameter as it is also the default value for RandomForestClassifiers and ExtraTreesClassifiers.\n",
      "  warn(\n"
     ]
    },
    {
     "name": "stdout",
     "output_type": "stream",
     "text": [
      "[CV 3/5] END bootstrap=True, max_depth=6, max_features=auto, min_samples_leaf=4, min_samples_split=2, n_estimators=150; accuracy: (test=0.958) total time=   0.1s\n",
      "[CV 4/5] END bootstrap=True, max_depth=6, max_features=auto, min_samples_leaf=4, min_samples_split=2, n_estimators=150; accuracy: (test=1.000) total time=   0.1s\n",
      "[CV 5/5] END bootstrap=True, max_depth=6, max_features=auto, min_samples_leaf=4, min_samples_split=2, n_estimators=150; accuracy: (test=1.000) total time=   0.1s\n",
      "[CV 1/5] END bootstrap=True, max_depth=6, max_features=auto, min_samples_leaf=4, min_samples_split=6, n_estimators=100; accuracy: (test=1.000) total time=   0.0s\n"
     ]
    },
    {
     "name": "stderr",
     "output_type": "stream",
     "text": [
      "/Users/olyashaina/anaconda3/lib/python3.10/site-packages/sklearn/ensemble/_forest.py:424: FutureWarning: `max_features='auto'` has been deprecated in 1.1 and will be removed in 1.3. To keep the past behaviour, explicitly set `max_features='sqrt'` or remove this parameter as it is also the default value for RandomForestClassifiers and ExtraTreesClassifiers.\n",
      "  warn(\n",
      "/Users/olyashaina/anaconda3/lib/python3.10/site-packages/sklearn/ensemble/_forest.py:424: FutureWarning: `max_features='auto'` has been deprecated in 1.1 and will be removed in 1.3. To keep the past behaviour, explicitly set `max_features='sqrt'` or remove this parameter as it is also the default value for RandomForestClassifiers and ExtraTreesClassifiers.\n",
      "  warn(\n",
      "/Users/olyashaina/anaconda3/lib/python3.10/site-packages/sklearn/ensemble/_forest.py:424: FutureWarning: `max_features='auto'` has been deprecated in 1.1 and will be removed in 1.3. To keep the past behaviour, explicitly set `max_features='sqrt'` or remove this parameter as it is also the default value for RandomForestClassifiers and ExtraTreesClassifiers.\n",
      "  warn(\n",
      "/Users/olyashaina/anaconda3/lib/python3.10/site-packages/sklearn/ensemble/_forest.py:424: FutureWarning: `max_features='auto'` has been deprecated in 1.1 and will be removed in 1.3. To keep the past behaviour, explicitly set `max_features='sqrt'` or remove this parameter as it is also the default value for RandomForestClassifiers and ExtraTreesClassifiers.\n",
      "  warn(\n",
      "/Users/olyashaina/anaconda3/lib/python3.10/site-packages/sklearn/ensemble/_forest.py:424: FutureWarning: `max_features='auto'` has been deprecated in 1.1 and will be removed in 1.3. To keep the past behaviour, explicitly set `max_features='sqrt'` or remove this parameter as it is also the default value for RandomForestClassifiers and ExtraTreesClassifiers.\n",
      "  warn(\n"
     ]
    },
    {
     "name": "stdout",
     "output_type": "stream",
     "text": [
      "[CV 2/5] END bootstrap=True, max_depth=6, max_features=auto, min_samples_leaf=4, min_samples_split=6, n_estimators=100; accuracy: (test=0.958) total time=   0.0s\n",
      "[CV 3/5] END bootstrap=True, max_depth=6, max_features=auto, min_samples_leaf=4, min_samples_split=6, n_estimators=100; accuracy: (test=0.958) total time=   0.0s\n",
      "[CV 4/5] END bootstrap=True, max_depth=6, max_features=auto, min_samples_leaf=4, min_samples_split=6, n_estimators=100; accuracy: (test=1.000) total time=   0.1s\n",
      "[CV 5/5] END bootstrap=True, max_depth=6, max_features=auto, min_samples_leaf=4, min_samples_split=6, n_estimators=100; accuracy: (test=1.000) total time=   0.1s\n"
     ]
    },
    {
     "name": "stderr",
     "output_type": "stream",
     "text": [
      "/Users/olyashaina/anaconda3/lib/python3.10/site-packages/sklearn/ensemble/_forest.py:424: FutureWarning: `max_features='auto'` has been deprecated in 1.1 and will be removed in 1.3. To keep the past behaviour, explicitly set `max_features='sqrt'` or remove this parameter as it is also the default value for RandomForestClassifiers and ExtraTreesClassifiers.\n",
      "  warn(\n",
      "/Users/olyashaina/anaconda3/lib/python3.10/site-packages/sklearn/ensemble/_forest.py:424: FutureWarning: `max_features='auto'` has been deprecated in 1.1 and will be removed in 1.3. To keep the past behaviour, explicitly set `max_features='sqrt'` or remove this parameter as it is also the default value for RandomForestClassifiers and ExtraTreesClassifiers.\n",
      "  warn(\n",
      "/Users/olyashaina/anaconda3/lib/python3.10/site-packages/sklearn/ensemble/_forest.py:424: FutureWarning: `max_features='auto'` has been deprecated in 1.1 and will be removed in 1.3. To keep the past behaviour, explicitly set `max_features='sqrt'` or remove this parameter as it is also the default value for RandomForestClassifiers and ExtraTreesClassifiers.\n",
      "  warn(\n"
     ]
    },
    {
     "name": "stdout",
     "output_type": "stream",
     "text": [
      "[CV 1/5] END bootstrap=True, max_depth=6, max_features=auto, min_samples_leaf=4, min_samples_split=6, n_estimators=150; accuracy: (test=1.000) total time=   0.1s\n",
      "[CV 2/5] END bootstrap=True, max_depth=6, max_features=auto, min_samples_leaf=4, min_samples_split=6, n_estimators=150; accuracy: (test=0.958) total time=   0.1s\n",
      "[CV 3/5] END bootstrap=True, max_depth=6, max_features=auto, min_samples_leaf=4, min_samples_split=6, n_estimators=150; accuracy: (test=0.958) total time=   0.1s\n"
     ]
    },
    {
     "name": "stderr",
     "output_type": "stream",
     "text": [
      "/Users/olyashaina/anaconda3/lib/python3.10/site-packages/sklearn/ensemble/_forest.py:424: FutureWarning: `max_features='auto'` has been deprecated in 1.1 and will be removed in 1.3. To keep the past behaviour, explicitly set `max_features='sqrt'` or remove this parameter as it is also the default value for RandomForestClassifiers and ExtraTreesClassifiers.\n",
      "  warn(\n",
      "/Users/olyashaina/anaconda3/lib/python3.10/site-packages/sklearn/ensemble/_forest.py:424: FutureWarning: `max_features='auto'` has been deprecated in 1.1 and will be removed in 1.3. To keep the past behaviour, explicitly set `max_features='sqrt'` or remove this parameter as it is also the default value for RandomForestClassifiers and ExtraTreesClassifiers.\n",
      "  warn(\n"
     ]
    },
    {
     "name": "stdout",
     "output_type": "stream",
     "text": [
      "[CV 4/5] END bootstrap=True, max_depth=6, max_features=auto, min_samples_leaf=4, min_samples_split=6, n_estimators=150; accuracy: (test=1.000) total time=   0.1s\n",
      "[CV 5/5] END bootstrap=True, max_depth=6, max_features=auto, min_samples_leaf=4, min_samples_split=6, n_estimators=150; accuracy: (test=1.000) total time=   0.1s\n",
      "[CV 1/5] END bootstrap=True, max_depth=6, max_features=sqrt, min_samples_leaf=1, min_samples_split=2, n_estimators=100; accuracy: (test=1.000) total time=   0.0s\n",
      "[CV 2/5] END bootstrap=True, max_depth=6, max_features=sqrt, min_samples_leaf=1, min_samples_split=2, n_estimators=100; accuracy: (test=0.958) total time=   0.0s\n",
      "[CV 3/5] END bootstrap=True, max_depth=6, max_features=sqrt, min_samples_leaf=1, min_samples_split=2, n_estimators=100; accuracy: (test=1.000) total time=   0.0s\n",
      "[CV 4/5] END bootstrap=True, max_depth=6, max_features=sqrt, min_samples_leaf=1, min_samples_split=2, n_estimators=100; accuracy: (test=1.000) total time=   0.0s\n",
      "[CV 5/5] END bootstrap=True, max_depth=6, max_features=sqrt, min_samples_leaf=1, min_samples_split=2, n_estimators=100; accuracy: (test=1.000) total time=   0.0s\n",
      "[CV 1/5] END bootstrap=True, max_depth=6, max_features=sqrt, min_samples_leaf=1, min_samples_split=2, n_estimators=150; accuracy: (test=1.000) total time=   0.1s\n",
      "[CV 2/5] END bootstrap=True, max_depth=6, max_features=sqrt, min_samples_leaf=1, min_samples_split=2, n_estimators=150; accuracy: (test=0.958) total time=   0.1s\n",
      "[CV 3/5] END bootstrap=True, max_depth=6, max_features=sqrt, min_samples_leaf=1, min_samples_split=2, n_estimators=150; accuracy: (test=1.000) total time=   0.1s\n",
      "[CV 4/5] END bootstrap=True, max_depth=6, max_features=sqrt, min_samples_leaf=1, min_samples_split=2, n_estimators=150; accuracy: (test=1.000) total time=   0.1s\n",
      "[CV 5/5] END bootstrap=True, max_depth=6, max_features=sqrt, min_samples_leaf=1, min_samples_split=2, n_estimators=150; accuracy: (test=1.000) total time=   0.1s\n",
      "[CV 1/5] END bootstrap=True, max_depth=6, max_features=sqrt, min_samples_leaf=1, min_samples_split=6, n_estimators=100; accuracy: (test=1.000) total time=   0.0s\n",
      "[CV 2/5] END bootstrap=True, max_depth=6, max_features=sqrt, min_samples_leaf=1, min_samples_split=6, n_estimators=100; accuracy: (test=0.958) total time=   0.0s\n",
      "[CV 3/5] END bootstrap=True, max_depth=6, max_features=sqrt, min_samples_leaf=1, min_samples_split=6, n_estimators=100; accuracy: (test=1.000) total time=   0.0s\n",
      "[CV 4/5] END bootstrap=True, max_depth=6, max_features=sqrt, min_samples_leaf=1, min_samples_split=6, n_estimators=100; accuracy: (test=1.000) total time=   0.0s\n",
      "[CV 5/5] END bootstrap=True, max_depth=6, max_features=sqrt, min_samples_leaf=1, min_samples_split=6, n_estimators=100; accuracy: (test=1.000) total time=   0.0s\n",
      "[CV 1/5] END bootstrap=True, max_depth=6, max_features=sqrt, min_samples_leaf=1, min_samples_split=6, n_estimators=150; accuracy: (test=1.000) total time=   0.1s\n",
      "[CV 2/5] END bootstrap=True, max_depth=6, max_features=sqrt, min_samples_leaf=1, min_samples_split=6, n_estimators=150; accuracy: (test=0.958) total time=   0.1s\n",
      "[CV 3/5] END bootstrap=True, max_depth=6, max_features=sqrt, min_samples_leaf=1, min_samples_split=6, n_estimators=150; accuracy: (test=1.000) total time=   0.1s\n",
      "[CV 4/5] END bootstrap=True, max_depth=6, max_features=sqrt, min_samples_leaf=1, min_samples_split=6, n_estimators=150; accuracy: (test=1.000) total time=   0.1s\n",
      "[CV 5/5] END bootstrap=True, max_depth=6, max_features=sqrt, min_samples_leaf=1, min_samples_split=6, n_estimators=150; accuracy: (test=1.000) total time=   0.1s\n",
      "[CV 1/5] END bootstrap=True, max_depth=6, max_features=sqrt, min_samples_leaf=4, min_samples_split=2, n_estimators=100; accuracy: (test=1.000) total time=   0.0s\n",
      "[CV 2/5] END bootstrap=True, max_depth=6, max_features=sqrt, min_samples_leaf=4, min_samples_split=2, n_estimators=100; accuracy: (test=0.958) total time=   0.0s\n",
      "[CV 3/5] END bootstrap=True, max_depth=6, max_features=sqrt, min_samples_leaf=4, min_samples_split=2, n_estimators=100; accuracy: (test=0.958) total time=   0.0s\n",
      "[CV 4/5] END bootstrap=True, max_depth=6, max_features=sqrt, min_samples_leaf=4, min_samples_split=2, n_estimators=100; accuracy: (test=1.000) total time=   0.0s\n",
      "[CV 5/5] END bootstrap=True, max_depth=6, max_features=sqrt, min_samples_leaf=4, min_samples_split=2, n_estimators=100; accuracy: (test=1.000) total time=   0.0s\n",
      "[CV 1/5] END bootstrap=True, max_depth=6, max_features=sqrt, min_samples_leaf=4, min_samples_split=2, n_estimators=150; accuracy: (test=1.000) total time=   0.1s\n",
      "[CV 2/5] END bootstrap=True, max_depth=6, max_features=sqrt, min_samples_leaf=4, min_samples_split=2, n_estimators=150; accuracy: (test=0.958) total time=   0.1s\n",
      "[CV 3/5] END bootstrap=True, max_depth=6, max_features=sqrt, min_samples_leaf=4, min_samples_split=2, n_estimators=150; accuracy: (test=0.958) total time=   0.1s\n",
      "[CV 4/5] END bootstrap=True, max_depth=6, max_features=sqrt, min_samples_leaf=4, min_samples_split=2, n_estimators=150; accuracy: (test=1.000) total time=   0.1s\n",
      "[CV 5/5] END bootstrap=True, max_depth=6, max_features=sqrt, min_samples_leaf=4, min_samples_split=2, n_estimators=150; accuracy: (test=1.000) total time=   0.1s\n",
      "[CV 1/5] END bootstrap=True, max_depth=6, max_features=sqrt, min_samples_leaf=4, min_samples_split=6, n_estimators=100; accuracy: (test=1.000) total time=   0.0s\n",
      "[CV 2/5] END bootstrap=True, max_depth=6, max_features=sqrt, min_samples_leaf=4, min_samples_split=6, n_estimators=100; accuracy: (test=0.958) total time=   0.0s\n",
      "[CV 3/5] END bootstrap=True, max_depth=6, max_features=sqrt, min_samples_leaf=4, min_samples_split=6, n_estimators=100; accuracy: (test=0.958) total time=   0.0s\n",
      "[CV 4/5] END bootstrap=True, max_depth=6, max_features=sqrt, min_samples_leaf=4, min_samples_split=6, n_estimators=100; accuracy: (test=1.000) total time=   0.0s\n",
      "[CV 5/5] END bootstrap=True, max_depth=6, max_features=sqrt, min_samples_leaf=4, min_samples_split=6, n_estimators=100; accuracy: (test=1.000) total time=   0.0s\n",
      "[CV 1/5] END bootstrap=True, max_depth=6, max_features=sqrt, min_samples_leaf=4, min_samples_split=6, n_estimators=150; accuracy: (test=1.000) total time=   0.1s\n",
      "[CV 2/5] END bootstrap=True, max_depth=6, max_features=sqrt, min_samples_leaf=4, min_samples_split=6, n_estimators=150; accuracy: (test=0.958) total time=   0.1s\n",
      "[CV 3/5] END bootstrap=True, max_depth=6, max_features=sqrt, min_samples_leaf=4, min_samples_split=6, n_estimators=150; accuracy: (test=0.958) total time=   0.1s\n",
      "[CV 4/5] END bootstrap=True, max_depth=6, max_features=sqrt, min_samples_leaf=4, min_samples_split=6, n_estimators=150; accuracy: (test=1.000) total time=   0.1s\n",
      "[CV 5/5] END bootstrap=True, max_depth=6, max_features=sqrt, min_samples_leaf=4, min_samples_split=6, n_estimators=150; accuracy: (test=1.000) total time=   0.1s\n",
      "[CV 1/5] END bootstrap=True, max_depth=None, max_features=auto, min_samples_leaf=1, min_samples_split=2, n_estimators=100; accuracy: (test=1.000) total time=   0.1s\n",
      "[CV 2/5] END bootstrap=True, max_depth=None, max_features=auto, min_samples_leaf=1, min_samples_split=2, n_estimators=100; accuracy: (test=0.958) total time=   0.0s\n",
      "[CV 3/5] END bootstrap=True, max_depth=None, max_features=auto, min_samples_leaf=1, min_samples_split=2, n_estimators=100; accuracy: (test=1.000) total time=   0.0s\n",
      "[CV 4/5] END bootstrap=True, max_depth=None, max_features=auto, min_samples_leaf=1, min_samples_split=2, n_estimators=100; accuracy: (test=1.000) total time=   0.0s\n"
     ]
    },
    {
     "name": "stderr",
     "output_type": "stream",
     "text": [
      "/Users/olyashaina/anaconda3/lib/python3.10/site-packages/sklearn/ensemble/_forest.py:424: FutureWarning: `max_features='auto'` has been deprecated in 1.1 and will be removed in 1.3. To keep the past behaviour, explicitly set `max_features='sqrt'` or remove this parameter as it is also the default value for RandomForestClassifiers and ExtraTreesClassifiers.\n",
      "  warn(\n",
      "/Users/olyashaina/anaconda3/lib/python3.10/site-packages/sklearn/ensemble/_forest.py:424: FutureWarning: `max_features='auto'` has been deprecated in 1.1 and will be removed in 1.3. To keep the past behaviour, explicitly set `max_features='sqrt'` or remove this parameter as it is also the default value for RandomForestClassifiers and ExtraTreesClassifiers.\n",
      "  warn(\n",
      "/Users/olyashaina/anaconda3/lib/python3.10/site-packages/sklearn/ensemble/_forest.py:424: FutureWarning: `max_features='auto'` has been deprecated in 1.1 and will be removed in 1.3. To keep the past behaviour, explicitly set `max_features='sqrt'` or remove this parameter as it is also the default value for RandomForestClassifiers and ExtraTreesClassifiers.\n",
      "  warn(\n",
      "/Users/olyashaina/anaconda3/lib/python3.10/site-packages/sklearn/ensemble/_forest.py:424: FutureWarning: `max_features='auto'` has been deprecated in 1.1 and will be removed in 1.3. To keep the past behaviour, explicitly set `max_features='sqrt'` or remove this parameter as it is also the default value for RandomForestClassifiers and ExtraTreesClassifiers.\n",
      "  warn(\n",
      "/Users/olyashaina/anaconda3/lib/python3.10/site-packages/sklearn/ensemble/_forest.py:424: FutureWarning: `max_features='auto'` has been deprecated in 1.1 and will be removed in 1.3. To keep the past behaviour, explicitly set `max_features='sqrt'` or remove this parameter as it is also the default value for RandomForestClassifiers and ExtraTreesClassifiers.\n",
      "  warn(\n"
     ]
    },
    {
     "name": "stdout",
     "output_type": "stream",
     "text": [
      "[CV 5/5] END bootstrap=True, max_depth=None, max_features=auto, min_samples_leaf=1, min_samples_split=2, n_estimators=100; accuracy: (test=1.000) total time=   0.1s\n",
      "[CV 1/5] END bootstrap=True, max_depth=None, max_features=auto, min_samples_leaf=1, min_samples_split=2, n_estimators=150; accuracy: (test=1.000) total time=   0.1s\n",
      "[CV 2/5] END bootstrap=True, max_depth=None, max_features=auto, min_samples_leaf=1, min_samples_split=2, n_estimators=150; accuracy: (test=0.958) total time=   0.1s\n"
     ]
    },
    {
     "name": "stderr",
     "output_type": "stream",
     "text": [
      "/Users/olyashaina/anaconda3/lib/python3.10/site-packages/sklearn/ensemble/_forest.py:424: FutureWarning: `max_features='auto'` has been deprecated in 1.1 and will be removed in 1.3. To keep the past behaviour, explicitly set `max_features='sqrt'` or remove this parameter as it is also the default value for RandomForestClassifiers and ExtraTreesClassifiers.\n",
      "  warn(\n",
      "/Users/olyashaina/anaconda3/lib/python3.10/site-packages/sklearn/ensemble/_forest.py:424: FutureWarning: `max_features='auto'` has been deprecated in 1.1 and will be removed in 1.3. To keep the past behaviour, explicitly set `max_features='sqrt'` or remove this parameter as it is also the default value for RandomForestClassifiers and ExtraTreesClassifiers.\n",
      "  warn(\n",
      "/Users/olyashaina/anaconda3/lib/python3.10/site-packages/sklearn/ensemble/_forest.py:424: FutureWarning: `max_features='auto'` has been deprecated in 1.1 and will be removed in 1.3. To keep the past behaviour, explicitly set `max_features='sqrt'` or remove this parameter as it is also the default value for RandomForestClassifiers and ExtraTreesClassifiers.\n",
      "  warn(\n"
     ]
    },
    {
     "name": "stdout",
     "output_type": "stream",
     "text": [
      "[CV 3/5] END bootstrap=True, max_depth=None, max_features=auto, min_samples_leaf=1, min_samples_split=2, n_estimators=150; accuracy: (test=1.000) total time=   0.1s\n",
      "[CV 4/5] END bootstrap=True, max_depth=None, max_features=auto, min_samples_leaf=1, min_samples_split=2, n_estimators=150; accuracy: (test=1.000) total time=   0.1s\n",
      "[CV 5/5] END bootstrap=True, max_depth=None, max_features=auto, min_samples_leaf=1, min_samples_split=2, n_estimators=150; accuracy: (test=1.000) total time=   0.1s\n",
      "[CV 1/5] END bootstrap=True, max_depth=None, max_features=auto, min_samples_leaf=1, min_samples_split=6, n_estimators=100; accuracy: (test=1.000) total time=   0.1s\n"
     ]
    },
    {
     "name": "stderr",
     "output_type": "stream",
     "text": [
      "/Users/olyashaina/anaconda3/lib/python3.10/site-packages/sklearn/ensemble/_forest.py:424: FutureWarning: `max_features='auto'` has been deprecated in 1.1 and will be removed in 1.3. To keep the past behaviour, explicitly set `max_features='sqrt'` or remove this parameter as it is also the default value for RandomForestClassifiers and ExtraTreesClassifiers.\n",
      "  warn(\n",
      "/Users/olyashaina/anaconda3/lib/python3.10/site-packages/sklearn/ensemble/_forest.py:424: FutureWarning: `max_features='auto'` has been deprecated in 1.1 and will be removed in 1.3. To keep the past behaviour, explicitly set `max_features='sqrt'` or remove this parameter as it is also the default value for RandomForestClassifiers and ExtraTreesClassifiers.\n",
      "  warn(\n",
      "/Users/olyashaina/anaconda3/lib/python3.10/site-packages/sklearn/ensemble/_forest.py:424: FutureWarning: `max_features='auto'` has been deprecated in 1.1 and will be removed in 1.3. To keep the past behaviour, explicitly set `max_features='sqrt'` or remove this parameter as it is also the default value for RandomForestClassifiers and ExtraTreesClassifiers.\n",
      "  warn(\n",
      "/Users/olyashaina/anaconda3/lib/python3.10/site-packages/sklearn/ensemble/_forest.py:424: FutureWarning: `max_features='auto'` has been deprecated in 1.1 and will be removed in 1.3. To keep the past behaviour, explicitly set `max_features='sqrt'` or remove this parameter as it is also the default value for RandomForestClassifiers and ExtraTreesClassifiers.\n",
      "  warn(\n"
     ]
    },
    {
     "name": "stdout",
     "output_type": "stream",
     "text": [
      "[CV 2/5] END bootstrap=True, max_depth=None, max_features=auto, min_samples_leaf=1, min_samples_split=6, n_estimators=100; accuracy: (test=0.958) total time=   0.1s\n",
      "[CV 3/5] END bootstrap=True, max_depth=None, max_features=auto, min_samples_leaf=1, min_samples_split=6, n_estimators=100; accuracy: (test=1.000) total time=   0.1s\n",
      "[CV 4/5] END bootstrap=True, max_depth=None, max_features=auto, min_samples_leaf=1, min_samples_split=6, n_estimators=100; accuracy: (test=1.000) total time=   0.0s\n",
      "[CV 5/5] END bootstrap=True, max_depth=None, max_features=auto, min_samples_leaf=1, min_samples_split=6, n_estimators=100; accuracy: (test=1.000) total time=   0.0s\n"
     ]
    },
    {
     "name": "stderr",
     "output_type": "stream",
     "text": [
      "/Users/olyashaina/anaconda3/lib/python3.10/site-packages/sklearn/ensemble/_forest.py:424: FutureWarning: `max_features='auto'` has been deprecated in 1.1 and will be removed in 1.3. To keep the past behaviour, explicitly set `max_features='sqrt'` or remove this parameter as it is also the default value for RandomForestClassifiers and ExtraTreesClassifiers.\n",
      "  warn(\n",
      "/Users/olyashaina/anaconda3/lib/python3.10/site-packages/sklearn/ensemble/_forest.py:424: FutureWarning: `max_features='auto'` has been deprecated in 1.1 and will be removed in 1.3. To keep the past behaviour, explicitly set `max_features='sqrt'` or remove this parameter as it is also the default value for RandomForestClassifiers and ExtraTreesClassifiers.\n",
      "  warn(\n",
      "/Users/olyashaina/anaconda3/lib/python3.10/site-packages/sklearn/ensemble/_forest.py:424: FutureWarning: `max_features='auto'` has been deprecated in 1.1 and will be removed in 1.3. To keep the past behaviour, explicitly set `max_features='sqrt'` or remove this parameter as it is also the default value for RandomForestClassifiers and ExtraTreesClassifiers.\n",
      "  warn(\n",
      "/Users/olyashaina/anaconda3/lib/python3.10/site-packages/sklearn/ensemble/_forest.py:424: FutureWarning: `max_features='auto'` has been deprecated in 1.1 and will be removed in 1.3. To keep the past behaviour, explicitly set `max_features='sqrt'` or remove this parameter as it is also the default value for RandomForestClassifiers and ExtraTreesClassifiers.\n",
      "  warn(\n"
     ]
    },
    {
     "name": "stdout",
     "output_type": "stream",
     "text": [
      "[CV 1/5] END bootstrap=True, max_depth=None, max_features=auto, min_samples_leaf=1, min_samples_split=6, n_estimators=150; accuracy: (test=1.000) total time=   0.1s\n",
      "[CV 2/5] END bootstrap=True, max_depth=None, max_features=auto, min_samples_leaf=1, min_samples_split=6, n_estimators=150; accuracy: (test=0.958) total time=   0.1s\n",
      "[CV 3/5] END bootstrap=True, max_depth=None, max_features=auto, min_samples_leaf=1, min_samples_split=6, n_estimators=150; accuracy: (test=1.000) total time=   0.1s\n"
     ]
    },
    {
     "name": "stderr",
     "output_type": "stream",
     "text": [
      "/Users/olyashaina/anaconda3/lib/python3.10/site-packages/sklearn/ensemble/_forest.py:424: FutureWarning: `max_features='auto'` has been deprecated in 1.1 and will be removed in 1.3. To keep the past behaviour, explicitly set `max_features='sqrt'` or remove this parameter as it is also the default value for RandomForestClassifiers and ExtraTreesClassifiers.\n",
      "  warn(\n",
      "/Users/olyashaina/anaconda3/lib/python3.10/site-packages/sklearn/ensemble/_forest.py:424: FutureWarning: `max_features='auto'` has been deprecated in 1.1 and will be removed in 1.3. To keep the past behaviour, explicitly set `max_features='sqrt'` or remove this parameter as it is also the default value for RandomForestClassifiers and ExtraTreesClassifiers.\n",
      "  warn(\n",
      "/Users/olyashaina/anaconda3/lib/python3.10/site-packages/sklearn/ensemble/_forest.py:424: FutureWarning: `max_features='auto'` has been deprecated in 1.1 and will be removed in 1.3. To keep the past behaviour, explicitly set `max_features='sqrt'` or remove this parameter as it is also the default value for RandomForestClassifiers and ExtraTreesClassifiers.\n",
      "  warn(\n"
     ]
    },
    {
     "name": "stdout",
     "output_type": "stream",
     "text": [
      "[CV 4/5] END bootstrap=True, max_depth=None, max_features=auto, min_samples_leaf=1, min_samples_split=6, n_estimators=150; accuracy: (test=1.000) total time=   0.1s\n",
      "[CV 5/5] END bootstrap=True, max_depth=None, max_features=auto, min_samples_leaf=1, min_samples_split=6, n_estimators=150; accuracy: (test=1.000) total time=   0.1s\n",
      "[CV 1/5] END bootstrap=True, max_depth=None, max_features=auto, min_samples_leaf=4, min_samples_split=2, n_estimators=100; accuracy: (test=1.000) total time=   0.0s\n",
      "[CV 2/5] END bootstrap=True, max_depth=None, max_features=auto, min_samples_leaf=4, min_samples_split=2, n_estimators=100; accuracy: (test=0.958) total time=   0.0s\n"
     ]
    },
    {
     "name": "stderr",
     "output_type": "stream",
     "text": [
      "/Users/olyashaina/anaconda3/lib/python3.10/site-packages/sklearn/ensemble/_forest.py:424: FutureWarning: `max_features='auto'` has been deprecated in 1.1 and will be removed in 1.3. To keep the past behaviour, explicitly set `max_features='sqrt'` or remove this parameter as it is also the default value for RandomForestClassifiers and ExtraTreesClassifiers.\n",
      "  warn(\n",
      "/Users/olyashaina/anaconda3/lib/python3.10/site-packages/sklearn/ensemble/_forest.py:424: FutureWarning: `max_features='auto'` has been deprecated in 1.1 and will be removed in 1.3. To keep the past behaviour, explicitly set `max_features='sqrt'` or remove this parameter as it is also the default value for RandomForestClassifiers and ExtraTreesClassifiers.\n",
      "  warn(\n",
      "/Users/olyashaina/anaconda3/lib/python3.10/site-packages/sklearn/ensemble/_forest.py:424: FutureWarning: `max_features='auto'` has been deprecated in 1.1 and will be removed in 1.3. To keep the past behaviour, explicitly set `max_features='sqrt'` or remove this parameter as it is also the default value for RandomForestClassifiers and ExtraTreesClassifiers.\n",
      "  warn(\n",
      "/Users/olyashaina/anaconda3/lib/python3.10/site-packages/sklearn/ensemble/_forest.py:424: FutureWarning: `max_features='auto'` has been deprecated in 1.1 and will be removed in 1.3. To keep the past behaviour, explicitly set `max_features='sqrt'` or remove this parameter as it is also the default value for RandomForestClassifiers and ExtraTreesClassifiers.\n",
      "  warn(\n"
     ]
    },
    {
     "name": "stdout",
     "output_type": "stream",
     "text": [
      "[CV 3/5] END bootstrap=True, max_depth=None, max_features=auto, min_samples_leaf=4, min_samples_split=2, n_estimators=100; accuracy: (test=0.958) total time=   0.1s\n",
      "[CV 4/5] END bootstrap=True, max_depth=None, max_features=auto, min_samples_leaf=4, min_samples_split=2, n_estimators=100; accuracy: (test=1.000) total time=   0.0s\n",
      "[CV 5/5] END bootstrap=True, max_depth=None, max_features=auto, min_samples_leaf=4, min_samples_split=2, n_estimators=100; accuracy: (test=1.000) total time=   0.0s\n",
      "[CV 1/5] END bootstrap=True, max_depth=None, max_features=auto, min_samples_leaf=4, min_samples_split=2, n_estimators=150; accuracy: (test=1.000) total time=   0.1s\n"
     ]
    },
    {
     "name": "stderr",
     "output_type": "stream",
     "text": [
      "/Users/olyashaina/anaconda3/lib/python3.10/site-packages/sklearn/ensemble/_forest.py:424: FutureWarning: `max_features='auto'` has been deprecated in 1.1 and will be removed in 1.3. To keep the past behaviour, explicitly set `max_features='sqrt'` or remove this parameter as it is also the default value for RandomForestClassifiers and ExtraTreesClassifiers.\n",
      "  warn(\n",
      "/Users/olyashaina/anaconda3/lib/python3.10/site-packages/sklearn/ensemble/_forest.py:424: FutureWarning: `max_features='auto'` has been deprecated in 1.1 and will be removed in 1.3. To keep the past behaviour, explicitly set `max_features='sqrt'` or remove this parameter as it is also the default value for RandomForestClassifiers and ExtraTreesClassifiers.\n",
      "  warn(\n",
      "/Users/olyashaina/anaconda3/lib/python3.10/site-packages/sklearn/ensemble/_forest.py:424: FutureWarning: `max_features='auto'` has been deprecated in 1.1 and will be removed in 1.3. To keep the past behaviour, explicitly set `max_features='sqrt'` or remove this parameter as it is also the default value for RandomForestClassifiers and ExtraTreesClassifiers.\n",
      "  warn(\n",
      "/Users/olyashaina/anaconda3/lib/python3.10/site-packages/sklearn/ensemble/_forest.py:424: FutureWarning: `max_features='auto'` has been deprecated in 1.1 and will be removed in 1.3. To keep the past behaviour, explicitly set `max_features='sqrt'` or remove this parameter as it is also the default value for RandomForestClassifiers and ExtraTreesClassifiers.\n",
      "  warn(\n"
     ]
    },
    {
     "name": "stdout",
     "output_type": "stream",
     "text": [
      "[CV 2/5] END bootstrap=True, max_depth=None, max_features=auto, min_samples_leaf=4, min_samples_split=2, n_estimators=150; accuracy: (test=0.958) total time=   0.1s\n",
      "[CV 3/5] END bootstrap=True, max_depth=None, max_features=auto, min_samples_leaf=4, min_samples_split=2, n_estimators=150; accuracy: (test=0.958) total time=   0.1s\n",
      "[CV 4/5] END bootstrap=True, max_depth=None, max_features=auto, min_samples_leaf=4, min_samples_split=2, n_estimators=150; accuracy: (test=1.000) total time=   0.1s\n"
     ]
    },
    {
     "name": "stderr",
     "output_type": "stream",
     "text": [
      "/Users/olyashaina/anaconda3/lib/python3.10/site-packages/sklearn/ensemble/_forest.py:424: FutureWarning: `max_features='auto'` has been deprecated in 1.1 and will be removed in 1.3. To keep the past behaviour, explicitly set `max_features='sqrt'` or remove this parameter as it is also the default value for RandomForestClassifiers and ExtraTreesClassifiers.\n",
      "  warn(\n",
      "/Users/olyashaina/anaconda3/lib/python3.10/site-packages/sklearn/ensemble/_forest.py:424: FutureWarning: `max_features='auto'` has been deprecated in 1.1 and will be removed in 1.3. To keep the past behaviour, explicitly set `max_features='sqrt'` or remove this parameter as it is also the default value for RandomForestClassifiers and ExtraTreesClassifiers.\n",
      "  warn(\n",
      "/Users/olyashaina/anaconda3/lib/python3.10/site-packages/sklearn/ensemble/_forest.py:424: FutureWarning: `max_features='auto'` has been deprecated in 1.1 and will be removed in 1.3. To keep the past behaviour, explicitly set `max_features='sqrt'` or remove this parameter as it is also the default value for RandomForestClassifiers and ExtraTreesClassifiers.\n",
      "  warn(\n"
     ]
    },
    {
     "name": "stdout",
     "output_type": "stream",
     "text": [
      "[CV 5/5] END bootstrap=True, max_depth=None, max_features=auto, min_samples_leaf=4, min_samples_split=2, n_estimators=150; accuracy: (test=1.000) total time=   0.1s\n",
      "[CV 1/5] END bootstrap=True, max_depth=None, max_features=auto, min_samples_leaf=4, min_samples_split=6, n_estimators=100; accuracy: (test=1.000) total time=   0.0s\n",
      "[CV 2/5] END bootstrap=True, max_depth=None, max_features=auto, min_samples_leaf=4, min_samples_split=6, n_estimators=100; accuracy: (test=0.958) total time=   0.0s\n",
      "[CV 3/5] END bootstrap=True, max_depth=None, max_features=auto, min_samples_leaf=4, min_samples_split=6, n_estimators=100; accuracy: (test=0.958) total time=   0.0s\n",
      "[CV 4/5] END bootstrap=True, max_depth=None, max_features=auto, min_samples_leaf=4, min_samples_split=6, n_estimators=100; accuracy: (test=1.000) total time=   0.0s\n"
     ]
    },
    {
     "name": "stderr",
     "output_type": "stream",
     "text": [
      "/Users/olyashaina/anaconda3/lib/python3.10/site-packages/sklearn/ensemble/_forest.py:424: FutureWarning: `max_features='auto'` has been deprecated in 1.1 and will be removed in 1.3. To keep the past behaviour, explicitly set `max_features='sqrt'` or remove this parameter as it is also the default value for RandomForestClassifiers and ExtraTreesClassifiers.\n",
      "  warn(\n",
      "/Users/olyashaina/anaconda3/lib/python3.10/site-packages/sklearn/ensemble/_forest.py:424: FutureWarning: `max_features='auto'` has been deprecated in 1.1 and will be removed in 1.3. To keep the past behaviour, explicitly set `max_features='sqrt'` or remove this parameter as it is also the default value for RandomForestClassifiers and ExtraTreesClassifiers.\n",
      "  warn(\n",
      "/Users/olyashaina/anaconda3/lib/python3.10/site-packages/sklearn/ensemble/_forest.py:424: FutureWarning: `max_features='auto'` has been deprecated in 1.1 and will be removed in 1.3. To keep the past behaviour, explicitly set `max_features='sqrt'` or remove this parameter as it is also the default value for RandomForestClassifiers and ExtraTreesClassifiers.\n",
      "  warn(\n",
      "/Users/olyashaina/anaconda3/lib/python3.10/site-packages/sklearn/ensemble/_forest.py:424: FutureWarning: `max_features='auto'` has been deprecated in 1.1 and will be removed in 1.3. To keep the past behaviour, explicitly set `max_features='sqrt'` or remove this parameter as it is also the default value for RandomForestClassifiers and ExtraTreesClassifiers.\n",
      "  warn(\n",
      "/Users/olyashaina/anaconda3/lib/python3.10/site-packages/sklearn/ensemble/_forest.py:424: FutureWarning: `max_features='auto'` has been deprecated in 1.1 and will be removed in 1.3. To keep the past behaviour, explicitly set `max_features='sqrt'` or remove this parameter as it is also the default value for RandomForestClassifiers and ExtraTreesClassifiers.\n",
      "  warn(\n"
     ]
    },
    {
     "name": "stdout",
     "output_type": "stream",
     "text": [
      "[CV 5/5] END bootstrap=True, max_depth=None, max_features=auto, min_samples_leaf=4, min_samples_split=6, n_estimators=100; accuracy: (test=1.000) total time=   0.0s\n",
      "[CV 1/5] END bootstrap=True, max_depth=None, max_features=auto, min_samples_leaf=4, min_samples_split=6, n_estimators=150; accuracy: (test=1.000) total time=   0.1s\n",
      "[CV 2/5] END bootstrap=True, max_depth=None, max_features=auto, min_samples_leaf=4, min_samples_split=6, n_estimators=150; accuracy: (test=0.958) total time=   0.1s\n"
     ]
    },
    {
     "name": "stderr",
     "output_type": "stream",
     "text": [
      "/Users/olyashaina/anaconda3/lib/python3.10/site-packages/sklearn/ensemble/_forest.py:424: FutureWarning: `max_features='auto'` has been deprecated in 1.1 and will be removed in 1.3. To keep the past behaviour, explicitly set `max_features='sqrt'` or remove this parameter as it is also the default value for RandomForestClassifiers and ExtraTreesClassifiers.\n",
      "  warn(\n",
      "/Users/olyashaina/anaconda3/lib/python3.10/site-packages/sklearn/ensemble/_forest.py:424: FutureWarning: `max_features='auto'` has been deprecated in 1.1 and will be removed in 1.3. To keep the past behaviour, explicitly set `max_features='sqrt'` or remove this parameter as it is also the default value for RandomForestClassifiers and ExtraTreesClassifiers.\n",
      "  warn(\n",
      "/Users/olyashaina/anaconda3/lib/python3.10/site-packages/sklearn/ensemble/_forest.py:424: FutureWarning: `max_features='auto'` has been deprecated in 1.1 and will be removed in 1.3. To keep the past behaviour, explicitly set `max_features='sqrt'` or remove this parameter as it is also the default value for RandomForestClassifiers and ExtraTreesClassifiers.\n",
      "  warn(\n"
     ]
    },
    {
     "name": "stdout",
     "output_type": "stream",
     "text": [
      "[CV 3/5] END bootstrap=True, max_depth=None, max_features=auto, min_samples_leaf=4, min_samples_split=6, n_estimators=150; accuracy: (test=0.958) total time=   0.1s\n",
      "[CV 4/5] END bootstrap=True, max_depth=None, max_features=auto, min_samples_leaf=4, min_samples_split=6, n_estimators=150; accuracy: (test=1.000) total time=   0.1s\n",
      "[CV 5/5] END bootstrap=True, max_depth=None, max_features=auto, min_samples_leaf=4, min_samples_split=6, n_estimators=150; accuracy: (test=1.000) total time=   0.1s\n",
      "[CV 1/5] END bootstrap=True, max_depth=None, max_features=sqrt, min_samples_leaf=1, min_samples_split=2, n_estimators=100; accuracy: (test=1.000) total time=   0.0s\n"
     ]
    },
    {
     "name": "stderr",
     "output_type": "stream",
     "text": [
      "/Users/olyashaina/anaconda3/lib/python3.10/site-packages/sklearn/ensemble/_forest.py:424: FutureWarning: `max_features='auto'` has been deprecated in 1.1 and will be removed in 1.3. To keep the past behaviour, explicitly set `max_features='sqrt'` or remove this parameter as it is also the default value for RandomForestClassifiers and ExtraTreesClassifiers.\n",
      "  warn(\n",
      "/Users/olyashaina/anaconda3/lib/python3.10/site-packages/sklearn/ensemble/_forest.py:424: FutureWarning: `max_features='auto'` has been deprecated in 1.1 and will be removed in 1.3. To keep the past behaviour, explicitly set `max_features='sqrt'` or remove this parameter as it is also the default value for RandomForestClassifiers and ExtraTreesClassifiers.\n",
      "  warn(\n"
     ]
    },
    {
     "name": "stdout",
     "output_type": "stream",
     "text": [
      "[CV 2/5] END bootstrap=True, max_depth=None, max_features=sqrt, min_samples_leaf=1, min_samples_split=2, n_estimators=100; accuracy: (test=0.958) total time=   0.0s\n",
      "[CV 3/5] END bootstrap=True, max_depth=None, max_features=sqrt, min_samples_leaf=1, min_samples_split=2, n_estimators=100; accuracy: (test=1.000) total time=   0.0s\n",
      "[CV 4/5] END bootstrap=True, max_depth=None, max_features=sqrt, min_samples_leaf=1, min_samples_split=2, n_estimators=100; accuracy: (test=1.000) total time=   0.0s\n",
      "[CV 5/5] END bootstrap=True, max_depth=None, max_features=sqrt, min_samples_leaf=1, min_samples_split=2, n_estimators=100; accuracy: (test=1.000) total time=   0.0s\n",
      "[CV 1/5] END bootstrap=True, max_depth=None, max_features=sqrt, min_samples_leaf=1, min_samples_split=2, n_estimators=150; accuracy: (test=1.000) total time=   0.1s\n",
      "[CV 2/5] END bootstrap=True, max_depth=None, max_features=sqrt, min_samples_leaf=1, min_samples_split=2, n_estimators=150; accuracy: (test=0.958) total time=   0.1s\n",
      "[CV 3/5] END bootstrap=True, max_depth=None, max_features=sqrt, min_samples_leaf=1, min_samples_split=2, n_estimators=150; accuracy: (test=1.000) total time=   0.1s\n",
      "[CV 4/5] END bootstrap=True, max_depth=None, max_features=sqrt, min_samples_leaf=1, min_samples_split=2, n_estimators=150; accuracy: (test=1.000) total time=   0.1s\n",
      "[CV 5/5] END bootstrap=True, max_depth=None, max_features=sqrt, min_samples_leaf=1, min_samples_split=2, n_estimators=150; accuracy: (test=1.000) total time=   0.1s\n",
      "[CV 1/5] END bootstrap=True, max_depth=None, max_features=sqrt, min_samples_leaf=1, min_samples_split=6, n_estimators=100; accuracy: (test=1.000) total time=   0.0s\n",
      "[CV 2/5] END bootstrap=True, max_depth=None, max_features=sqrt, min_samples_leaf=1, min_samples_split=6, n_estimators=100; accuracy: (test=0.958) total time=   0.0s\n",
      "[CV 3/5] END bootstrap=True, max_depth=None, max_features=sqrt, min_samples_leaf=1, min_samples_split=6, n_estimators=100; accuracy: (test=1.000) total time=   0.0s\n",
      "[CV 4/5] END bootstrap=True, max_depth=None, max_features=sqrt, min_samples_leaf=1, min_samples_split=6, n_estimators=100; accuracy: (test=1.000) total time=   0.0s\n",
      "[CV 5/5] END bootstrap=True, max_depth=None, max_features=sqrt, min_samples_leaf=1, min_samples_split=6, n_estimators=100; accuracy: (test=1.000) total time=   0.0s\n",
      "[CV 1/5] END bootstrap=True, max_depth=None, max_features=sqrt, min_samples_leaf=1, min_samples_split=6, n_estimators=150; accuracy: (test=1.000) total time=   0.1s\n",
      "[CV 2/5] END bootstrap=True, max_depth=None, max_features=sqrt, min_samples_leaf=1, min_samples_split=6, n_estimators=150; accuracy: (test=0.958) total time=   0.1s\n",
      "[CV 3/5] END bootstrap=True, max_depth=None, max_features=sqrt, min_samples_leaf=1, min_samples_split=6, n_estimators=150; accuracy: (test=1.000) total time=   0.1s\n",
      "[CV 4/5] END bootstrap=True, max_depth=None, max_features=sqrt, min_samples_leaf=1, min_samples_split=6, n_estimators=150; accuracy: (test=1.000) total time=   0.1s\n",
      "[CV 5/5] END bootstrap=True, max_depth=None, max_features=sqrt, min_samples_leaf=1, min_samples_split=6, n_estimators=150; accuracy: (test=1.000) total time=   0.1s\n",
      "[CV 1/5] END bootstrap=True, max_depth=None, max_features=sqrt, min_samples_leaf=4, min_samples_split=2, n_estimators=100; accuracy: (test=1.000) total time=   0.0s\n",
      "[CV 2/5] END bootstrap=True, max_depth=None, max_features=sqrt, min_samples_leaf=4, min_samples_split=2, n_estimators=100; accuracy: (test=0.958) total time=   0.0s\n",
      "[CV 3/5] END bootstrap=True, max_depth=None, max_features=sqrt, min_samples_leaf=4, min_samples_split=2, n_estimators=100; accuracy: (test=0.958) total time=   0.0s\n",
      "[CV 4/5] END bootstrap=True, max_depth=None, max_features=sqrt, min_samples_leaf=4, min_samples_split=2, n_estimators=100; accuracy: (test=1.000) total time=   0.0s\n",
      "[CV 5/5] END bootstrap=True, max_depth=None, max_features=sqrt, min_samples_leaf=4, min_samples_split=2, n_estimators=100; accuracy: (test=1.000) total time=   0.0s\n",
      "[CV 1/5] END bootstrap=True, max_depth=None, max_features=sqrt, min_samples_leaf=4, min_samples_split=2, n_estimators=150; accuracy: (test=1.000) total time=   0.1s\n",
      "[CV 2/5] END bootstrap=True, max_depth=None, max_features=sqrt, min_samples_leaf=4, min_samples_split=2, n_estimators=150; accuracy: (test=0.958) total time=   0.1s\n",
      "[CV 3/5] END bootstrap=True, max_depth=None, max_features=sqrt, min_samples_leaf=4, min_samples_split=2, n_estimators=150; accuracy: (test=0.958) total time=   0.1s\n",
      "[CV 4/5] END bootstrap=True, max_depth=None, max_features=sqrt, min_samples_leaf=4, min_samples_split=2, n_estimators=150; accuracy: (test=1.000) total time=   0.1s\n",
      "[CV 5/5] END bootstrap=True, max_depth=None, max_features=sqrt, min_samples_leaf=4, min_samples_split=2, n_estimators=150; accuracy: (test=1.000) total time=   0.1s\n",
      "[CV 1/5] END bootstrap=True, max_depth=None, max_features=sqrt, min_samples_leaf=4, min_samples_split=6, n_estimators=100; accuracy: (test=1.000) total time=   0.0s\n",
      "[CV 2/5] END bootstrap=True, max_depth=None, max_features=sqrt, min_samples_leaf=4, min_samples_split=6, n_estimators=100; accuracy: (test=0.958) total time=   0.0s\n",
      "[CV 3/5] END bootstrap=True, max_depth=None, max_features=sqrt, min_samples_leaf=4, min_samples_split=6, n_estimators=100; accuracy: (test=0.958) total time=   0.0s\n",
      "[CV 4/5] END bootstrap=True, max_depth=None, max_features=sqrt, min_samples_leaf=4, min_samples_split=6, n_estimators=100; accuracy: (test=1.000) total time=   0.0s\n",
      "[CV 5/5] END bootstrap=True, max_depth=None, max_features=sqrt, min_samples_leaf=4, min_samples_split=6, n_estimators=100; accuracy: (test=1.000) total time=   0.0s\n",
      "[CV 1/5] END bootstrap=True, max_depth=None, max_features=sqrt, min_samples_leaf=4, min_samples_split=6, n_estimators=150; accuracy: (test=1.000) total time=   0.1s\n",
      "[CV 2/5] END bootstrap=True, max_depth=None, max_features=sqrt, min_samples_leaf=4, min_samples_split=6, n_estimators=150; accuracy: (test=0.958) total time=   0.1s\n",
      "[CV 3/5] END bootstrap=True, max_depth=None, max_features=sqrt, min_samples_leaf=4, min_samples_split=6, n_estimators=150; accuracy: (test=0.958) total time=   0.1s\n",
      "[CV 4/5] END bootstrap=True, max_depth=None, max_features=sqrt, min_samples_leaf=4, min_samples_split=6, n_estimators=150; accuracy: (test=1.000) total time=   0.1s\n",
      "[CV 5/5] END bootstrap=True, max_depth=None, max_features=sqrt, min_samples_leaf=4, min_samples_split=6, n_estimators=150; accuracy: (test=1.000) total time=   0.1s\n",
      "[CV 1/5] END bootstrap=False, max_depth=1, max_features=auto, min_samples_leaf=1, min_samples_split=2, n_estimators=100; accuracy: (test=0.917) total time=   0.0s\n",
      "[CV 2/5] END bootstrap=False, max_depth=1, max_features=auto, min_samples_leaf=1, min_samples_split=2, n_estimators=100; accuracy: (test=0.875) total time=   0.0s\n",
      "[CV 3/5] END bootstrap=False, max_depth=1, max_features=auto, min_samples_leaf=1, min_samples_split=2, n_estimators=100; accuracy: (test=0.958) total time=   0.0s\n",
      "[CV 4/5] END bootstrap=False, max_depth=1, max_features=auto, min_samples_leaf=1, min_samples_split=2, n_estimators=100; accuracy: (test=0.875) total time=   0.0s\n",
      "[CV 5/5] END bootstrap=False, max_depth=1, max_features=auto, min_samples_leaf=1, min_samples_split=2, n_estimators=100; accuracy: (test=0.870) total time=   0.0s\n"
     ]
    },
    {
     "name": "stderr",
     "output_type": "stream",
     "text": [
      "/Users/olyashaina/anaconda3/lib/python3.10/site-packages/sklearn/ensemble/_forest.py:424: FutureWarning: `max_features='auto'` has been deprecated in 1.1 and will be removed in 1.3. To keep the past behaviour, explicitly set `max_features='sqrt'` or remove this parameter as it is also the default value for RandomForestClassifiers and ExtraTreesClassifiers.\n",
      "  warn(\n",
      "/Users/olyashaina/anaconda3/lib/python3.10/site-packages/sklearn/ensemble/_forest.py:424: FutureWarning: `max_features='auto'` has been deprecated in 1.1 and will be removed in 1.3. To keep the past behaviour, explicitly set `max_features='sqrt'` or remove this parameter as it is also the default value for RandomForestClassifiers and ExtraTreesClassifiers.\n",
      "  warn(\n",
      "/Users/olyashaina/anaconda3/lib/python3.10/site-packages/sklearn/ensemble/_forest.py:424: FutureWarning: `max_features='auto'` has been deprecated in 1.1 and will be removed in 1.3. To keep the past behaviour, explicitly set `max_features='sqrt'` or remove this parameter as it is also the default value for RandomForestClassifiers and ExtraTreesClassifiers.\n",
      "  warn(\n",
      "/Users/olyashaina/anaconda3/lib/python3.10/site-packages/sklearn/ensemble/_forest.py:424: FutureWarning: `max_features='auto'` has been deprecated in 1.1 and will be removed in 1.3. To keep the past behaviour, explicitly set `max_features='sqrt'` or remove this parameter as it is also the default value for RandomForestClassifiers and ExtraTreesClassifiers.\n",
      "  warn(\n",
      "/Users/olyashaina/anaconda3/lib/python3.10/site-packages/sklearn/ensemble/_forest.py:424: FutureWarning: `max_features='auto'` has been deprecated in 1.1 and will be removed in 1.3. To keep the past behaviour, explicitly set `max_features='sqrt'` or remove this parameter as it is also the default value for RandomForestClassifiers and ExtraTreesClassifiers.\n",
      "  warn(\n",
      "/Users/olyashaina/anaconda3/lib/python3.10/site-packages/sklearn/ensemble/_forest.py:424: FutureWarning: `max_features='auto'` has been deprecated in 1.1 and will be removed in 1.3. To keep the past behaviour, explicitly set `max_features='sqrt'` or remove this parameter as it is also the default value for RandomForestClassifiers and ExtraTreesClassifiers.\n",
      "  warn(\n"
     ]
    },
    {
     "name": "stdout",
     "output_type": "stream",
     "text": [
      "[CV 1/5] END bootstrap=False, max_depth=1, max_features=auto, min_samples_leaf=1, min_samples_split=2, n_estimators=150; accuracy: (test=0.917) total time=   0.1s\n",
      "[CV 2/5] END bootstrap=False, max_depth=1, max_features=auto, min_samples_leaf=1, min_samples_split=2, n_estimators=150; accuracy: (test=0.875) total time=   0.1s\n",
      "[CV 3/5] END bootstrap=False, max_depth=1, max_features=auto, min_samples_leaf=1, min_samples_split=2, n_estimators=150; accuracy: (test=0.958) total time=   0.1s\n",
      "[CV 4/5] END bootstrap=False, max_depth=1, max_features=auto, min_samples_leaf=1, min_samples_split=2, n_estimators=150; accuracy: (test=0.917) total time=   0.1s\n"
     ]
    },
    {
     "name": "stderr",
     "output_type": "stream",
     "text": [
      "/Users/olyashaina/anaconda3/lib/python3.10/site-packages/sklearn/ensemble/_forest.py:424: FutureWarning: `max_features='auto'` has been deprecated in 1.1 and will be removed in 1.3. To keep the past behaviour, explicitly set `max_features='sqrt'` or remove this parameter as it is also the default value for RandomForestClassifiers and ExtraTreesClassifiers.\n",
      "  warn(\n",
      "/Users/olyashaina/anaconda3/lib/python3.10/site-packages/sklearn/ensemble/_forest.py:424: FutureWarning: `max_features='auto'` has been deprecated in 1.1 and will be removed in 1.3. To keep the past behaviour, explicitly set `max_features='sqrt'` or remove this parameter as it is also the default value for RandomForestClassifiers and ExtraTreesClassifiers.\n",
      "  warn(\n",
      "/Users/olyashaina/anaconda3/lib/python3.10/site-packages/sklearn/ensemble/_forest.py:424: FutureWarning: `max_features='auto'` has been deprecated in 1.1 and will be removed in 1.3. To keep the past behaviour, explicitly set `max_features='sqrt'` or remove this parameter as it is also the default value for RandomForestClassifiers and ExtraTreesClassifiers.\n",
      "  warn(\n",
      "/Users/olyashaina/anaconda3/lib/python3.10/site-packages/sklearn/ensemble/_forest.py:424: FutureWarning: `max_features='auto'` has been deprecated in 1.1 and will be removed in 1.3. To keep the past behaviour, explicitly set `max_features='sqrt'` or remove this parameter as it is also the default value for RandomForestClassifiers and ExtraTreesClassifiers.\n",
      "  warn(\n"
     ]
    },
    {
     "name": "stdout",
     "output_type": "stream",
     "text": [
      "[CV 5/5] END bootstrap=False, max_depth=1, max_features=auto, min_samples_leaf=1, min_samples_split=2, n_estimators=150; accuracy: (test=0.870) total time=   0.1s\n",
      "[CV 1/5] END bootstrap=False, max_depth=1, max_features=auto, min_samples_leaf=1, min_samples_split=6, n_estimators=100; accuracy: (test=0.917) total time=   0.0s\n",
      "[CV 2/5] END bootstrap=False, max_depth=1, max_features=auto, min_samples_leaf=1, min_samples_split=6, n_estimators=100; accuracy: (test=0.875) total time=   0.0s\n",
      "[CV 3/5] END bootstrap=False, max_depth=1, max_features=auto, min_samples_leaf=1, min_samples_split=6, n_estimators=100; accuracy: (test=0.958) total time=   0.0s\n",
      "[CV 4/5] END bootstrap=False, max_depth=1, max_features=auto, min_samples_leaf=1, min_samples_split=6, n_estimators=100; accuracy: (test=0.875) total time=   0.0s\n",
      "[CV 5/5] END bootstrap=False, max_depth=1, max_features=auto, min_samples_leaf=1, min_samples_split=6, n_estimators=100; accuracy: (test=0.870) total time=   0.0s\n"
     ]
    },
    {
     "name": "stderr",
     "output_type": "stream",
     "text": [
      "/Users/olyashaina/anaconda3/lib/python3.10/site-packages/sklearn/ensemble/_forest.py:424: FutureWarning: `max_features='auto'` has been deprecated in 1.1 and will be removed in 1.3. To keep the past behaviour, explicitly set `max_features='sqrt'` or remove this parameter as it is also the default value for RandomForestClassifiers and ExtraTreesClassifiers.\n",
      "  warn(\n",
      "/Users/olyashaina/anaconda3/lib/python3.10/site-packages/sklearn/ensemble/_forest.py:424: FutureWarning: `max_features='auto'` has been deprecated in 1.1 and will be removed in 1.3. To keep the past behaviour, explicitly set `max_features='sqrt'` or remove this parameter as it is also the default value for RandomForestClassifiers and ExtraTreesClassifiers.\n",
      "  warn(\n",
      "/Users/olyashaina/anaconda3/lib/python3.10/site-packages/sklearn/ensemble/_forest.py:424: FutureWarning: `max_features='auto'` has been deprecated in 1.1 and will be removed in 1.3. To keep the past behaviour, explicitly set `max_features='sqrt'` or remove this parameter as it is also the default value for RandomForestClassifiers and ExtraTreesClassifiers.\n",
      "  warn(\n",
      "/Users/olyashaina/anaconda3/lib/python3.10/site-packages/sklearn/ensemble/_forest.py:424: FutureWarning: `max_features='auto'` has been deprecated in 1.1 and will be removed in 1.3. To keep the past behaviour, explicitly set `max_features='sqrt'` or remove this parameter as it is also the default value for RandomForestClassifiers and ExtraTreesClassifiers.\n",
      "  warn(\n",
      "/Users/olyashaina/anaconda3/lib/python3.10/site-packages/sklearn/ensemble/_forest.py:424: FutureWarning: `max_features='auto'` has been deprecated in 1.1 and will be removed in 1.3. To keep the past behaviour, explicitly set `max_features='sqrt'` or remove this parameter as it is also the default value for RandomForestClassifiers and ExtraTreesClassifiers.\n",
      "  warn(\n",
      "/Users/olyashaina/anaconda3/lib/python3.10/site-packages/sklearn/ensemble/_forest.py:424: FutureWarning: `max_features='auto'` has been deprecated in 1.1 and will be removed in 1.3. To keep the past behaviour, explicitly set `max_features='sqrt'` or remove this parameter as it is also the default value for RandomForestClassifiers and ExtraTreesClassifiers.\n",
      "  warn(\n"
     ]
    },
    {
     "name": "stdout",
     "output_type": "stream",
     "text": [
      "[CV 1/5] END bootstrap=False, max_depth=1, max_features=auto, min_samples_leaf=1, min_samples_split=6, n_estimators=150; accuracy: (test=0.917) total time=   0.1s\n",
      "[CV 2/5] END bootstrap=False, max_depth=1, max_features=auto, min_samples_leaf=1, min_samples_split=6, n_estimators=150; accuracy: (test=0.875) total time=   0.1s\n",
      "[CV 3/5] END bootstrap=False, max_depth=1, max_features=auto, min_samples_leaf=1, min_samples_split=6, n_estimators=150; accuracy: (test=0.958) total time=   0.1s\n",
      "[CV 4/5] END bootstrap=False, max_depth=1, max_features=auto, min_samples_leaf=1, min_samples_split=6, n_estimators=150; accuracy: (test=0.917) total time=   0.1s\n"
     ]
    },
    {
     "name": "stderr",
     "output_type": "stream",
     "text": [
      "/Users/olyashaina/anaconda3/lib/python3.10/site-packages/sklearn/ensemble/_forest.py:424: FutureWarning: `max_features='auto'` has been deprecated in 1.1 and will be removed in 1.3. To keep the past behaviour, explicitly set `max_features='sqrt'` or remove this parameter as it is also the default value for RandomForestClassifiers and ExtraTreesClassifiers.\n",
      "  warn(\n",
      "/Users/olyashaina/anaconda3/lib/python3.10/site-packages/sklearn/ensemble/_forest.py:424: FutureWarning: `max_features='auto'` has been deprecated in 1.1 and will be removed in 1.3. To keep the past behaviour, explicitly set `max_features='sqrt'` or remove this parameter as it is also the default value for RandomForestClassifiers and ExtraTreesClassifiers.\n",
      "  warn(\n",
      "/Users/olyashaina/anaconda3/lib/python3.10/site-packages/sklearn/ensemble/_forest.py:424: FutureWarning: `max_features='auto'` has been deprecated in 1.1 and will be removed in 1.3. To keep the past behaviour, explicitly set `max_features='sqrt'` or remove this parameter as it is also the default value for RandomForestClassifiers and ExtraTreesClassifiers.\n",
      "  warn(\n",
      "/Users/olyashaina/anaconda3/lib/python3.10/site-packages/sklearn/ensemble/_forest.py:424: FutureWarning: `max_features='auto'` has been deprecated in 1.1 and will be removed in 1.3. To keep the past behaviour, explicitly set `max_features='sqrt'` or remove this parameter as it is also the default value for RandomForestClassifiers and ExtraTreesClassifiers.\n",
      "  warn(\n"
     ]
    },
    {
     "name": "stdout",
     "output_type": "stream",
     "text": [
      "[CV 5/5] END bootstrap=False, max_depth=1, max_features=auto, min_samples_leaf=1, min_samples_split=6, n_estimators=150; accuracy: (test=0.870) total time=   0.1s\n",
      "[CV 1/5] END bootstrap=False, max_depth=1, max_features=auto, min_samples_leaf=4, min_samples_split=2, n_estimators=100; accuracy: (test=0.917) total time=   0.0s\n",
      "[CV 2/5] END bootstrap=False, max_depth=1, max_features=auto, min_samples_leaf=4, min_samples_split=2, n_estimators=100; accuracy: (test=0.875) total time=   0.0s\n",
      "[CV 3/5] END bootstrap=False, max_depth=1, max_features=auto, min_samples_leaf=4, min_samples_split=2, n_estimators=100; accuracy: (test=0.958) total time=   0.0s\n",
      "[CV 4/5] END bootstrap=False, max_depth=1, max_features=auto, min_samples_leaf=4, min_samples_split=2, n_estimators=100; accuracy: (test=0.875) total time=   0.0s\n",
      "[CV 5/5] END bootstrap=False, max_depth=1, max_features=auto, min_samples_leaf=4, min_samples_split=2, n_estimators=100; accuracy: (test=0.870) total time=   0.0s\n"
     ]
    },
    {
     "name": "stderr",
     "output_type": "stream",
     "text": [
      "/Users/olyashaina/anaconda3/lib/python3.10/site-packages/sklearn/ensemble/_forest.py:424: FutureWarning: `max_features='auto'` has been deprecated in 1.1 and will be removed in 1.3. To keep the past behaviour, explicitly set `max_features='sqrt'` or remove this parameter as it is also the default value for RandomForestClassifiers and ExtraTreesClassifiers.\n",
      "  warn(\n",
      "/Users/olyashaina/anaconda3/lib/python3.10/site-packages/sklearn/ensemble/_forest.py:424: FutureWarning: `max_features='auto'` has been deprecated in 1.1 and will be removed in 1.3. To keep the past behaviour, explicitly set `max_features='sqrt'` or remove this parameter as it is also the default value for RandomForestClassifiers and ExtraTreesClassifiers.\n",
      "  warn(\n",
      "/Users/olyashaina/anaconda3/lib/python3.10/site-packages/sklearn/ensemble/_forest.py:424: FutureWarning: `max_features='auto'` has been deprecated in 1.1 and will be removed in 1.3. To keep the past behaviour, explicitly set `max_features='sqrt'` or remove this parameter as it is also the default value for RandomForestClassifiers and ExtraTreesClassifiers.\n",
      "  warn(\n",
      "/Users/olyashaina/anaconda3/lib/python3.10/site-packages/sklearn/ensemble/_forest.py:424: FutureWarning: `max_features='auto'` has been deprecated in 1.1 and will be removed in 1.3. To keep the past behaviour, explicitly set `max_features='sqrt'` or remove this parameter as it is also the default value for RandomForestClassifiers and ExtraTreesClassifiers.\n",
      "  warn(\n",
      "/Users/olyashaina/anaconda3/lib/python3.10/site-packages/sklearn/ensemble/_forest.py:424: FutureWarning: `max_features='auto'` has been deprecated in 1.1 and will be removed in 1.3. To keep the past behaviour, explicitly set `max_features='sqrt'` or remove this parameter as it is also the default value for RandomForestClassifiers and ExtraTreesClassifiers.\n",
      "  warn(\n",
      "/Users/olyashaina/anaconda3/lib/python3.10/site-packages/sklearn/ensemble/_forest.py:424: FutureWarning: `max_features='auto'` has been deprecated in 1.1 and will be removed in 1.3. To keep the past behaviour, explicitly set `max_features='sqrt'` or remove this parameter as it is also the default value for RandomForestClassifiers and ExtraTreesClassifiers.\n",
      "  warn(\n"
     ]
    },
    {
     "name": "stdout",
     "output_type": "stream",
     "text": [
      "[CV 1/5] END bootstrap=False, max_depth=1, max_features=auto, min_samples_leaf=4, min_samples_split=2, n_estimators=150; accuracy: (test=0.917) total time=   0.1s\n",
      "[CV 2/5] END bootstrap=False, max_depth=1, max_features=auto, min_samples_leaf=4, min_samples_split=2, n_estimators=150; accuracy: (test=0.875) total time=   0.1s\n",
      "[CV 3/5] END bootstrap=False, max_depth=1, max_features=auto, min_samples_leaf=4, min_samples_split=2, n_estimators=150; accuracy: (test=0.958) total time=   0.1s\n",
      "[CV 4/5] END bootstrap=False, max_depth=1, max_features=auto, min_samples_leaf=4, min_samples_split=2, n_estimators=150; accuracy: (test=0.917) total time=   0.1s\n"
     ]
    },
    {
     "name": "stderr",
     "output_type": "stream",
     "text": [
      "/Users/olyashaina/anaconda3/lib/python3.10/site-packages/sklearn/ensemble/_forest.py:424: FutureWarning: `max_features='auto'` has been deprecated in 1.1 and will be removed in 1.3. To keep the past behaviour, explicitly set `max_features='sqrt'` or remove this parameter as it is also the default value for RandomForestClassifiers and ExtraTreesClassifiers.\n",
      "  warn(\n",
      "/Users/olyashaina/anaconda3/lib/python3.10/site-packages/sklearn/ensemble/_forest.py:424: FutureWarning: `max_features='auto'` has been deprecated in 1.1 and will be removed in 1.3. To keep the past behaviour, explicitly set `max_features='sqrt'` or remove this parameter as it is also the default value for RandomForestClassifiers and ExtraTreesClassifiers.\n",
      "  warn(\n",
      "/Users/olyashaina/anaconda3/lib/python3.10/site-packages/sklearn/ensemble/_forest.py:424: FutureWarning: `max_features='auto'` has been deprecated in 1.1 and will be removed in 1.3. To keep the past behaviour, explicitly set `max_features='sqrt'` or remove this parameter as it is also the default value for RandomForestClassifiers and ExtraTreesClassifiers.\n",
      "  warn(\n",
      "/Users/olyashaina/anaconda3/lib/python3.10/site-packages/sklearn/ensemble/_forest.py:424: FutureWarning: `max_features='auto'` has been deprecated in 1.1 and will be removed in 1.3. To keep the past behaviour, explicitly set `max_features='sqrt'` or remove this parameter as it is also the default value for RandomForestClassifiers and ExtraTreesClassifiers.\n",
      "  warn(\n"
     ]
    },
    {
     "name": "stdout",
     "output_type": "stream",
     "text": [
      "[CV 5/5] END bootstrap=False, max_depth=1, max_features=auto, min_samples_leaf=4, min_samples_split=2, n_estimators=150; accuracy: (test=0.870) total time=   0.1s\n",
      "[CV 1/5] END bootstrap=False, max_depth=1, max_features=auto, min_samples_leaf=4, min_samples_split=6, n_estimators=100; accuracy: (test=0.917) total time=   0.0s\n",
      "[CV 2/5] END bootstrap=False, max_depth=1, max_features=auto, min_samples_leaf=4, min_samples_split=6, n_estimators=100; accuracy: (test=0.875) total time=   0.0s\n",
      "[CV 3/5] END bootstrap=False, max_depth=1, max_features=auto, min_samples_leaf=4, min_samples_split=6, n_estimators=100; accuracy: (test=0.958) total time=   0.0s\n",
      "[CV 4/5] END bootstrap=False, max_depth=1, max_features=auto, min_samples_leaf=4, min_samples_split=6, n_estimators=100; accuracy: (test=0.875) total time=   0.0s\n",
      "[CV 5/5] END bootstrap=False, max_depth=1, max_features=auto, min_samples_leaf=4, min_samples_split=6, n_estimators=100; accuracy: (test=0.870) total time=   0.0s\n"
     ]
    },
    {
     "name": "stderr",
     "output_type": "stream",
     "text": [
      "/Users/olyashaina/anaconda3/lib/python3.10/site-packages/sklearn/ensemble/_forest.py:424: FutureWarning: `max_features='auto'` has been deprecated in 1.1 and will be removed in 1.3. To keep the past behaviour, explicitly set `max_features='sqrt'` or remove this parameter as it is also the default value for RandomForestClassifiers and ExtraTreesClassifiers.\n",
      "  warn(\n",
      "/Users/olyashaina/anaconda3/lib/python3.10/site-packages/sklearn/ensemble/_forest.py:424: FutureWarning: `max_features='auto'` has been deprecated in 1.1 and will be removed in 1.3. To keep the past behaviour, explicitly set `max_features='sqrt'` or remove this parameter as it is also the default value for RandomForestClassifiers and ExtraTreesClassifiers.\n",
      "  warn(\n",
      "/Users/olyashaina/anaconda3/lib/python3.10/site-packages/sklearn/ensemble/_forest.py:424: FutureWarning: `max_features='auto'` has been deprecated in 1.1 and will be removed in 1.3. To keep the past behaviour, explicitly set `max_features='sqrt'` or remove this parameter as it is also the default value for RandomForestClassifiers and ExtraTreesClassifiers.\n",
      "  warn(\n",
      "/Users/olyashaina/anaconda3/lib/python3.10/site-packages/sklearn/ensemble/_forest.py:424: FutureWarning: `max_features='auto'` has been deprecated in 1.1 and will be removed in 1.3. To keep the past behaviour, explicitly set `max_features='sqrt'` or remove this parameter as it is also the default value for RandomForestClassifiers and ExtraTreesClassifiers.\n",
      "  warn(\n",
      "/Users/olyashaina/anaconda3/lib/python3.10/site-packages/sklearn/ensemble/_forest.py:424: FutureWarning: `max_features='auto'` has been deprecated in 1.1 and will be removed in 1.3. To keep the past behaviour, explicitly set `max_features='sqrt'` or remove this parameter as it is also the default value for RandomForestClassifiers and ExtraTreesClassifiers.\n",
      "  warn(\n",
      "/Users/olyashaina/anaconda3/lib/python3.10/site-packages/sklearn/ensemble/_forest.py:424: FutureWarning: `max_features='auto'` has been deprecated in 1.1 and will be removed in 1.3. To keep the past behaviour, explicitly set `max_features='sqrt'` or remove this parameter as it is also the default value for RandomForestClassifiers and ExtraTreesClassifiers.\n",
      "  warn(\n"
     ]
    },
    {
     "name": "stdout",
     "output_type": "stream",
     "text": [
      "[CV 1/5] END bootstrap=False, max_depth=1, max_features=auto, min_samples_leaf=4, min_samples_split=6, n_estimators=150; accuracy: (test=0.917) total time=   0.1s\n",
      "[CV 2/5] END bootstrap=False, max_depth=1, max_features=auto, min_samples_leaf=4, min_samples_split=6, n_estimators=150; accuracy: (test=0.875) total time=   0.1s\n",
      "[CV 3/5] END bootstrap=False, max_depth=1, max_features=auto, min_samples_leaf=4, min_samples_split=6, n_estimators=150; accuracy: (test=0.958) total time=   0.1s\n",
      "[CV 4/5] END bootstrap=False, max_depth=1, max_features=auto, min_samples_leaf=4, min_samples_split=6, n_estimators=150; accuracy: (test=0.917) total time=   0.1s\n"
     ]
    },
    {
     "name": "stderr",
     "output_type": "stream",
     "text": [
      "/Users/olyashaina/anaconda3/lib/python3.10/site-packages/sklearn/ensemble/_forest.py:424: FutureWarning: `max_features='auto'` has been deprecated in 1.1 and will be removed in 1.3. To keep the past behaviour, explicitly set `max_features='sqrt'` or remove this parameter as it is also the default value for RandomForestClassifiers and ExtraTreesClassifiers.\n",
      "  warn(\n",
      "/Users/olyashaina/anaconda3/lib/python3.10/site-packages/sklearn/ensemble/_forest.py:424: FutureWarning: `max_features='auto'` has been deprecated in 1.1 and will be removed in 1.3. To keep the past behaviour, explicitly set `max_features='sqrt'` or remove this parameter as it is also the default value for RandomForestClassifiers and ExtraTreesClassifiers.\n",
      "  warn(\n",
      "/Users/olyashaina/anaconda3/lib/python3.10/site-packages/sklearn/ensemble/_forest.py:424: FutureWarning: `max_features='auto'` has been deprecated in 1.1 and will be removed in 1.3. To keep the past behaviour, explicitly set `max_features='sqrt'` or remove this parameter as it is also the default value for RandomForestClassifiers and ExtraTreesClassifiers.\n",
      "  warn(\n",
      "/Users/olyashaina/anaconda3/lib/python3.10/site-packages/sklearn/ensemble/_forest.py:424: FutureWarning: `max_features='auto'` has been deprecated in 1.1 and will be removed in 1.3. To keep the past behaviour, explicitly set `max_features='sqrt'` or remove this parameter as it is also the default value for RandomForestClassifiers and ExtraTreesClassifiers.\n",
      "  warn(\n"
     ]
    },
    {
     "name": "stdout",
     "output_type": "stream",
     "text": [
      "[CV 5/5] END bootstrap=False, max_depth=1, max_features=auto, min_samples_leaf=4, min_samples_split=6, n_estimators=150; accuracy: (test=0.870) total time=   0.1s\n",
      "[CV 1/5] END bootstrap=False, max_depth=1, max_features=sqrt, min_samples_leaf=1, min_samples_split=2, n_estimators=100; accuracy: (test=0.917) total time=   0.0s\n",
      "[CV 2/5] END bootstrap=False, max_depth=1, max_features=sqrt, min_samples_leaf=1, min_samples_split=2, n_estimators=100; accuracy: (test=0.875) total time=   0.0s\n",
      "[CV 3/5] END bootstrap=False, max_depth=1, max_features=sqrt, min_samples_leaf=1, min_samples_split=2, n_estimators=100; accuracy: (test=0.958) total time=   0.0s\n",
      "[CV 4/5] END bootstrap=False, max_depth=1, max_features=sqrt, min_samples_leaf=1, min_samples_split=2, n_estimators=100; accuracy: (test=0.875) total time=   0.0s\n",
      "[CV 5/5] END bootstrap=False, max_depth=1, max_features=sqrt, min_samples_leaf=1, min_samples_split=2, n_estimators=100; accuracy: (test=0.870) total time=   0.0s\n",
      "[CV 1/5] END bootstrap=False, max_depth=1, max_features=sqrt, min_samples_leaf=1, min_samples_split=2, n_estimators=150; accuracy: (test=0.917) total time=   0.1s\n",
      "[CV 2/5] END bootstrap=False, max_depth=1, max_features=sqrt, min_samples_leaf=1, min_samples_split=2, n_estimators=150; accuracy: (test=0.875) total time=   0.1s\n",
      "[CV 3/5] END bootstrap=False, max_depth=1, max_features=sqrt, min_samples_leaf=1, min_samples_split=2, n_estimators=150; accuracy: (test=0.958) total time=   0.1s\n",
      "[CV 4/5] END bootstrap=False, max_depth=1, max_features=sqrt, min_samples_leaf=1, min_samples_split=2, n_estimators=150; accuracy: (test=0.917) total time=   0.1s\n",
      "[CV 5/5] END bootstrap=False, max_depth=1, max_features=sqrt, min_samples_leaf=1, min_samples_split=2, n_estimators=150; accuracy: (test=0.870) total time=   0.1s\n",
      "[CV 1/5] END bootstrap=False, max_depth=1, max_features=sqrt, min_samples_leaf=1, min_samples_split=6, n_estimators=100; accuracy: (test=0.917) total time=   0.0s\n",
      "[CV 2/5] END bootstrap=False, max_depth=1, max_features=sqrt, min_samples_leaf=1, min_samples_split=6, n_estimators=100; accuracy: (test=0.875) total time=   0.0s\n",
      "[CV 3/5] END bootstrap=False, max_depth=1, max_features=sqrt, min_samples_leaf=1, min_samples_split=6, n_estimators=100; accuracy: (test=0.958) total time=   0.0s\n",
      "[CV 4/5] END bootstrap=False, max_depth=1, max_features=sqrt, min_samples_leaf=1, min_samples_split=6, n_estimators=100; accuracy: (test=0.875) total time=   0.0s\n",
      "[CV 5/5] END bootstrap=False, max_depth=1, max_features=sqrt, min_samples_leaf=1, min_samples_split=6, n_estimators=100; accuracy: (test=0.870) total time=   0.0s\n",
      "[CV 1/5] END bootstrap=False, max_depth=1, max_features=sqrt, min_samples_leaf=1, min_samples_split=6, n_estimators=150; accuracy: (test=0.917) total time=   0.1s\n",
      "[CV 2/5] END bootstrap=False, max_depth=1, max_features=sqrt, min_samples_leaf=1, min_samples_split=6, n_estimators=150; accuracy: (test=0.875) total time=   0.1s\n",
      "[CV 3/5] END bootstrap=False, max_depth=1, max_features=sqrt, min_samples_leaf=1, min_samples_split=6, n_estimators=150; accuracy: (test=0.958) total time=   0.1s\n",
      "[CV 4/5] END bootstrap=False, max_depth=1, max_features=sqrt, min_samples_leaf=1, min_samples_split=6, n_estimators=150; accuracy: (test=0.917) total time=   0.1s\n",
      "[CV 5/5] END bootstrap=False, max_depth=1, max_features=sqrt, min_samples_leaf=1, min_samples_split=6, n_estimators=150; accuracy: (test=0.870) total time=   0.1s\n",
      "[CV 1/5] END bootstrap=False, max_depth=1, max_features=sqrt, min_samples_leaf=4, min_samples_split=2, n_estimators=100; accuracy: (test=0.917) total time=   0.0s\n",
      "[CV 2/5] END bootstrap=False, max_depth=1, max_features=sqrt, min_samples_leaf=4, min_samples_split=2, n_estimators=100; accuracy: (test=0.875) total time=   0.0s\n",
      "[CV 3/5] END bootstrap=False, max_depth=1, max_features=sqrt, min_samples_leaf=4, min_samples_split=2, n_estimators=100; accuracy: (test=0.958) total time=   0.0s\n",
      "[CV 4/5] END bootstrap=False, max_depth=1, max_features=sqrt, min_samples_leaf=4, min_samples_split=2, n_estimators=100; accuracy: (test=0.875) total time=   0.0s\n",
      "[CV 5/5] END bootstrap=False, max_depth=1, max_features=sqrt, min_samples_leaf=4, min_samples_split=2, n_estimators=100; accuracy: (test=0.870) total time=   0.0s\n",
      "[CV 1/5] END bootstrap=False, max_depth=1, max_features=sqrt, min_samples_leaf=4, min_samples_split=2, n_estimators=150; accuracy: (test=0.917) total time=   0.1s\n",
      "[CV 2/5] END bootstrap=False, max_depth=1, max_features=sqrt, min_samples_leaf=4, min_samples_split=2, n_estimators=150; accuracy: (test=0.875) total time=   0.1s\n",
      "[CV 3/5] END bootstrap=False, max_depth=1, max_features=sqrt, min_samples_leaf=4, min_samples_split=2, n_estimators=150; accuracy: (test=0.958) total time=   0.1s\n",
      "[CV 4/5] END bootstrap=False, max_depth=1, max_features=sqrt, min_samples_leaf=4, min_samples_split=2, n_estimators=150; accuracy: (test=0.917) total time=   0.1s\n",
      "[CV 5/5] END bootstrap=False, max_depth=1, max_features=sqrt, min_samples_leaf=4, min_samples_split=2, n_estimators=150; accuracy: (test=0.870) total time=   0.1s\n",
      "[CV 1/5] END bootstrap=False, max_depth=1, max_features=sqrt, min_samples_leaf=4, min_samples_split=6, n_estimators=100; accuracy: (test=0.917) total time=   0.0s\n",
      "[CV 2/5] END bootstrap=False, max_depth=1, max_features=sqrt, min_samples_leaf=4, min_samples_split=6, n_estimators=100; accuracy: (test=0.875) total time=   0.0s\n",
      "[CV 3/5] END bootstrap=False, max_depth=1, max_features=sqrt, min_samples_leaf=4, min_samples_split=6, n_estimators=100; accuracy: (test=0.958) total time=   0.0s\n",
      "[CV 4/5] END bootstrap=False, max_depth=1, max_features=sqrt, min_samples_leaf=4, min_samples_split=6, n_estimators=100; accuracy: (test=0.875) total time=   0.0s\n",
      "[CV 5/5] END bootstrap=False, max_depth=1, max_features=sqrt, min_samples_leaf=4, min_samples_split=6, n_estimators=100; accuracy: (test=0.870) total time=   0.0s\n",
      "[CV 1/5] END bootstrap=False, max_depth=1, max_features=sqrt, min_samples_leaf=4, min_samples_split=6, n_estimators=150; accuracy: (test=0.917) total time=   0.1s\n",
      "[CV 2/5] END bootstrap=False, max_depth=1, max_features=sqrt, min_samples_leaf=4, min_samples_split=6, n_estimators=150; accuracy: (test=0.875) total time=   0.1s\n",
      "[CV 3/5] END bootstrap=False, max_depth=1, max_features=sqrt, min_samples_leaf=4, min_samples_split=6, n_estimators=150; accuracy: (test=0.958) total time=   0.1s\n",
      "[CV 4/5] END bootstrap=False, max_depth=1, max_features=sqrt, min_samples_leaf=4, min_samples_split=6, n_estimators=150; accuracy: (test=0.917) total time=   0.1s\n",
      "[CV 5/5] END bootstrap=False, max_depth=1, max_features=sqrt, min_samples_leaf=4, min_samples_split=6, n_estimators=150; accuracy: (test=0.870) total time=   0.1s\n",
      "[CV 1/5] END bootstrap=False, max_depth=6, max_features=auto, min_samples_leaf=1, min_samples_split=2, n_estimators=100; accuracy: (test=1.000) total time=   0.0s\n",
      "[CV 2/5] END bootstrap=False, max_depth=6, max_features=auto, min_samples_leaf=1, min_samples_split=2, n_estimators=100; accuracy: (test=0.958) total time=   0.0s\n"
     ]
    },
    {
     "name": "stderr",
     "output_type": "stream",
     "text": [
      "/Users/olyashaina/anaconda3/lib/python3.10/site-packages/sklearn/ensemble/_forest.py:424: FutureWarning: `max_features='auto'` has been deprecated in 1.1 and will be removed in 1.3. To keep the past behaviour, explicitly set `max_features='sqrt'` or remove this parameter as it is also the default value for RandomForestClassifiers and ExtraTreesClassifiers.\n",
      "  warn(\n",
      "/Users/olyashaina/anaconda3/lib/python3.10/site-packages/sklearn/ensemble/_forest.py:424: FutureWarning: `max_features='auto'` has been deprecated in 1.1 and will be removed in 1.3. To keep the past behaviour, explicitly set `max_features='sqrt'` or remove this parameter as it is also the default value for RandomForestClassifiers and ExtraTreesClassifiers.\n",
      "  warn(\n",
      "/Users/olyashaina/anaconda3/lib/python3.10/site-packages/sklearn/ensemble/_forest.py:424: FutureWarning: `max_features='auto'` has been deprecated in 1.1 and will be removed in 1.3. To keep the past behaviour, explicitly set `max_features='sqrt'` or remove this parameter as it is also the default value for RandomForestClassifiers and ExtraTreesClassifiers.\n",
      "  warn(\n",
      "/Users/olyashaina/anaconda3/lib/python3.10/site-packages/sklearn/ensemble/_forest.py:424: FutureWarning: `max_features='auto'` has been deprecated in 1.1 and will be removed in 1.3. To keep the past behaviour, explicitly set `max_features='sqrt'` or remove this parameter as it is also the default value for RandomForestClassifiers and ExtraTreesClassifiers.\n",
      "  warn(\n",
      "/Users/olyashaina/anaconda3/lib/python3.10/site-packages/sklearn/ensemble/_forest.py:424: FutureWarning: `max_features='auto'` has been deprecated in 1.1 and will be removed in 1.3. To keep the past behaviour, explicitly set `max_features='sqrt'` or remove this parameter as it is also the default value for RandomForestClassifiers and ExtraTreesClassifiers.\n",
      "  warn(\n"
     ]
    },
    {
     "name": "stdout",
     "output_type": "stream",
     "text": [
      "[CV 3/5] END bootstrap=False, max_depth=6, max_features=auto, min_samples_leaf=1, min_samples_split=2, n_estimators=100; accuracy: (test=1.000) total time=   0.0s\n",
      "[CV 4/5] END bootstrap=False, max_depth=6, max_features=auto, min_samples_leaf=1, min_samples_split=2, n_estimators=100; accuracy: (test=1.000) total time=   0.0s\n",
      "[CV 5/5] END bootstrap=False, max_depth=6, max_features=auto, min_samples_leaf=1, min_samples_split=2, n_estimators=100; accuracy: (test=1.000) total time=   0.0s\n",
      "[CV 1/5] END bootstrap=False, max_depth=6, max_features=auto, min_samples_leaf=1, min_samples_split=2, n_estimators=150; accuracy: (test=1.000) total time=   0.1s\n",
      "[CV 2/5] END bootstrap=False, max_depth=6, max_features=auto, min_samples_leaf=1, min_samples_split=2, n_estimators=150; accuracy: (test=0.958) total time=   0.1s\n"
     ]
    },
    {
     "name": "stderr",
     "output_type": "stream",
     "text": [
      "/Users/olyashaina/anaconda3/lib/python3.10/site-packages/sklearn/ensemble/_forest.py:424: FutureWarning: `max_features='auto'` has been deprecated in 1.1 and will be removed in 1.3. To keep the past behaviour, explicitly set `max_features='sqrt'` or remove this parameter as it is also the default value for RandomForestClassifiers and ExtraTreesClassifiers.\n",
      "  warn(\n",
      "/Users/olyashaina/anaconda3/lib/python3.10/site-packages/sklearn/ensemble/_forest.py:424: FutureWarning: `max_features='auto'` has been deprecated in 1.1 and will be removed in 1.3. To keep the past behaviour, explicitly set `max_features='sqrt'` or remove this parameter as it is also the default value for RandomForestClassifiers and ExtraTreesClassifiers.\n",
      "  warn(\n",
      "/Users/olyashaina/anaconda3/lib/python3.10/site-packages/sklearn/ensemble/_forest.py:424: FutureWarning: `max_features='auto'` has been deprecated in 1.1 and will be removed in 1.3. To keep the past behaviour, explicitly set `max_features='sqrt'` or remove this parameter as it is also the default value for RandomForestClassifiers and ExtraTreesClassifiers.\n",
      "  warn(\n",
      "/Users/olyashaina/anaconda3/lib/python3.10/site-packages/sklearn/ensemble/_forest.py:424: FutureWarning: `max_features='auto'` has been deprecated in 1.1 and will be removed in 1.3. To keep the past behaviour, explicitly set `max_features='sqrt'` or remove this parameter as it is also the default value for RandomForestClassifiers and ExtraTreesClassifiers.\n",
      "  warn(\n"
     ]
    },
    {
     "name": "stdout",
     "output_type": "stream",
     "text": [
      "[CV 3/5] END bootstrap=False, max_depth=6, max_features=auto, min_samples_leaf=1, min_samples_split=2, n_estimators=150; accuracy: (test=1.000) total time=   0.1s\n",
      "[CV 4/5] END bootstrap=False, max_depth=6, max_features=auto, min_samples_leaf=1, min_samples_split=2, n_estimators=150; accuracy: (test=1.000) total time=   0.1s\n",
      "[CV 5/5] END bootstrap=False, max_depth=6, max_features=auto, min_samples_leaf=1, min_samples_split=2, n_estimators=150; accuracy: (test=1.000) total time=   0.1s\n",
      "[CV 1/5] END bootstrap=False, max_depth=6, max_features=auto, min_samples_leaf=1, min_samples_split=6, n_estimators=100; accuracy: (test=1.000) total time=   0.0s\n"
     ]
    },
    {
     "name": "stderr",
     "output_type": "stream",
     "text": [
      "/Users/olyashaina/anaconda3/lib/python3.10/site-packages/sklearn/ensemble/_forest.py:424: FutureWarning: `max_features='auto'` has been deprecated in 1.1 and will be removed in 1.3. To keep the past behaviour, explicitly set `max_features='sqrt'` or remove this parameter as it is also the default value for RandomForestClassifiers and ExtraTreesClassifiers.\n",
      "  warn(\n",
      "/Users/olyashaina/anaconda3/lib/python3.10/site-packages/sklearn/ensemble/_forest.py:424: FutureWarning: `max_features='auto'` has been deprecated in 1.1 and will be removed in 1.3. To keep the past behaviour, explicitly set `max_features='sqrt'` or remove this parameter as it is also the default value for RandomForestClassifiers and ExtraTreesClassifiers.\n",
      "  warn(\n",
      "/Users/olyashaina/anaconda3/lib/python3.10/site-packages/sklearn/ensemble/_forest.py:424: FutureWarning: `max_features='auto'` has been deprecated in 1.1 and will be removed in 1.3. To keep the past behaviour, explicitly set `max_features='sqrt'` or remove this parameter as it is also the default value for RandomForestClassifiers and ExtraTreesClassifiers.\n",
      "  warn(\n",
      "/Users/olyashaina/anaconda3/lib/python3.10/site-packages/sklearn/ensemble/_forest.py:424: FutureWarning: `max_features='auto'` has been deprecated in 1.1 and will be removed in 1.3. To keep the past behaviour, explicitly set `max_features='sqrt'` or remove this parameter as it is also the default value for RandomForestClassifiers and ExtraTreesClassifiers.\n",
      "  warn(\n",
      "/Users/olyashaina/anaconda3/lib/python3.10/site-packages/sklearn/ensemble/_forest.py:424: FutureWarning: `max_features='auto'` has been deprecated in 1.1 and will be removed in 1.3. To keep the past behaviour, explicitly set `max_features='sqrt'` or remove this parameter as it is also the default value for RandomForestClassifiers and ExtraTreesClassifiers.\n",
      "  warn(\n"
     ]
    },
    {
     "name": "stdout",
     "output_type": "stream",
     "text": [
      "[CV 2/5] END bootstrap=False, max_depth=6, max_features=auto, min_samples_leaf=1, min_samples_split=6, n_estimators=100; accuracy: (test=0.958) total time=   0.0s\n",
      "[CV 3/5] END bootstrap=False, max_depth=6, max_features=auto, min_samples_leaf=1, min_samples_split=6, n_estimators=100; accuracy: (test=1.000) total time=   0.0s\n",
      "[CV 4/5] END bootstrap=False, max_depth=6, max_features=auto, min_samples_leaf=1, min_samples_split=6, n_estimators=100; accuracy: (test=1.000) total time=   0.0s\n",
      "[CV 5/5] END bootstrap=False, max_depth=6, max_features=auto, min_samples_leaf=1, min_samples_split=6, n_estimators=100; accuracy: (test=1.000) total time=   0.0s\n",
      "[CV 1/5] END bootstrap=False, max_depth=6, max_features=auto, min_samples_leaf=1, min_samples_split=6, n_estimators=150; accuracy: (test=1.000) total time=   0.1s\n"
     ]
    },
    {
     "name": "stderr",
     "output_type": "stream",
     "text": [
      "/Users/olyashaina/anaconda3/lib/python3.10/site-packages/sklearn/ensemble/_forest.py:424: FutureWarning: `max_features='auto'` has been deprecated in 1.1 and will be removed in 1.3. To keep the past behaviour, explicitly set `max_features='sqrt'` or remove this parameter as it is also the default value for RandomForestClassifiers and ExtraTreesClassifiers.\n",
      "  warn(\n",
      "/Users/olyashaina/anaconda3/lib/python3.10/site-packages/sklearn/ensemble/_forest.py:424: FutureWarning: `max_features='auto'` has been deprecated in 1.1 and will be removed in 1.3. To keep the past behaviour, explicitly set `max_features='sqrt'` or remove this parameter as it is also the default value for RandomForestClassifiers and ExtraTreesClassifiers.\n",
      "  warn(\n",
      "/Users/olyashaina/anaconda3/lib/python3.10/site-packages/sklearn/ensemble/_forest.py:424: FutureWarning: `max_features='auto'` has been deprecated in 1.1 and will be removed in 1.3. To keep the past behaviour, explicitly set `max_features='sqrt'` or remove this parameter as it is also the default value for RandomForestClassifiers and ExtraTreesClassifiers.\n",
      "  warn(\n",
      "/Users/olyashaina/anaconda3/lib/python3.10/site-packages/sklearn/ensemble/_forest.py:424: FutureWarning: `max_features='auto'` has been deprecated in 1.1 and will be removed in 1.3. To keep the past behaviour, explicitly set `max_features='sqrt'` or remove this parameter as it is also the default value for RandomForestClassifiers and ExtraTreesClassifiers.\n",
      "  warn(\n"
     ]
    },
    {
     "name": "stdout",
     "output_type": "stream",
     "text": [
      "[CV 2/5] END bootstrap=False, max_depth=6, max_features=auto, min_samples_leaf=1, min_samples_split=6, n_estimators=150; accuracy: (test=0.958) total time=   0.1s\n",
      "[CV 3/5] END bootstrap=False, max_depth=6, max_features=auto, min_samples_leaf=1, min_samples_split=6, n_estimators=150; accuracy: (test=1.000) total time=   0.1s\n",
      "[CV 4/5] END bootstrap=False, max_depth=6, max_features=auto, min_samples_leaf=1, min_samples_split=6, n_estimators=150; accuracy: (test=1.000) total time=   0.1s\n",
      "[CV 5/5] END bootstrap=False, max_depth=6, max_features=auto, min_samples_leaf=1, min_samples_split=6, n_estimators=150; accuracy: (test=1.000) total time=   0.1s\n"
     ]
    },
    {
     "name": "stderr",
     "output_type": "stream",
     "text": [
      "/Users/olyashaina/anaconda3/lib/python3.10/site-packages/sklearn/ensemble/_forest.py:424: FutureWarning: `max_features='auto'` has been deprecated in 1.1 and will be removed in 1.3. To keep the past behaviour, explicitly set `max_features='sqrt'` or remove this parameter as it is also the default value for RandomForestClassifiers and ExtraTreesClassifiers.\n",
      "  warn(\n",
      "/Users/olyashaina/anaconda3/lib/python3.10/site-packages/sklearn/ensemble/_forest.py:424: FutureWarning: `max_features='auto'` has been deprecated in 1.1 and will be removed in 1.3. To keep the past behaviour, explicitly set `max_features='sqrt'` or remove this parameter as it is also the default value for RandomForestClassifiers and ExtraTreesClassifiers.\n",
      "  warn(\n",
      "/Users/olyashaina/anaconda3/lib/python3.10/site-packages/sklearn/ensemble/_forest.py:424: FutureWarning: `max_features='auto'` has been deprecated in 1.1 and will be removed in 1.3. To keep the past behaviour, explicitly set `max_features='sqrt'` or remove this parameter as it is also the default value for RandomForestClassifiers and ExtraTreesClassifiers.\n",
      "  warn(\n",
      "/Users/olyashaina/anaconda3/lib/python3.10/site-packages/sklearn/ensemble/_forest.py:424: FutureWarning: `max_features='auto'` has been deprecated in 1.1 and will be removed in 1.3. To keep the past behaviour, explicitly set `max_features='sqrt'` or remove this parameter as it is also the default value for RandomForestClassifiers and ExtraTreesClassifiers.\n",
      "  warn(\n",
      "/Users/olyashaina/anaconda3/lib/python3.10/site-packages/sklearn/ensemble/_forest.py:424: FutureWarning: `max_features='auto'` has been deprecated in 1.1 and will be removed in 1.3. To keep the past behaviour, explicitly set `max_features='sqrt'` or remove this parameter as it is also the default value for RandomForestClassifiers and ExtraTreesClassifiers.\n",
      "  warn(\n"
     ]
    },
    {
     "name": "stdout",
     "output_type": "stream",
     "text": [
      "[CV 1/5] END bootstrap=False, max_depth=6, max_features=auto, min_samples_leaf=4, min_samples_split=2, n_estimators=100; accuracy: (test=1.000) total time=   0.0s\n",
      "[CV 2/5] END bootstrap=False, max_depth=6, max_features=auto, min_samples_leaf=4, min_samples_split=2, n_estimators=100; accuracy: (test=0.958) total time=   0.0s\n",
      "[CV 3/5] END bootstrap=False, max_depth=6, max_features=auto, min_samples_leaf=4, min_samples_split=2, n_estimators=100; accuracy: (test=1.000) total time=   0.0s\n",
      "[CV 4/5] END bootstrap=False, max_depth=6, max_features=auto, min_samples_leaf=4, min_samples_split=2, n_estimators=100; accuracy: (test=1.000) total time=   0.0s\n",
      "[CV 5/5] END bootstrap=False, max_depth=6, max_features=auto, min_samples_leaf=4, min_samples_split=2, n_estimators=100; accuracy: (test=0.957) total time=   0.0s\n"
     ]
    },
    {
     "name": "stderr",
     "output_type": "stream",
     "text": [
      "/Users/olyashaina/anaconda3/lib/python3.10/site-packages/sklearn/ensemble/_forest.py:424: FutureWarning: `max_features='auto'` has been deprecated in 1.1 and will be removed in 1.3. To keep the past behaviour, explicitly set `max_features='sqrt'` or remove this parameter as it is also the default value for RandomForestClassifiers and ExtraTreesClassifiers.\n",
      "  warn(\n",
      "/Users/olyashaina/anaconda3/lib/python3.10/site-packages/sklearn/ensemble/_forest.py:424: FutureWarning: `max_features='auto'` has been deprecated in 1.1 and will be removed in 1.3. To keep the past behaviour, explicitly set `max_features='sqrt'` or remove this parameter as it is also the default value for RandomForestClassifiers and ExtraTreesClassifiers.\n",
      "  warn(\n",
      "/Users/olyashaina/anaconda3/lib/python3.10/site-packages/sklearn/ensemble/_forest.py:424: FutureWarning: `max_features='auto'` has been deprecated in 1.1 and will be removed in 1.3. To keep the past behaviour, explicitly set `max_features='sqrt'` or remove this parameter as it is also the default value for RandomForestClassifiers and ExtraTreesClassifiers.\n",
      "  warn(\n",
      "/Users/olyashaina/anaconda3/lib/python3.10/site-packages/sklearn/ensemble/_forest.py:424: FutureWarning: `max_features='auto'` has been deprecated in 1.1 and will be removed in 1.3. To keep the past behaviour, explicitly set `max_features='sqrt'` or remove this parameter as it is also the default value for RandomForestClassifiers and ExtraTreesClassifiers.\n",
      "  warn(\n",
      "/Users/olyashaina/anaconda3/lib/python3.10/site-packages/sklearn/ensemble/_forest.py:424: FutureWarning: `max_features='auto'` has been deprecated in 1.1 and will be removed in 1.3. To keep the past behaviour, explicitly set `max_features='sqrt'` or remove this parameter as it is also the default value for RandomForestClassifiers and ExtraTreesClassifiers.\n",
      "  warn(\n"
     ]
    },
    {
     "name": "stdout",
     "output_type": "stream",
     "text": [
      "[CV 1/5] END bootstrap=False, max_depth=6, max_features=auto, min_samples_leaf=4, min_samples_split=2, n_estimators=150; accuracy: (test=1.000) total time=   0.1s\n",
      "[CV 2/5] END bootstrap=False, max_depth=6, max_features=auto, min_samples_leaf=4, min_samples_split=2, n_estimators=150; accuracy: (test=0.958) total time=   0.1s\n",
      "[CV 3/5] END bootstrap=False, max_depth=6, max_features=auto, min_samples_leaf=4, min_samples_split=2, n_estimators=150; accuracy: (test=1.000) total time=   0.1s\n",
      "[CV 4/5] END bootstrap=False, max_depth=6, max_features=auto, min_samples_leaf=4, min_samples_split=2, n_estimators=150; accuracy: (test=1.000) total time=   0.1s\n"
     ]
    },
    {
     "name": "stderr",
     "output_type": "stream",
     "text": [
      "/Users/olyashaina/anaconda3/lib/python3.10/site-packages/sklearn/ensemble/_forest.py:424: FutureWarning: `max_features='auto'` has been deprecated in 1.1 and will be removed in 1.3. To keep the past behaviour, explicitly set `max_features='sqrt'` or remove this parameter as it is also the default value for RandomForestClassifiers and ExtraTreesClassifiers.\n",
      "  warn(\n",
      "/Users/olyashaina/anaconda3/lib/python3.10/site-packages/sklearn/ensemble/_forest.py:424: FutureWarning: `max_features='auto'` has been deprecated in 1.1 and will be removed in 1.3. To keep the past behaviour, explicitly set `max_features='sqrt'` or remove this parameter as it is also the default value for RandomForestClassifiers and ExtraTreesClassifiers.\n",
      "  warn(\n",
      "/Users/olyashaina/anaconda3/lib/python3.10/site-packages/sklearn/ensemble/_forest.py:424: FutureWarning: `max_features='auto'` has been deprecated in 1.1 and will be removed in 1.3. To keep the past behaviour, explicitly set `max_features='sqrt'` or remove this parameter as it is also the default value for RandomForestClassifiers and ExtraTreesClassifiers.\n",
      "  warn(\n",
      "/Users/olyashaina/anaconda3/lib/python3.10/site-packages/sklearn/ensemble/_forest.py:424: FutureWarning: `max_features='auto'` has been deprecated in 1.1 and will be removed in 1.3. To keep the past behaviour, explicitly set `max_features='sqrt'` or remove this parameter as it is also the default value for RandomForestClassifiers and ExtraTreesClassifiers.\n",
      "  warn(\n",
      "/Users/olyashaina/anaconda3/lib/python3.10/site-packages/sklearn/ensemble/_forest.py:424: FutureWarning: `max_features='auto'` has been deprecated in 1.1 and will be removed in 1.3. To keep the past behaviour, explicitly set `max_features='sqrt'` or remove this parameter as it is also the default value for RandomForestClassifiers and ExtraTreesClassifiers.\n",
      "  warn(\n"
     ]
    },
    {
     "name": "stdout",
     "output_type": "stream",
     "text": [
      "[CV 5/5] END bootstrap=False, max_depth=6, max_features=auto, min_samples_leaf=4, min_samples_split=2, n_estimators=150; accuracy: (test=0.957) total time=   0.1s\n",
      "[CV 1/5] END bootstrap=False, max_depth=6, max_features=auto, min_samples_leaf=4, min_samples_split=6, n_estimators=100; accuracy: (test=1.000) total time=   0.0s\n",
      "[CV 2/5] END bootstrap=False, max_depth=6, max_features=auto, min_samples_leaf=4, min_samples_split=6, n_estimators=100; accuracy: (test=0.958) total time=   0.0s\n",
      "[CV 3/5] END bootstrap=False, max_depth=6, max_features=auto, min_samples_leaf=4, min_samples_split=6, n_estimators=100; accuracy: (test=1.000) total time=   0.0s\n",
      "[CV 4/5] END bootstrap=False, max_depth=6, max_features=auto, min_samples_leaf=4, min_samples_split=6, n_estimators=100; accuracy: (test=1.000) total time=   0.0s\n",
      "[CV 5/5] END bootstrap=False, max_depth=6, max_features=auto, min_samples_leaf=4, min_samples_split=6, n_estimators=100; accuracy: (test=0.957) total time=   0.0s\n"
     ]
    },
    {
     "name": "stderr",
     "output_type": "stream",
     "text": [
      "/Users/olyashaina/anaconda3/lib/python3.10/site-packages/sklearn/ensemble/_forest.py:424: FutureWarning: `max_features='auto'` has been deprecated in 1.1 and will be removed in 1.3. To keep the past behaviour, explicitly set `max_features='sqrt'` or remove this parameter as it is also the default value for RandomForestClassifiers and ExtraTreesClassifiers.\n",
      "  warn(\n",
      "/Users/olyashaina/anaconda3/lib/python3.10/site-packages/sklearn/ensemble/_forest.py:424: FutureWarning: `max_features='auto'` has been deprecated in 1.1 and will be removed in 1.3. To keep the past behaviour, explicitly set `max_features='sqrt'` or remove this parameter as it is also the default value for RandomForestClassifiers and ExtraTreesClassifiers.\n",
      "  warn(\n",
      "/Users/olyashaina/anaconda3/lib/python3.10/site-packages/sklearn/ensemble/_forest.py:424: FutureWarning: `max_features='auto'` has been deprecated in 1.1 and will be removed in 1.3. To keep the past behaviour, explicitly set `max_features='sqrt'` or remove this parameter as it is also the default value for RandomForestClassifiers and ExtraTreesClassifiers.\n",
      "  warn(\n",
      "/Users/olyashaina/anaconda3/lib/python3.10/site-packages/sklearn/ensemble/_forest.py:424: FutureWarning: `max_features='auto'` has been deprecated in 1.1 and will be removed in 1.3. To keep the past behaviour, explicitly set `max_features='sqrt'` or remove this parameter as it is also the default value for RandomForestClassifiers and ExtraTreesClassifiers.\n",
      "  warn(\n",
      "/Users/olyashaina/anaconda3/lib/python3.10/site-packages/sklearn/ensemble/_forest.py:424: FutureWarning: `max_features='auto'` has been deprecated in 1.1 and will be removed in 1.3. To keep the past behaviour, explicitly set `max_features='sqrt'` or remove this parameter as it is also the default value for RandomForestClassifiers and ExtraTreesClassifiers.\n",
      "  warn(\n"
     ]
    },
    {
     "name": "stdout",
     "output_type": "stream",
     "text": [
      "[CV 1/5] END bootstrap=False, max_depth=6, max_features=auto, min_samples_leaf=4, min_samples_split=6, n_estimators=150; accuracy: (test=1.000) total time=   0.1s\n",
      "[CV 2/5] END bootstrap=False, max_depth=6, max_features=auto, min_samples_leaf=4, min_samples_split=6, n_estimators=150; accuracy: (test=0.958) total time=   0.1s\n",
      "[CV 3/5] END bootstrap=False, max_depth=6, max_features=auto, min_samples_leaf=4, min_samples_split=6, n_estimators=150; accuracy: (test=1.000) total time=   0.1s\n",
      "[CV 4/5] END bootstrap=False, max_depth=6, max_features=auto, min_samples_leaf=4, min_samples_split=6, n_estimators=150; accuracy: (test=1.000) total time=   0.1s\n"
     ]
    },
    {
     "name": "stderr",
     "output_type": "stream",
     "text": [
      "/Users/olyashaina/anaconda3/lib/python3.10/site-packages/sklearn/ensemble/_forest.py:424: FutureWarning: `max_features='auto'` has been deprecated in 1.1 and will be removed in 1.3. To keep the past behaviour, explicitly set `max_features='sqrt'` or remove this parameter as it is also the default value for RandomForestClassifiers and ExtraTreesClassifiers.\n",
      "  warn(\n",
      "/Users/olyashaina/anaconda3/lib/python3.10/site-packages/sklearn/ensemble/_forest.py:424: FutureWarning: `max_features='auto'` has been deprecated in 1.1 and will be removed in 1.3. To keep the past behaviour, explicitly set `max_features='sqrt'` or remove this parameter as it is also the default value for RandomForestClassifiers and ExtraTreesClassifiers.\n",
      "  warn(\n"
     ]
    },
    {
     "name": "stdout",
     "output_type": "stream",
     "text": [
      "[CV 5/5] END bootstrap=False, max_depth=6, max_features=auto, min_samples_leaf=4, min_samples_split=6, n_estimators=150; accuracy: (test=0.957) total time=   0.1s\n",
      "[CV 1/5] END bootstrap=False, max_depth=6, max_features=sqrt, min_samples_leaf=1, min_samples_split=2, n_estimators=100; accuracy: (test=1.000) total time=   0.0s\n",
      "[CV 2/5] END bootstrap=False, max_depth=6, max_features=sqrt, min_samples_leaf=1, min_samples_split=2, n_estimators=100; accuracy: (test=0.958) total time=   0.0s\n",
      "[CV 3/5] END bootstrap=False, max_depth=6, max_features=sqrt, min_samples_leaf=1, min_samples_split=2, n_estimators=100; accuracy: (test=1.000) total time=   0.0s\n",
      "[CV 4/5] END bootstrap=False, max_depth=6, max_features=sqrt, min_samples_leaf=1, min_samples_split=2, n_estimators=100; accuracy: (test=1.000) total time=   0.0s\n",
      "[CV 5/5] END bootstrap=False, max_depth=6, max_features=sqrt, min_samples_leaf=1, min_samples_split=2, n_estimators=100; accuracy: (test=1.000) total time=   0.0s\n",
      "[CV 1/5] END bootstrap=False, max_depth=6, max_features=sqrt, min_samples_leaf=1, min_samples_split=2, n_estimators=150; accuracy: (test=1.000) total time=   0.1s\n",
      "[CV 2/5] END bootstrap=False, max_depth=6, max_features=sqrt, min_samples_leaf=1, min_samples_split=2, n_estimators=150; accuracy: (test=0.958) total time=   0.1s\n",
      "[CV 3/5] END bootstrap=False, max_depth=6, max_features=sqrt, min_samples_leaf=1, min_samples_split=2, n_estimators=150; accuracy: (test=1.000) total time=   0.1s\n",
      "[CV 4/5] END bootstrap=False, max_depth=6, max_features=sqrt, min_samples_leaf=1, min_samples_split=2, n_estimators=150; accuracy: (test=1.000) total time=   0.1s\n",
      "[CV 5/5] END bootstrap=False, max_depth=6, max_features=sqrt, min_samples_leaf=1, min_samples_split=2, n_estimators=150; accuracy: (test=1.000) total time=   0.1s\n",
      "[CV 1/5] END bootstrap=False, max_depth=6, max_features=sqrt, min_samples_leaf=1, min_samples_split=6, n_estimators=100; accuracy: (test=1.000) total time=   0.0s\n",
      "[CV 2/5] END bootstrap=False, max_depth=6, max_features=sqrt, min_samples_leaf=1, min_samples_split=6, n_estimators=100; accuracy: (test=0.958) total time=   0.0s\n",
      "[CV 3/5] END bootstrap=False, max_depth=6, max_features=sqrt, min_samples_leaf=1, min_samples_split=6, n_estimators=100; accuracy: (test=1.000) total time=   0.0s\n",
      "[CV 4/5] END bootstrap=False, max_depth=6, max_features=sqrt, min_samples_leaf=1, min_samples_split=6, n_estimators=100; accuracy: (test=1.000) total time=   0.0s\n",
      "[CV 5/5] END bootstrap=False, max_depth=6, max_features=sqrt, min_samples_leaf=1, min_samples_split=6, n_estimators=100; accuracy: (test=1.000) total time=   0.0s\n",
      "[CV 1/5] END bootstrap=False, max_depth=6, max_features=sqrt, min_samples_leaf=1, min_samples_split=6, n_estimators=150; accuracy: (test=1.000) total time=   0.1s\n",
      "[CV 2/5] END bootstrap=False, max_depth=6, max_features=sqrt, min_samples_leaf=1, min_samples_split=6, n_estimators=150; accuracy: (test=0.958) total time=   0.1s\n",
      "[CV 3/5] END bootstrap=False, max_depth=6, max_features=sqrt, min_samples_leaf=1, min_samples_split=6, n_estimators=150; accuracy: (test=1.000) total time=   0.1s\n",
      "[CV 4/5] END bootstrap=False, max_depth=6, max_features=sqrt, min_samples_leaf=1, min_samples_split=6, n_estimators=150; accuracy: (test=1.000) total time=   0.1s\n",
      "[CV 5/5] END bootstrap=False, max_depth=6, max_features=sqrt, min_samples_leaf=1, min_samples_split=6, n_estimators=150; accuracy: (test=1.000) total time=   0.1s\n",
      "[CV 1/5] END bootstrap=False, max_depth=6, max_features=sqrt, min_samples_leaf=4, min_samples_split=2, n_estimators=100; accuracy: (test=1.000) total time=   0.0s\n",
      "[CV 2/5] END bootstrap=False, max_depth=6, max_features=sqrt, min_samples_leaf=4, min_samples_split=2, n_estimators=100; accuracy: (test=0.958) total time=   0.0s\n",
      "[CV 3/5] END bootstrap=False, max_depth=6, max_features=sqrt, min_samples_leaf=4, min_samples_split=2, n_estimators=100; accuracy: (test=1.000) total time=   0.0s\n",
      "[CV 4/5] END bootstrap=False, max_depth=6, max_features=sqrt, min_samples_leaf=4, min_samples_split=2, n_estimators=100; accuracy: (test=1.000) total time=   0.0s\n",
      "[CV 5/5] END bootstrap=False, max_depth=6, max_features=sqrt, min_samples_leaf=4, min_samples_split=2, n_estimators=100; accuracy: (test=0.957) total time=   0.0s\n",
      "[CV 1/5] END bootstrap=False, max_depth=6, max_features=sqrt, min_samples_leaf=4, min_samples_split=2, n_estimators=150; accuracy: (test=1.000) total time=   0.1s\n",
      "[CV 2/5] END bootstrap=False, max_depth=6, max_features=sqrt, min_samples_leaf=4, min_samples_split=2, n_estimators=150; accuracy: (test=0.958) total time=   0.1s\n",
      "[CV 3/5] END bootstrap=False, max_depth=6, max_features=sqrt, min_samples_leaf=4, min_samples_split=2, n_estimators=150; accuracy: (test=1.000) total time=   0.1s\n",
      "[CV 4/5] END bootstrap=False, max_depth=6, max_features=sqrt, min_samples_leaf=4, min_samples_split=2, n_estimators=150; accuracy: (test=1.000) total time=   0.1s\n",
      "[CV 5/5] END bootstrap=False, max_depth=6, max_features=sqrt, min_samples_leaf=4, min_samples_split=2, n_estimators=150; accuracy: (test=0.957) total time=   0.1s\n",
      "[CV 1/5] END bootstrap=False, max_depth=6, max_features=sqrt, min_samples_leaf=4, min_samples_split=6, n_estimators=100; accuracy: (test=1.000) total time=   0.0s\n",
      "[CV 2/5] END bootstrap=False, max_depth=6, max_features=sqrt, min_samples_leaf=4, min_samples_split=6, n_estimators=100; accuracy: (test=0.958) total time=   0.0s\n",
      "[CV 3/5] END bootstrap=False, max_depth=6, max_features=sqrt, min_samples_leaf=4, min_samples_split=6, n_estimators=100; accuracy: (test=1.000) total time=   0.0s\n",
      "[CV 4/5] END bootstrap=False, max_depth=6, max_features=sqrt, min_samples_leaf=4, min_samples_split=6, n_estimators=100; accuracy: (test=1.000) total time=   0.0s\n",
      "[CV 5/5] END bootstrap=False, max_depth=6, max_features=sqrt, min_samples_leaf=4, min_samples_split=6, n_estimators=100; accuracy: (test=0.957) total time=   0.0s\n",
      "[CV 1/5] END bootstrap=False, max_depth=6, max_features=sqrt, min_samples_leaf=4, min_samples_split=6, n_estimators=150; accuracy: (test=1.000) total time=   0.1s\n",
      "[CV 2/5] END bootstrap=False, max_depth=6, max_features=sqrt, min_samples_leaf=4, min_samples_split=6, n_estimators=150; accuracy: (test=0.958) total time=   0.1s\n",
      "[CV 3/5] END bootstrap=False, max_depth=6, max_features=sqrt, min_samples_leaf=4, min_samples_split=6, n_estimators=150; accuracy: (test=1.000) total time=   0.1s\n",
      "[CV 4/5] END bootstrap=False, max_depth=6, max_features=sqrt, min_samples_leaf=4, min_samples_split=6, n_estimators=150; accuracy: (test=1.000) total time=   0.1s\n",
      "[CV 5/5] END bootstrap=False, max_depth=6, max_features=sqrt, min_samples_leaf=4, min_samples_split=6, n_estimators=150; accuracy: (test=0.957) total time=   0.1s\n",
      "[CV 1/5] END bootstrap=False, max_depth=None, max_features=auto, min_samples_leaf=1, min_samples_split=2, n_estimators=100; accuracy: (test=1.000) total time=   0.0s\n",
      "[CV 2/5] END bootstrap=False, max_depth=None, max_features=auto, min_samples_leaf=1, min_samples_split=2, n_estimators=100; accuracy: (test=0.958) total time=   0.0s\n",
      "[CV 3/5] END bootstrap=False, max_depth=None, max_features=auto, min_samples_leaf=1, min_samples_split=2, n_estimators=100; accuracy: (test=1.000) total time=   0.0s\n",
      "[CV 4/5] END bootstrap=False, max_depth=None, max_features=auto, min_samples_leaf=1, min_samples_split=2, n_estimators=100; accuracy: (test=1.000) total time=   0.0s\n",
      "[CV 5/5] END bootstrap=False, max_depth=None, max_features=auto, min_samples_leaf=1, min_samples_split=2, n_estimators=100; accuracy: (test=1.000) total time=   0.0s\n"
     ]
    },
    {
     "name": "stderr",
     "output_type": "stream",
     "text": [
      "/Users/olyashaina/anaconda3/lib/python3.10/site-packages/sklearn/ensemble/_forest.py:424: FutureWarning: `max_features='auto'` has been deprecated in 1.1 and will be removed in 1.3. To keep the past behaviour, explicitly set `max_features='sqrt'` or remove this parameter as it is also the default value for RandomForestClassifiers and ExtraTreesClassifiers.\n",
      "  warn(\n",
      "/Users/olyashaina/anaconda3/lib/python3.10/site-packages/sklearn/ensemble/_forest.py:424: FutureWarning: `max_features='auto'` has been deprecated in 1.1 and will be removed in 1.3. To keep the past behaviour, explicitly set `max_features='sqrt'` or remove this parameter as it is also the default value for RandomForestClassifiers and ExtraTreesClassifiers.\n",
      "  warn(\n",
      "/Users/olyashaina/anaconda3/lib/python3.10/site-packages/sklearn/ensemble/_forest.py:424: FutureWarning: `max_features='auto'` has been deprecated in 1.1 and will be removed in 1.3. To keep the past behaviour, explicitly set `max_features='sqrt'` or remove this parameter as it is also the default value for RandomForestClassifiers and ExtraTreesClassifiers.\n",
      "  warn(\n",
      "/Users/olyashaina/anaconda3/lib/python3.10/site-packages/sklearn/ensemble/_forest.py:424: FutureWarning: `max_features='auto'` has been deprecated in 1.1 and will be removed in 1.3. To keep the past behaviour, explicitly set `max_features='sqrt'` or remove this parameter as it is also the default value for RandomForestClassifiers and ExtraTreesClassifiers.\n",
      "  warn(\n",
      "/Users/olyashaina/anaconda3/lib/python3.10/site-packages/sklearn/ensemble/_forest.py:424: FutureWarning: `max_features='auto'` has been deprecated in 1.1 and will be removed in 1.3. To keep the past behaviour, explicitly set `max_features='sqrt'` or remove this parameter as it is also the default value for RandomForestClassifiers and ExtraTreesClassifiers.\n",
      "  warn(\n",
      "/Users/olyashaina/anaconda3/lib/python3.10/site-packages/sklearn/ensemble/_forest.py:424: FutureWarning: `max_features='auto'` has been deprecated in 1.1 and will be removed in 1.3. To keep the past behaviour, explicitly set `max_features='sqrt'` or remove this parameter as it is also the default value for RandomForestClassifiers and ExtraTreesClassifiers.\n",
      "  warn(\n"
     ]
    },
    {
     "name": "stdout",
     "output_type": "stream",
     "text": [
      "[CV 1/5] END bootstrap=False, max_depth=None, max_features=auto, min_samples_leaf=1, min_samples_split=2, n_estimators=150; accuracy: (test=1.000) total time=   0.1s\n",
      "[CV 2/5] END bootstrap=False, max_depth=None, max_features=auto, min_samples_leaf=1, min_samples_split=2, n_estimators=150; accuracy: (test=0.958) total time=   0.1s\n",
      "[CV 3/5] END bootstrap=False, max_depth=None, max_features=auto, min_samples_leaf=1, min_samples_split=2, n_estimators=150; accuracy: (test=1.000) total time=   0.1s\n",
      "[CV 4/5] END bootstrap=False, max_depth=None, max_features=auto, min_samples_leaf=1, min_samples_split=2, n_estimators=150; accuracy: (test=1.000) total time=   0.1s\n"
     ]
    },
    {
     "name": "stderr",
     "output_type": "stream",
     "text": [
      "/Users/olyashaina/anaconda3/lib/python3.10/site-packages/sklearn/ensemble/_forest.py:424: FutureWarning: `max_features='auto'` has been deprecated in 1.1 and will be removed in 1.3. To keep the past behaviour, explicitly set `max_features='sqrt'` or remove this parameter as it is also the default value for RandomForestClassifiers and ExtraTreesClassifiers.\n",
      "  warn(\n",
      "/Users/olyashaina/anaconda3/lib/python3.10/site-packages/sklearn/ensemble/_forest.py:424: FutureWarning: `max_features='auto'` has been deprecated in 1.1 and will be removed in 1.3. To keep the past behaviour, explicitly set `max_features='sqrt'` or remove this parameter as it is also the default value for RandomForestClassifiers and ExtraTreesClassifiers.\n",
      "  warn(\n",
      "/Users/olyashaina/anaconda3/lib/python3.10/site-packages/sklearn/ensemble/_forest.py:424: FutureWarning: `max_features='auto'` has been deprecated in 1.1 and will be removed in 1.3. To keep the past behaviour, explicitly set `max_features='sqrt'` or remove this parameter as it is also the default value for RandomForestClassifiers and ExtraTreesClassifiers.\n",
      "  warn(\n",
      "/Users/olyashaina/anaconda3/lib/python3.10/site-packages/sklearn/ensemble/_forest.py:424: FutureWarning: `max_features='auto'` has been deprecated in 1.1 and will be removed in 1.3. To keep the past behaviour, explicitly set `max_features='sqrt'` or remove this parameter as it is also the default value for RandomForestClassifiers and ExtraTreesClassifiers.\n",
      "  warn(\n"
     ]
    },
    {
     "name": "stdout",
     "output_type": "stream",
     "text": [
      "[CV 5/5] END bootstrap=False, max_depth=None, max_features=auto, min_samples_leaf=1, min_samples_split=2, n_estimators=150; accuracy: (test=1.000) total time=   0.1s\n",
      "[CV 1/5] END bootstrap=False, max_depth=None, max_features=auto, min_samples_leaf=1, min_samples_split=6, n_estimators=100; accuracy: (test=1.000) total time=   0.0s\n",
      "[CV 2/5] END bootstrap=False, max_depth=None, max_features=auto, min_samples_leaf=1, min_samples_split=6, n_estimators=100; accuracy: (test=0.958) total time=   0.0s\n",
      "[CV 3/5] END bootstrap=False, max_depth=None, max_features=auto, min_samples_leaf=1, min_samples_split=6, n_estimators=100; accuracy: (test=1.000) total time=   0.0s\n",
      "[CV 4/5] END bootstrap=False, max_depth=None, max_features=auto, min_samples_leaf=1, min_samples_split=6, n_estimators=100; accuracy: (test=1.000) total time=   0.0s\n",
      "[CV 5/5] END bootstrap=False, max_depth=None, max_features=auto, min_samples_leaf=1, min_samples_split=6, n_estimators=100; accuracy: (test=1.000) total time=   0.0s\n"
     ]
    },
    {
     "name": "stderr",
     "output_type": "stream",
     "text": [
      "/Users/olyashaina/anaconda3/lib/python3.10/site-packages/sklearn/ensemble/_forest.py:424: FutureWarning: `max_features='auto'` has been deprecated in 1.1 and will be removed in 1.3. To keep the past behaviour, explicitly set `max_features='sqrt'` or remove this parameter as it is also the default value for RandomForestClassifiers and ExtraTreesClassifiers.\n",
      "  warn(\n",
      "/Users/olyashaina/anaconda3/lib/python3.10/site-packages/sklearn/ensemble/_forest.py:424: FutureWarning: `max_features='auto'` has been deprecated in 1.1 and will be removed in 1.3. To keep the past behaviour, explicitly set `max_features='sqrt'` or remove this parameter as it is also the default value for RandomForestClassifiers and ExtraTreesClassifiers.\n",
      "  warn(\n",
      "/Users/olyashaina/anaconda3/lib/python3.10/site-packages/sklearn/ensemble/_forest.py:424: FutureWarning: `max_features='auto'` has been deprecated in 1.1 and will be removed in 1.3. To keep the past behaviour, explicitly set `max_features='sqrt'` or remove this parameter as it is also the default value for RandomForestClassifiers and ExtraTreesClassifiers.\n",
      "  warn(\n",
      "/Users/olyashaina/anaconda3/lib/python3.10/site-packages/sklearn/ensemble/_forest.py:424: FutureWarning: `max_features='auto'` has been deprecated in 1.1 and will be removed in 1.3. To keep the past behaviour, explicitly set `max_features='sqrt'` or remove this parameter as it is also the default value for RandomForestClassifiers and ExtraTreesClassifiers.\n",
      "  warn(\n",
      "/Users/olyashaina/anaconda3/lib/python3.10/site-packages/sklearn/ensemble/_forest.py:424: FutureWarning: `max_features='auto'` has been deprecated in 1.1 and will be removed in 1.3. To keep the past behaviour, explicitly set `max_features='sqrt'` or remove this parameter as it is also the default value for RandomForestClassifiers and ExtraTreesClassifiers.\n",
      "  warn(\n",
      "/Users/olyashaina/anaconda3/lib/python3.10/site-packages/sklearn/ensemble/_forest.py:424: FutureWarning: `max_features='auto'` has been deprecated in 1.1 and will be removed in 1.3. To keep the past behaviour, explicitly set `max_features='sqrt'` or remove this parameter as it is also the default value for RandomForestClassifiers and ExtraTreesClassifiers.\n",
      "  warn(\n"
     ]
    },
    {
     "name": "stdout",
     "output_type": "stream",
     "text": [
      "[CV 1/5] END bootstrap=False, max_depth=None, max_features=auto, min_samples_leaf=1, min_samples_split=6, n_estimators=150; accuracy: (test=1.000) total time=   0.1s\n",
      "[CV 2/5] END bootstrap=False, max_depth=None, max_features=auto, min_samples_leaf=1, min_samples_split=6, n_estimators=150; accuracy: (test=0.958) total time=   0.1s\n",
      "[CV 3/5] END bootstrap=False, max_depth=None, max_features=auto, min_samples_leaf=1, min_samples_split=6, n_estimators=150; accuracy: (test=1.000) total time=   0.1s\n",
      "[CV 4/5] END bootstrap=False, max_depth=None, max_features=auto, min_samples_leaf=1, min_samples_split=6, n_estimators=150; accuracy: (test=1.000) total time=   0.1s\n"
     ]
    },
    {
     "name": "stderr",
     "output_type": "stream",
     "text": [
      "/Users/olyashaina/anaconda3/lib/python3.10/site-packages/sklearn/ensemble/_forest.py:424: FutureWarning: `max_features='auto'` has been deprecated in 1.1 and will be removed in 1.3. To keep the past behaviour, explicitly set `max_features='sqrt'` or remove this parameter as it is also the default value for RandomForestClassifiers and ExtraTreesClassifiers.\n",
      "  warn(\n",
      "/Users/olyashaina/anaconda3/lib/python3.10/site-packages/sklearn/ensemble/_forest.py:424: FutureWarning: `max_features='auto'` has been deprecated in 1.1 and will be removed in 1.3. To keep the past behaviour, explicitly set `max_features='sqrt'` or remove this parameter as it is also the default value for RandomForestClassifiers and ExtraTreesClassifiers.\n",
      "  warn(\n",
      "/Users/olyashaina/anaconda3/lib/python3.10/site-packages/sklearn/ensemble/_forest.py:424: FutureWarning: `max_features='auto'` has been deprecated in 1.1 and will be removed in 1.3. To keep the past behaviour, explicitly set `max_features='sqrt'` or remove this parameter as it is also the default value for RandomForestClassifiers and ExtraTreesClassifiers.\n",
      "  warn(\n",
      "/Users/olyashaina/anaconda3/lib/python3.10/site-packages/sklearn/ensemble/_forest.py:424: FutureWarning: `max_features='auto'` has been deprecated in 1.1 and will be removed in 1.3. To keep the past behaviour, explicitly set `max_features='sqrt'` or remove this parameter as it is also the default value for RandomForestClassifiers and ExtraTreesClassifiers.\n",
      "  warn(\n"
     ]
    },
    {
     "name": "stdout",
     "output_type": "stream",
     "text": [
      "[CV 5/5] END bootstrap=False, max_depth=None, max_features=auto, min_samples_leaf=1, min_samples_split=6, n_estimators=150; accuracy: (test=1.000) total time=   0.1s\n",
      "[CV 1/5] END bootstrap=False, max_depth=None, max_features=auto, min_samples_leaf=4, min_samples_split=2, n_estimators=100; accuracy: (test=1.000) total time=   0.0s\n",
      "[CV 2/5] END bootstrap=False, max_depth=None, max_features=auto, min_samples_leaf=4, min_samples_split=2, n_estimators=100; accuracy: (test=0.958) total time=   0.0s\n",
      "[CV 3/5] END bootstrap=False, max_depth=None, max_features=auto, min_samples_leaf=4, min_samples_split=2, n_estimators=100; accuracy: (test=1.000) total time=   0.0s\n",
      "[CV 4/5] END bootstrap=False, max_depth=None, max_features=auto, min_samples_leaf=4, min_samples_split=2, n_estimators=100; accuracy: (test=1.000) total time=   0.0s\n",
      "[CV 5/5] END bootstrap=False, max_depth=None, max_features=auto, min_samples_leaf=4, min_samples_split=2, n_estimators=100; accuracy: (test=0.957) total time=   0.0s\n"
     ]
    },
    {
     "name": "stderr",
     "output_type": "stream",
     "text": [
      "/Users/olyashaina/anaconda3/lib/python3.10/site-packages/sklearn/ensemble/_forest.py:424: FutureWarning: `max_features='auto'` has been deprecated in 1.1 and will be removed in 1.3. To keep the past behaviour, explicitly set `max_features='sqrt'` or remove this parameter as it is also the default value for RandomForestClassifiers and ExtraTreesClassifiers.\n",
      "  warn(\n",
      "/Users/olyashaina/anaconda3/lib/python3.10/site-packages/sklearn/ensemble/_forest.py:424: FutureWarning: `max_features='auto'` has been deprecated in 1.1 and will be removed in 1.3. To keep the past behaviour, explicitly set `max_features='sqrt'` or remove this parameter as it is also the default value for RandomForestClassifiers and ExtraTreesClassifiers.\n",
      "  warn(\n",
      "/Users/olyashaina/anaconda3/lib/python3.10/site-packages/sklearn/ensemble/_forest.py:424: FutureWarning: `max_features='auto'` has been deprecated in 1.1 and will be removed in 1.3. To keep the past behaviour, explicitly set `max_features='sqrt'` or remove this parameter as it is also the default value for RandomForestClassifiers and ExtraTreesClassifiers.\n",
      "  warn(\n",
      "/Users/olyashaina/anaconda3/lib/python3.10/site-packages/sklearn/ensemble/_forest.py:424: FutureWarning: `max_features='auto'` has been deprecated in 1.1 and will be removed in 1.3. To keep the past behaviour, explicitly set `max_features='sqrt'` or remove this parameter as it is also the default value for RandomForestClassifiers and ExtraTreesClassifiers.\n",
      "  warn(\n",
      "/Users/olyashaina/anaconda3/lib/python3.10/site-packages/sklearn/ensemble/_forest.py:424: FutureWarning: `max_features='auto'` has been deprecated in 1.1 and will be removed in 1.3. To keep the past behaviour, explicitly set `max_features='sqrt'` or remove this parameter as it is also the default value for RandomForestClassifiers and ExtraTreesClassifiers.\n",
      "  warn(\n",
      "/Users/olyashaina/anaconda3/lib/python3.10/site-packages/sklearn/ensemble/_forest.py:424: FutureWarning: `max_features='auto'` has been deprecated in 1.1 and will be removed in 1.3. To keep the past behaviour, explicitly set `max_features='sqrt'` or remove this parameter as it is also the default value for RandomForestClassifiers and ExtraTreesClassifiers.\n",
      "  warn(\n"
     ]
    },
    {
     "name": "stdout",
     "output_type": "stream",
     "text": [
      "[CV 1/5] END bootstrap=False, max_depth=None, max_features=auto, min_samples_leaf=4, min_samples_split=2, n_estimators=150; accuracy: (test=1.000) total time=   0.1s\n",
      "[CV 2/5] END bootstrap=False, max_depth=None, max_features=auto, min_samples_leaf=4, min_samples_split=2, n_estimators=150; accuracy: (test=0.958) total time=   0.1s\n",
      "[CV 3/5] END bootstrap=False, max_depth=None, max_features=auto, min_samples_leaf=4, min_samples_split=2, n_estimators=150; accuracy: (test=1.000) total time=   0.1s\n",
      "[CV 4/5] END bootstrap=False, max_depth=None, max_features=auto, min_samples_leaf=4, min_samples_split=2, n_estimators=150; accuracy: (test=1.000) total time=   0.1s\n"
     ]
    },
    {
     "name": "stderr",
     "output_type": "stream",
     "text": [
      "/Users/olyashaina/anaconda3/lib/python3.10/site-packages/sklearn/ensemble/_forest.py:424: FutureWarning: `max_features='auto'` has been deprecated in 1.1 and will be removed in 1.3. To keep the past behaviour, explicitly set `max_features='sqrt'` or remove this parameter as it is also the default value for RandomForestClassifiers and ExtraTreesClassifiers.\n",
      "  warn(\n",
      "/Users/olyashaina/anaconda3/lib/python3.10/site-packages/sklearn/ensemble/_forest.py:424: FutureWarning: `max_features='auto'` has been deprecated in 1.1 and will be removed in 1.3. To keep the past behaviour, explicitly set `max_features='sqrt'` or remove this parameter as it is also the default value for RandomForestClassifiers and ExtraTreesClassifiers.\n",
      "  warn(\n",
      "/Users/olyashaina/anaconda3/lib/python3.10/site-packages/sklearn/ensemble/_forest.py:424: FutureWarning: `max_features='auto'` has been deprecated in 1.1 and will be removed in 1.3. To keep the past behaviour, explicitly set `max_features='sqrt'` or remove this parameter as it is also the default value for RandomForestClassifiers and ExtraTreesClassifiers.\n",
      "  warn(\n",
      "/Users/olyashaina/anaconda3/lib/python3.10/site-packages/sklearn/ensemble/_forest.py:424: FutureWarning: `max_features='auto'` has been deprecated in 1.1 and will be removed in 1.3. To keep the past behaviour, explicitly set `max_features='sqrt'` or remove this parameter as it is also the default value for RandomForestClassifiers and ExtraTreesClassifiers.\n",
      "  warn(\n"
     ]
    },
    {
     "name": "stdout",
     "output_type": "stream",
     "text": [
      "[CV 5/5] END bootstrap=False, max_depth=None, max_features=auto, min_samples_leaf=4, min_samples_split=2, n_estimators=150; accuracy: (test=0.957) total time=   0.1s\n",
      "[CV 1/5] END bootstrap=False, max_depth=None, max_features=auto, min_samples_leaf=4, min_samples_split=6, n_estimators=100; accuracy: (test=1.000) total time=   0.0s\n",
      "[CV 2/5] END bootstrap=False, max_depth=None, max_features=auto, min_samples_leaf=4, min_samples_split=6, n_estimators=100; accuracy: (test=0.958) total time=   0.0s\n",
      "[CV 3/5] END bootstrap=False, max_depth=None, max_features=auto, min_samples_leaf=4, min_samples_split=6, n_estimators=100; accuracy: (test=1.000) total time=   0.0s\n",
      "[CV 4/5] END bootstrap=False, max_depth=None, max_features=auto, min_samples_leaf=4, min_samples_split=6, n_estimators=100; accuracy: (test=1.000) total time=   0.0s\n"
     ]
    },
    {
     "name": "stderr",
     "output_type": "stream",
     "text": [
      "/Users/olyashaina/anaconda3/lib/python3.10/site-packages/sklearn/ensemble/_forest.py:424: FutureWarning: `max_features='auto'` has been deprecated in 1.1 and will be removed in 1.3. To keep the past behaviour, explicitly set `max_features='sqrt'` or remove this parameter as it is also the default value for RandomForestClassifiers and ExtraTreesClassifiers.\n",
      "  warn(\n",
      "/Users/olyashaina/anaconda3/lib/python3.10/site-packages/sklearn/ensemble/_forest.py:424: FutureWarning: `max_features='auto'` has been deprecated in 1.1 and will be removed in 1.3. To keep the past behaviour, explicitly set `max_features='sqrt'` or remove this parameter as it is also the default value for RandomForestClassifiers and ExtraTreesClassifiers.\n",
      "  warn(\n",
      "/Users/olyashaina/anaconda3/lib/python3.10/site-packages/sklearn/ensemble/_forest.py:424: FutureWarning: `max_features='auto'` has been deprecated in 1.1 and will be removed in 1.3. To keep the past behaviour, explicitly set `max_features='sqrt'` or remove this parameter as it is also the default value for RandomForestClassifiers and ExtraTreesClassifiers.\n",
      "  warn(\n",
      "/Users/olyashaina/anaconda3/lib/python3.10/site-packages/sklearn/ensemble/_forest.py:424: FutureWarning: `max_features='auto'` has been deprecated in 1.1 and will be removed in 1.3. To keep the past behaviour, explicitly set `max_features='sqrt'` or remove this parameter as it is also the default value for RandomForestClassifiers and ExtraTreesClassifiers.\n",
      "  warn(\n",
      "/Users/olyashaina/anaconda3/lib/python3.10/site-packages/sklearn/ensemble/_forest.py:424: FutureWarning: `max_features='auto'` has been deprecated in 1.1 and will be removed in 1.3. To keep the past behaviour, explicitly set `max_features='sqrt'` or remove this parameter as it is also the default value for RandomForestClassifiers and ExtraTreesClassifiers.\n",
      "  warn(\n"
     ]
    },
    {
     "name": "stdout",
     "output_type": "stream",
     "text": [
      "[CV 5/5] END bootstrap=False, max_depth=None, max_features=auto, min_samples_leaf=4, min_samples_split=6, n_estimators=100; accuracy: (test=0.957) total time=   0.0s\n",
      "[CV 1/5] END bootstrap=False, max_depth=None, max_features=auto, min_samples_leaf=4, min_samples_split=6, n_estimators=150; accuracy: (test=1.000) total time=   0.1s\n",
      "[CV 2/5] END bootstrap=False, max_depth=None, max_features=auto, min_samples_leaf=4, min_samples_split=6, n_estimators=150; accuracy: (test=0.958) total time=   0.1s\n",
      "[CV 3/5] END bootstrap=False, max_depth=None, max_features=auto, min_samples_leaf=4, min_samples_split=6, n_estimators=150; accuracy: (test=1.000) total time=   0.1s\n"
     ]
    },
    {
     "name": "stderr",
     "output_type": "stream",
     "text": [
      "/Users/olyashaina/anaconda3/lib/python3.10/site-packages/sklearn/ensemble/_forest.py:424: FutureWarning: `max_features='auto'` has been deprecated in 1.1 and will be removed in 1.3. To keep the past behaviour, explicitly set `max_features='sqrt'` or remove this parameter as it is also the default value for RandomForestClassifiers and ExtraTreesClassifiers.\n",
      "  warn(\n",
      "/Users/olyashaina/anaconda3/lib/python3.10/site-packages/sklearn/ensemble/_forest.py:424: FutureWarning: `max_features='auto'` has been deprecated in 1.1 and will be removed in 1.3. To keep the past behaviour, explicitly set `max_features='sqrt'` or remove this parameter as it is also the default value for RandomForestClassifiers and ExtraTreesClassifiers.\n",
      "  warn(\n",
      "/Users/olyashaina/anaconda3/lib/python3.10/site-packages/sklearn/ensemble/_forest.py:424: FutureWarning: `max_features='auto'` has been deprecated in 1.1 and will be removed in 1.3. To keep the past behaviour, explicitly set `max_features='sqrt'` or remove this parameter as it is also the default value for RandomForestClassifiers and ExtraTreesClassifiers.\n",
      "  warn(\n",
      "/Users/olyashaina/anaconda3/lib/python3.10/site-packages/sklearn/ensemble/_forest.py:424: FutureWarning: `max_features='auto'` has been deprecated in 1.1 and will be removed in 1.3. To keep the past behaviour, explicitly set `max_features='sqrt'` or remove this parameter as it is also the default value for RandomForestClassifiers and ExtraTreesClassifiers.\n",
      "  warn(\n"
     ]
    },
    {
     "name": "stdout",
     "output_type": "stream",
     "text": [
      "[CV 4/5] END bootstrap=False, max_depth=None, max_features=auto, min_samples_leaf=4, min_samples_split=6, n_estimators=150; accuracy: (test=1.000) total time=   0.1s\n",
      "[CV 5/5] END bootstrap=False, max_depth=None, max_features=auto, min_samples_leaf=4, min_samples_split=6, n_estimators=150; accuracy: (test=0.957) total time=   0.1s\n",
      "[CV 1/5] END bootstrap=False, max_depth=None, max_features=sqrt, min_samples_leaf=1, min_samples_split=2, n_estimators=100; accuracy: (test=1.000) total time=   0.0s\n",
      "[CV 2/5] END bootstrap=False, max_depth=None, max_features=sqrt, min_samples_leaf=1, min_samples_split=2, n_estimators=100; accuracy: (test=0.958) total time=   0.0s\n",
      "[CV 3/5] END bootstrap=False, max_depth=None, max_features=sqrt, min_samples_leaf=1, min_samples_split=2, n_estimators=100; accuracy: (test=1.000) total time=   0.0s\n"
     ]
    },
    {
     "name": "stderr",
     "output_type": "stream",
     "text": [
      "/Users/olyashaina/anaconda3/lib/python3.10/site-packages/sklearn/ensemble/_forest.py:424: FutureWarning: `max_features='auto'` has been deprecated in 1.1 and will be removed in 1.3. To keep the past behaviour, explicitly set `max_features='sqrt'` or remove this parameter as it is also the default value for RandomForestClassifiers and ExtraTreesClassifiers.\n",
      "  warn(\n"
     ]
    },
    {
     "name": "stdout",
     "output_type": "stream",
     "text": [
      "[CV 4/5] END bootstrap=False, max_depth=None, max_features=sqrt, min_samples_leaf=1, min_samples_split=2, n_estimators=100; accuracy: (test=1.000) total time=   0.0s\n",
      "[CV 5/5] END bootstrap=False, max_depth=None, max_features=sqrt, min_samples_leaf=1, min_samples_split=2, n_estimators=100; accuracy: (test=1.000) total time=   0.0s\n",
      "[CV 1/5] END bootstrap=False, max_depth=None, max_features=sqrt, min_samples_leaf=1, min_samples_split=2, n_estimators=150; accuracy: (test=1.000) total time=   0.1s\n",
      "[CV 2/5] END bootstrap=False, max_depth=None, max_features=sqrt, min_samples_leaf=1, min_samples_split=2, n_estimators=150; accuracy: (test=0.958) total time=   0.1s\n",
      "[CV 3/5] END bootstrap=False, max_depth=None, max_features=sqrt, min_samples_leaf=1, min_samples_split=2, n_estimators=150; accuracy: (test=1.000) total time=   0.1s\n",
      "[CV 4/5] END bootstrap=False, max_depth=None, max_features=sqrt, min_samples_leaf=1, min_samples_split=2, n_estimators=150; accuracy: (test=1.000) total time=   0.1s\n",
      "[CV 5/5] END bootstrap=False, max_depth=None, max_features=sqrt, min_samples_leaf=1, min_samples_split=2, n_estimators=150; accuracy: (test=1.000) total time=   0.1s\n",
      "[CV 1/5] END bootstrap=False, max_depth=None, max_features=sqrt, min_samples_leaf=1, min_samples_split=6, n_estimators=100; accuracy: (test=1.000) total time=   0.0s\n",
      "[CV 2/5] END bootstrap=False, max_depth=None, max_features=sqrt, min_samples_leaf=1, min_samples_split=6, n_estimators=100; accuracy: (test=0.958) total time=   0.0s\n",
      "[CV 3/5] END bootstrap=False, max_depth=None, max_features=sqrt, min_samples_leaf=1, min_samples_split=6, n_estimators=100; accuracy: (test=1.000) total time=   0.0s\n",
      "[CV 4/5] END bootstrap=False, max_depth=None, max_features=sqrt, min_samples_leaf=1, min_samples_split=6, n_estimators=100; accuracy: (test=1.000) total time=   0.0s\n",
      "[CV 5/5] END bootstrap=False, max_depth=None, max_features=sqrt, min_samples_leaf=1, min_samples_split=6, n_estimators=100; accuracy: (test=1.000) total time=   0.0s\n",
      "[CV 1/5] END bootstrap=False, max_depth=None, max_features=sqrt, min_samples_leaf=1, min_samples_split=6, n_estimators=150; accuracy: (test=1.000) total time=   0.1s\n",
      "[CV 2/5] END bootstrap=False, max_depth=None, max_features=sqrt, min_samples_leaf=1, min_samples_split=6, n_estimators=150; accuracy: (test=0.958) total time=   0.1s\n",
      "[CV 3/5] END bootstrap=False, max_depth=None, max_features=sqrt, min_samples_leaf=1, min_samples_split=6, n_estimators=150; accuracy: (test=1.000) total time=   0.1s\n",
      "[CV 4/5] END bootstrap=False, max_depth=None, max_features=sqrt, min_samples_leaf=1, min_samples_split=6, n_estimators=150; accuracy: (test=1.000) total time=   0.1s\n",
      "[CV 5/5] END bootstrap=False, max_depth=None, max_features=sqrt, min_samples_leaf=1, min_samples_split=6, n_estimators=150; accuracy: (test=1.000) total time=   0.1s\n",
      "[CV 1/5] END bootstrap=False, max_depth=None, max_features=sqrt, min_samples_leaf=4, min_samples_split=2, n_estimators=100; accuracy: (test=1.000) total time=   0.0s\n",
      "[CV 2/5] END bootstrap=False, max_depth=None, max_features=sqrt, min_samples_leaf=4, min_samples_split=2, n_estimators=100; accuracy: (test=0.958) total time=   0.0s\n",
      "[CV 3/5] END bootstrap=False, max_depth=None, max_features=sqrt, min_samples_leaf=4, min_samples_split=2, n_estimators=100; accuracy: (test=1.000) total time=   0.0s\n",
      "[CV 4/5] END bootstrap=False, max_depth=None, max_features=sqrt, min_samples_leaf=4, min_samples_split=2, n_estimators=100; accuracy: (test=1.000) total time=   0.0s\n",
      "[CV 5/5] END bootstrap=False, max_depth=None, max_features=sqrt, min_samples_leaf=4, min_samples_split=2, n_estimators=100; accuracy: (test=0.957) total time=   0.0s\n",
      "[CV 1/5] END bootstrap=False, max_depth=None, max_features=sqrt, min_samples_leaf=4, min_samples_split=2, n_estimators=150; accuracy: (test=1.000) total time=   0.1s\n",
      "[CV 2/5] END bootstrap=False, max_depth=None, max_features=sqrt, min_samples_leaf=4, min_samples_split=2, n_estimators=150; accuracy: (test=0.958) total time=   0.1s\n",
      "[CV 3/5] END bootstrap=False, max_depth=None, max_features=sqrt, min_samples_leaf=4, min_samples_split=2, n_estimators=150; accuracy: (test=1.000) total time=   0.1s\n",
      "[CV 4/5] END bootstrap=False, max_depth=None, max_features=sqrt, min_samples_leaf=4, min_samples_split=2, n_estimators=150; accuracy: (test=1.000) total time=   0.1s\n",
      "[CV 5/5] END bootstrap=False, max_depth=None, max_features=sqrt, min_samples_leaf=4, min_samples_split=2, n_estimators=150; accuracy: (test=0.957) total time=   0.1s\n",
      "[CV 1/5] END bootstrap=False, max_depth=None, max_features=sqrt, min_samples_leaf=4, min_samples_split=6, n_estimators=100; accuracy: (test=1.000) total time=   0.0s\n",
      "[CV 2/5] END bootstrap=False, max_depth=None, max_features=sqrt, min_samples_leaf=4, min_samples_split=6, n_estimators=100; accuracy: (test=0.958) total time=   0.0s\n",
      "[CV 3/5] END bootstrap=False, max_depth=None, max_features=sqrt, min_samples_leaf=4, min_samples_split=6, n_estimators=100; accuracy: (test=1.000) total time=   0.0s\n",
      "[CV 4/5] END bootstrap=False, max_depth=None, max_features=sqrt, min_samples_leaf=4, min_samples_split=6, n_estimators=100; accuracy: (test=1.000) total time=   0.0s\n",
      "[CV 5/5] END bootstrap=False, max_depth=None, max_features=sqrt, min_samples_leaf=4, min_samples_split=6, n_estimators=100; accuracy: (test=0.957) total time=   0.0s\n",
      "[CV 1/5] END bootstrap=False, max_depth=None, max_features=sqrt, min_samples_leaf=4, min_samples_split=6, n_estimators=150; accuracy: (test=1.000) total time=   0.1s\n",
      "[CV 2/5] END bootstrap=False, max_depth=None, max_features=sqrt, min_samples_leaf=4, min_samples_split=6, n_estimators=150; accuracy: (test=0.958) total time=   0.1s\n",
      "[CV 3/5] END bootstrap=False, max_depth=None, max_features=sqrt, min_samples_leaf=4, min_samples_split=6, n_estimators=150; accuracy: (test=1.000) total time=   0.1s\n",
      "[CV 4/5] END bootstrap=False, max_depth=None, max_features=sqrt, min_samples_leaf=4, min_samples_split=6, n_estimators=150; accuracy: (test=1.000) total time=   0.1s\n",
      "[CV 5/5] END bootstrap=False, max_depth=None, max_features=sqrt, min_samples_leaf=4, min_samples_split=6, n_estimators=150; accuracy: (test=0.957) total time=   0.1s\n",
      "Лучшие параметры {'bootstrap': True, 'max_depth': 6, 'max_features': 'auto', 'min_samples_leaf': 1, 'min_samples_split': 2, 'n_estimators': 100}\n"
     ]
    },
    {
     "name": "stderr",
     "output_type": "stream",
     "text": [
      "/Users/olyashaina/anaconda3/lib/python3.10/site-packages/sklearn/ensemble/_forest.py:424: FutureWarning: `max_features='auto'` has been deprecated in 1.1 and will be removed in 1.3. To keep the past behaviour, explicitly set `max_features='sqrt'` or remove this parameter as it is also the default value for RandomForestClassifiers and ExtraTreesClassifiers.\n",
      "  warn(\n"
     ]
    }
   ],
   "source": [
    "search = GridSearchCV(RandomForestClassifier(random_state=42),\n",
    "                      param_grid=random_grid, \n",
    "                      scoring=['accuracy'], \n",
    "                      n_jobs=1, \n",
    "                      cv=5,\n",
    "                      verbose=3,\n",
    "                      refit='accuracy',\n",
    "                      )\n",
    "searching_results = search.fit(X_train, y_train)\n",
    "pridictions = search.predict(X_test)\n",
    "print(f'Лучшие параметры {search.best_params_}')"
   ]
  },
  {
   "cell_type": "code",
   "execution_count": 16,
   "id": "64d6f70a",
   "metadata": {},
   "outputs": [
    {
     "name": "stderr",
     "output_type": "stream",
     "text": [
      "/Users/olyashaina/anaconda3/lib/python3.10/site-packages/sklearn/ensemble/_forest.py:424: FutureWarning: `max_features='auto'` has been deprecated in 1.1 and will be removed in 1.3. To keep the past behaviour, explicitly set `max_features='sqrt'` or remove this parameter as it is also the default value for RandomForestClassifiers and ExtraTreesClassifiers.\n",
      "  warn(\n",
      "/Users/olyashaina/anaconda3/lib/python3.10/site-packages/sklearn/ensemble/_forest.py:424: FutureWarning: `max_features='auto'` has been deprecated in 1.1 and will be removed in 1.3. To keep the past behaviour, explicitly set `max_features='sqrt'` or remove this parameter as it is also the default value for RandomForestClassifiers and ExtraTreesClassifiers.\n",
      "  warn(\n",
      "/Users/olyashaina/anaconda3/lib/python3.10/site-packages/sklearn/ensemble/_forest.py:424: FutureWarning: `max_features='auto'` has been deprecated in 1.1 and will be removed in 1.3. To keep the past behaviour, explicitly set `max_features='sqrt'` or remove this parameter as it is also the default value for RandomForestClassifiers and ExtraTreesClassifiers.\n",
      "  warn(\n",
      "/Users/olyashaina/anaconda3/lib/python3.10/site-packages/sklearn/ensemble/_forest.py:424: FutureWarning: `max_features='auto'` has been deprecated in 1.1 and will be removed in 1.3. To keep the past behaviour, explicitly set `max_features='sqrt'` or remove this parameter as it is also the default value for RandomForestClassifiers and ExtraTreesClassifiers.\n",
      "  warn(\n"
     ]
    },
    {
     "name": "stdout",
     "output_type": "stream",
     "text": [
      "Средняя точность:  0.9916666666666668\n",
      "Точность на тестовой выборке:  0.9830508474576272\n"
     ]
    },
    {
     "name": "stderr",
     "output_type": "stream",
     "text": [
      "/Users/olyashaina/anaconda3/lib/python3.10/site-packages/sklearn/ensemble/_forest.py:424: FutureWarning: `max_features='auto'` has been deprecated in 1.1 and will be removed in 1.3. To keep the past behaviour, explicitly set `max_features='sqrt'` or remove this parameter as it is also the default value for RandomForestClassifiers and ExtraTreesClassifiers.\n",
      "  warn(\n",
      "/Users/olyashaina/anaconda3/lib/python3.10/site-packages/sklearn/ensemble/_forest.py:424: FutureWarning: `max_features='auto'` has been deprecated in 1.1 and will be removed in 1.3. To keep the past behaviour, explicitly set `max_features='sqrt'` or remove this parameter as it is also the default value for RandomForestClassifiers and ExtraTreesClassifiers.\n",
      "  warn(\n"
     ]
    }
   ],
   "source": [
    "rf = RandomForestClassifier(n_estimators=130, \n",
    "                            max_depth=10,\n",
    "                            max_features='auto',\n",
    "                            bootstrap=False,\n",
    "                            n_jobs=-1, \n",
    "                            random_state=42,\n",
    "                            min_samples_leaf=1,\n",
    "                            min_samples_split = 2\n",
    "                            )\n",
    "rf = rf.fit(X_train, y_train)\n",
    "predictions = rf.predict(X_test)\n",
    "score = cross_val_score(rf, X_train, y_train, cv=5)\n",
    "print('Средняя точность: ', np.mean(score))\n",
    "print('Точность на тестовой выборке: ', accuracy_score(y_test, predictions))"
   ]
  },
  {
   "cell_type": "markdown",
   "id": "a9ac8f9b",
   "metadata": {},
   "source": [
    "Написать, какой классификатор и с камими гиперпараметрами дал в итоге наилучший результат для выбранного датасета на отложенной выборке."
   ]
  },
  {
   "cell_type": "markdown",
   "id": "32699f2b",
   "metadata": {},
   "source": [
    "RandomForestClassifier:  \n",
    "Средняя точность:  0.9913043478260869\n",
    "\n",
    "Точность на тестовой выборке:  0.9661016949152542"
   ]
  }
 ],
 "metadata": {
  "kernelspec": {
   "display_name": "Python 3 (ipykernel)",
   "language": "python",
   "name": "python3"
  },
  "language_info": {
   "codemirror_mode": {
    "name": "ipython",
    "version": 3
   },
   "file_extension": ".py",
   "mimetype": "text/x-python",
   "name": "python",
   "nbconvert_exporter": "python",
   "pygments_lexer": "ipython3",
   "version": "3.10.9"
  }
 },
 "nbformat": 4,
 "nbformat_minor": 5
}
