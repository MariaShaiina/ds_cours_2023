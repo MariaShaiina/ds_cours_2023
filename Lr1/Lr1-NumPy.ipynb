{
 "cells": [
  {
   "cell_type": "markdown",
   "id": "e5df8cb7",
   "metadata": {},
   "source": [
    "## Лабораторная работа №1: NumPy\n",
    "--------\n",
    "Шаина М.М. \n",
    "6132-010402D"
   ]
  },
  {
   "cell_type": "markdown",
   "id": "ff825111",
   "metadata": {},
   "source": [
    "### 1. Описание втроенных функций numpy"
   ]
  },
  {
   "cell_type": "code",
   "execution_count": 1,
   "id": "672a5df6",
   "metadata": {},
   "outputs": [],
   "source": [
    "#Импортируем необходимые библиотеки \n",
    "\n",
    "import numpy as np\n",
    "import pandas as pd\n",
    "\n",
    "import datetime as dt"
   ]
  },
  {
   "cell_type": "markdown",
   "id": "1c5644b0",
   "metadata": {},
   "source": [
    "#### 1.1 Cоздание массива "
   ]
  },
  {
   "cell_type": "markdown",
   "id": "6c2de1b5",
   "metadata": {},
   "source": [
    "1) Создадим массив нулей. Первым параметром передадим кол-во строк, вторым - кол-во столбцов."
   ]
  },
  {
   "cell_type": "code",
   "execution_count": 2,
   "id": "3f7db9fb",
   "metadata": {
    "scrolled": false
   },
   "outputs": [
    {
     "data": {
      "text/plain": [
       "array([[0, 0, 0, 0, 0, 0, 0],\n",
       "       [0, 0, 0, 0, 0, 0, 0],\n",
       "       [0, 0, 0, 0, 0, 0, 0]], dtype=int32)"
      ]
     },
     "execution_count": 2,
     "metadata": {},
     "output_type": "execute_result"
    }
   ],
   "source": [
    "#Создадим 2D numpy массив из нулей\n",
    "arr = np.zeros((3, 7), np.int32) \n",
    "arr"
   ]
  },
  {
   "cell_type": "markdown",
   "id": "68ec704e",
   "metadata": {},
   "source": [
    "2) Создадим массив со случайными элементами, используя функцию sample"
   ]
  },
  {
   "cell_type": "code",
   "execution_count": 3,
   "id": "a3a723c7",
   "metadata": {},
   "outputs": [
    {
     "data": {
      "text/plain": [
       "array([[0.1427039 , 0.60436401, 0.4694004 ],\n",
       "       [0.99475485, 0.02903167, 0.83309631]])"
      ]
     },
     "execution_count": 3,
     "metadata": {},
     "output_type": "execute_result"
    }
   ],
   "source": [
    "#Возвращает массив случайных чисел с размерами, указанными в кортеже (все числа - из промежутка [0, 1)).\n",
    "np.random.sample((2, 3))"
   ]
  },
  {
   "cell_type": "markdown",
   "id": "f0b48829",
   "metadata": {},
   "source": [
    "3) Сгенерируем массив случайных чисел из равномерного распределения, \n",
    "   который можно получить с помощь функции uniform."
   ]
  },
  {
   "cell_type": "code",
   "execution_count": 4,
   "id": "aa9087b8",
   "metadata": {
    "scrolled": true
   },
   "outputs": [
    {
     "data": {
      "text/plain": [
       "array([[2.07471145, 2.8566868 , 2.83707513, 5.72275148, 5.5725215 ,\n",
       "        3.08040081, 7.50763325, 2.59885887, 5.59950196, 4.45458775],\n",
       "       [3.92500628, 5.34038371, 3.80769062, 3.34188046, 3.89037243,\n",
       "        6.51040524, 3.8526468 , 4.86202395, 2.32550547, 2.44999762]])"
      ]
     },
     "execution_count": 4,
     "metadata": {},
     "output_type": "execute_result"
    }
   ],
   "source": [
    "a = np.random.uniform(2, 8, (2, 10))\n",
    "a"
   ]
  },
  {
   "cell_type": "markdown",
   "id": "c360def5",
   "metadata": {},
   "source": [
    "#### 1.2 Вывод информации о массиве"
   ]
  },
  {
   "cell_type": "code",
   "execution_count": 5,
   "id": "e7a1dd33",
   "metadata": {},
   "outputs": [
    {
     "data": {
      "text/plain": [
       "(2, 10)"
      ]
     },
     "execution_count": 5,
     "metadata": {},
     "output_type": "execute_result"
    }
   ],
   "source": [
    "#Размерность массива\n",
    "a.shape"
   ]
  },
  {
   "cell_type": "code",
   "execution_count": 6,
   "id": "a931da82",
   "metadata": {},
   "outputs": [
    {
     "data": {
      "text/plain": [
       "dtype('float64')"
      ]
     },
     "execution_count": 6,
     "metadata": {},
     "output_type": "execute_result"
    }
   ],
   "source": [
    "#Тип данных массива\n",
    "a.dtype"
   ]
  },
  {
   "cell_type": "markdown",
   "id": "6a8bb1ed",
   "metadata": {},
   "source": [
    "#### 1.3 Подмножества, срезы, индексация"
   ]
  },
  {
   "cell_type": "code",
   "execution_count": 7,
   "id": "587e6451",
   "metadata": {},
   "outputs": [
    {
     "data": {
      "text/plain": [
       "array([[ 1, 93,  9,  0],\n",
       "       [ 2,  6,  7,  9],\n",
       "       [ 4,  6,  9, 10],\n",
       "       [ 3, 34, 15,  6]])"
      ]
     },
     "execution_count": 7,
     "metadata": {},
     "output_type": "execute_result"
    }
   ],
   "source": [
    "a = np.array([[1, 93, 9, 0], \n",
    "              [2, 6, 7, 9], \n",
    "              [4, 6, 9, 10], \n",
    "              [3, 34, 15, 6]])\n",
    "a"
   ]
  },
  {
   "cell_type": "code",
   "execution_count": 8,
   "id": "c56c0ee3",
   "metadata": {},
   "outputs": [
    {
     "data": {
      "text/plain": [
       "(array([ 1, 93,  9,  0]), array([ 1, 93,  9,  0]))"
      ]
     },
     "execution_count": 8,
     "metadata": {},
     "output_type": "execute_result"
    }
   ],
   "source": [
    "#1)Выводим первую строки и все столбцы. 2)Выводим первую строку. Результат одинаковый\n",
    "a[ 0, : ], a[ 0 ]"
   ]
  },
  {
   "cell_type": "code",
   "execution_count": 9,
   "id": "050be883",
   "metadata": {},
   "outputs": [
    {
     "data": {
      "text/plain": [
       "array([[93,  9],\n",
       "       [ 6,  7],\n",
       "       [ 6,  9]])"
      ]
     },
     "execution_count": 9,
     "metadata": {},
     "output_type": "execute_result"
    }
   ],
   "source": [
    "# Получим срез массива из первых трех строк и двух столбцов (со второго по третий, т.к. индексация начинается с 0)\n",
    "a[ 0:3, 1:3 ]"
   ]
  },
  {
   "cell_type": "code",
   "execution_count": 10,
   "id": "d815d125",
   "metadata": {
    "scrolled": true
   },
   "outputs": [
    {
     "data": {
      "text/plain": [
       "array([[ 3, 34, 15,  6],\n",
       "       [ 4,  6,  9, 10],\n",
       "       [ 2,  6,  7,  9],\n",
       "       [ 1, 93,  9,  0]])"
      ]
     },
     "execution_count": 10,
     "metadata": {},
     "output_type": "execute_result"
    }
   ],
   "source": [
    "a[ ::-1 ] # Reversed array"
   ]
  },
  {
   "cell_type": "markdown",
   "id": "52662a35",
   "metadata": {},
   "source": [
    "#### 1.4 Манипуляции с матрицами"
   ]
  },
  {
   "cell_type": "code",
   "execution_count": 11,
   "id": "26c017a7",
   "metadata": {},
   "outputs": [
    {
     "data": {
      "text/plain": [
       "array([[1, 2, 3],\n",
       "       [4, 5, 6],\n",
       "       [7, 8, 9]])"
      ]
     },
     "execution_count": 11,
     "metadata": {},
     "output_type": "execute_result"
    }
   ],
   "source": [
    "#Добавить элементы в массив можно с помощью метода append\n",
    "np.append( [[1, 2, 3], [4, 5, 6]], [[7, 8, 9]], axis=0 )"
   ]
  },
  {
   "cell_type": "code",
   "execution_count": 12,
   "id": "35860906",
   "metadata": {},
   "outputs": [
    {
     "data": {
      "text/plain": [
       "array([[ 1, 93,  9,  0,  0],\n",
       "       [ 2,  6,  7,  9, 12],\n",
       "       [ 4,  6,  9, 10,  3],\n",
       "       [ 3, 34, 15,  6, 14]])"
      ]
     },
     "execution_count": 12,
     "metadata": {},
     "output_type": "execute_result"
    }
   ],
   "source": [
    "#Вставить значения в массив\n",
    "a1 = np.insert(a, [4], [[0],[12],[3],[14]], axis=1)\n",
    "a1"
   ]
  },
  {
   "cell_type": "code",
   "execution_count": 13,
   "id": "bf777afa",
   "metadata": {},
   "outputs": [
    {
     "name": "stdout",
     "output_type": "stream",
     "text": [
      "минимальное значение: 0, максимальное значение: 93\n"
     ]
    }
   ],
   "source": [
    "#Найти максимальное и минимальное число массива\n",
    "min = np.amin(a1)\n",
    "max = np.amax(a1)\n",
    "print(f\"минимальное значение: {min}, максимальное значение: {max}\")"
   ]
  },
  {
   "cell_type": "code",
   "execution_count": 14,
   "id": "18a35fdb",
   "metadata": {},
   "outputs": [
    {
     "data": {
      "text/plain": [
       "array([[ 1,  2,  4,  3],\n",
       "       [93,  6,  6, 34],\n",
       "       [ 9,  7,  9, 15],\n",
       "       [ 0,  9, 10,  6],\n",
       "       [ 0, 12,  3, 14]])"
      ]
     },
     "execution_count": 14,
     "metadata": {},
     "output_type": "execute_result"
    }
   ],
   "source": [
    "#Транспорнирование матрицы \n",
    "a1.T #  np.transpose( a1 )"
   ]
  },
  {
   "cell_type": "code",
   "execution_count": 15,
   "id": "165dadf9",
   "metadata": {},
   "outputs": [
    {
     "data": {
      "text/plain": [
       "array([[93,  0],\n",
       "       [ 6,  9],\n",
       "       [ 6, 10],\n",
       "       [34,  6]])"
      ]
     },
     "execution_count": 15,
     "metadata": {},
     "output_type": "execute_result"
    }
   ],
   "source": [
    "a1 = np.delete(a1, np.s_[::2], 1) \n",
    "a1"
   ]
  },
  {
   "cell_type": "code",
   "execution_count": 16,
   "id": "794f5eb7",
   "metadata": {},
   "outputs": [
    {
     "data": {
      "text/plain": [
       "array([93,  0,  6,  9,  6, 10, 34,  6])"
      ]
     },
     "execution_count": 16,
     "metadata": {},
     "output_type": "execute_result"
    }
   ],
   "source": [
    "a1.ravel() # a1 ссылается на одномерное представление массива"
   ]
  },
  {
   "cell_type": "markdown",
   "id": "7af788b7",
   "metadata": {},
   "source": [
    "#### 1.5 Инициализация генератора случайных чисел"
   ]
  },
  {
   "cell_type": "markdown",
   "id": "df060c46",
   "metadata": {},
   "source": [
    "seed(число) - инициализация генератора."
   ]
  },
  {
   "cell_type": "code",
   "execution_count": 17,
   "id": "df7fed78",
   "metadata": {},
   "outputs": [
    {
     "data": {
      "text/plain": [
       "array([0.65358959, 0.11500694, 0.95028286, 0.4821914 , 0.87247454,\n",
       "       0.21233268, 0.04070962, 0.39719446, 0.2331322 , 0.84174072])"
      ]
     },
     "execution_count": 17,
     "metadata": {},
     "output_type": "execute_result"
    }
   ],
   "source": [
    "np.random.seed(1000)\n",
    "np.random.random(10)"
   ]
  },
  {
   "cell_type": "markdown",
   "id": "e2fa0d7a",
   "metadata": {},
   "source": [
    "#### 1.6 Линейная алгебра "
   ]
  },
  {
   "cell_type": "code",
   "execution_count": 18,
   "id": "b47727fc",
   "metadata": {},
   "outputs": [
    {
     "data": {
      "text/plain": [
       "array([[117176, 114268, 124730, 125594, 101600],\n",
       "       [115253, 111694, 122610, 123510, 100269],\n",
       "       [102440,  98560, 108645, 109831,  89220],\n",
       "       [ 80636,  80632,  88083,  88759,  73400]])"
      ]
     },
     "execution_count": 18,
     "metadata": {},
     "output_type": "execute_result"
    }
   ],
   "source": [
    "# Matrix product of two arrays.\n",
    "a = np.random.randint(138, 456,(4,4))\n",
    "b = np.random.randint(62, 89,(4,5))\n",
    "d = a@b\n",
    "d"
   ]
  },
  {
   "cell_type": "code",
   "execution_count": 19,
   "id": "25a67231",
   "metadata": {
    "scrolled": true
   },
   "outputs": [
    {
     "data": {
      "text/plain": [
       "array([[[ 63403,  64359,  67507,  64256],\n",
       "        [ 68298,  78271,  79604,  68935],\n",
       "        [ 51094,  54737,  57246,  52160],\n",
       "        [ 70818,  77287,  78694,  71166]],\n",
       "\n",
       "       [[ 85423,  96430,  98911,  86788],\n",
       "        [ 62442,  67040,  68832,  62479],\n",
       "        [ 74677,  84127,  86581,  76294],\n",
       "        [ 78250,  87249,  89644,  79457]],\n",
       "\n",
       "       [[ 74424,  75076,  79178,  75607],\n",
       "        [ 60083,  62172,  64965,  60971],\n",
       "        [ 73323,  79617,  81179,  73910],\n",
       "        [ 89804, 101152, 103658,  91617]],\n",
       "\n",
       "       [[ 84200,  86127,  89656,  84792],\n",
       "        [ 92473,  97929, 101563,  94235],\n",
       "        [ 96377,  99362, 103263,  97887],\n",
       "        [ 91480,  92473,  96846,  91989]]])"
      ]
     },
     "execution_count": 19,
     "metadata": {},
     "output_type": "execute_result"
    }
   ],
   "source": [
    "# Matmul for N-dim >= 2 matrix\n",
    "a = np.random.randint(138, 456,(4,4,4))\n",
    "b = np.random.randint(62, 89,(4,4,4))\n",
    "\n",
    "np.dot(a,b)[:,:,-1]"
   ]
  },
  {
   "cell_type": "code",
   "execution_count": 20,
   "id": "b166d7e6",
   "metadata": {
    "scrolled": true
   },
   "outputs": [
    {
     "data": {
      "text/plain": [
       "(2, 3)"
      ]
     },
     "execution_count": 20,
     "metadata": {},
     "output_type": "execute_result"
    }
   ],
   "source": [
    "# Return the sum along diagonals of the array\n",
    "\n",
    "a = np.arange(24).reshape((2,2,2,3))\n",
    "np.trace(a).shape"
   ]
  },
  {
   "cell_type": "markdown",
   "id": "755d4721",
   "metadata": {},
   "source": [
    "### 2. OLAP-куб"
   ]
  },
  {
   "cell_type": "code",
   "execution_count": 21,
   "id": "2cee5c0f",
   "metadata": {},
   "outputs": [],
   "source": [
    "# Генерация OLAP-куба\n",
    "\n",
    "product_group_id = np.arange(0, 54)\n",
    "date = np.arange(dt.date(2023, 1, 2), dt.date(2023, 1, 31)) # Продажи за месяц (со 2-го по 31-е января)\n",
    "date = np.append(date, dt.date(2023, 1, 31)).astype(str)\n",
    "store_id = np.arange(0, 3)\n",
    "\n",
    "product_group_ratio = (np.random.rand(54) + 0.1)/1.1\n",
    "store_id_ratio = (np.random.rand(3) + 0.5)/1.5\n",
    "\n",
    "cube = np.zeros([product_group_id.size, store_id.size, date.size])\n",
    "\n",
    "for p in range(product_group_id.size):\n",
    "  for s in range(store_id.size):\n",
    "    for d in range(date.size):\n",
    "      rez = np.random.rand()*product_group_ratio[p]*store_id_ratio[s]*100\n",
    "      cube[p][s][d] = rez if rez > 0.1 else 0\n",
    "\n",
    "#print(cube)"
   ]
  },
  {
   "cell_type": "markdown",
   "id": "3d4370db",
   "metadata": {},
   "source": [
    "### 3. Агрегатные функции для OLAP-куба"
   ]
  },
  {
   "cell_type": "code",
   "execution_count": 22,
   "id": "9554cf3f",
   "metadata": {},
   "outputs": [
    {
     "name": "stdout",
     "output_type": "stream",
     "text": [
      "\n",
      "Магазин с максимальными продажами на конец месяца:\n",
      "39272.751423393536\n",
      "\n",
      "Сумма продаж всех товаров во всех магазинах за весь месяц:\n",
      "81820.21439931219\n",
      "\n",
      "Сумма продаж по дням первой недели для товаров группы 3 во всех магазинах:\n",
      "[27.92221487 34.27661757 38.53218885 15.40211099 37.09205615 45.84644231\n",
      " 15.31991536]\n",
      "\n",
      "Средние продажи группы товаров за весь месяц по каждому магазину:\n",
      "[15.71099339 24.24243915 10.55287265]\n",
      "\n",
      "Минимальные продажи по группам товаров во всех магазинах за первые 2 недели:\n",
      "[0.10886382 0.14740837 0.91302444 0.77660831 0.86523356 0.\n",
      " 1.16116998 0.28943306 0.         0.         0.88606961 0.\n",
      " 0.27796449 0.36617389 0.5119882  0.15187648 0.91778725 0.49416603\n",
      " 0.57100961 0.64851203 0.29256574 0.14240651 0.16415579 0.6805482\n",
      " 0.89274523 0.20353419 2.41526477 0.36302226 3.12284073 0.54331984\n",
      " 3.97002784 0.16949636 0.10988099 0.31907488 1.84566189 0.9965798\n",
      " 0.65649541 3.83965611 1.31981503 0.         0.79758514 0.\n",
      " 2.12827293 0.51778847 0.54649566 0.16697323 0.         0.57453671\n",
      " 0.67750382 0.23874198 0.         2.31941118 0.23454674 0.37327153]\n",
      "\n",
      "Максимальные продажи по 3 группам товаров по магазинам:\n",
      "[[41.34688486 63.35647208 28.203192  ]\n",
      " [31.70347628 52.94139273 21.49890628]\n",
      " [12.0400711  18.76199957  8.0219268 ]]\n"
     ]
    }
   ],
   "source": [
    "print(\"\\nМагазин с максимальными продажами на конец месяца:\")\n",
    "srote_1, store_2, store_3 = np.sum(cube[:,0,:]), np.sum(cube[:,1,:]), np.sum(cube[:,2,:])\n",
    "a = np.array([srote_1, store_2, store_3])\n",
    "print(np.amax(a))\n",
    "\n",
    "print(\"\\nСумма продаж всех товаров во всех магазинах за весь месяц:\")\n",
    "print(np.sum(cube[:, :, :]))\n",
    "\n",
    "print(\"\\nСумма продаж по дням первой недели для товаров группы 3 во всех магазинах:\")\n",
    "print(np.sum(cube[3:4, :, 0:7], axis = (0, 1)))\n",
    "\n",
    "print(\"\\nСредние продажи группы товаров за весь месяц по каждому магазину:\")\n",
    "print(np.mean(cube[:, :, :], axis = (0, 2)))\n",
    "\n",
    "print(\"\\nМинимальные продажи по группам товаров во всех магазинах за первые 2 недели:\")\n",
    "print(np.min(cube[:, :, 0:14], axis = (1, 2)))\n",
    "\n",
    "print(\"\\nМаксимальные продажи по 3 группам товаров по магазинам:\")\n",
    "print(np.max(cube[0:3, :, :], axis = 2))"
   ]
  }
 ],
 "metadata": {
  "kernelspec": {
   "display_name": "Python 3 (ipykernel)",
   "language": "python",
   "name": "python3"
  },
  "language_info": {
   "codemirror_mode": {
    "name": "ipython",
    "version": 3
   },
   "file_extension": ".py",
   "mimetype": "text/x-python",
   "name": "python",
   "nbconvert_exporter": "python",
   "pygments_lexer": "ipython3",
   "version": "3.9.12"
  }
 },
 "nbformat": 4,
 "nbformat_minor": 5
}
